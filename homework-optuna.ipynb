{
 "cells": [
  {
   "cell_type": "code",
   "execution_count": 1,
   "id": "e3c73119",
   "metadata": {
    "execution": {
     "iopub.execute_input": "2024-03-23T20:24:47.714309Z",
     "iopub.status.busy": "2024-03-23T20:24:47.713594Z",
     "iopub.status.idle": "2024-03-23T20:24:47.718763Z",
     "shell.execute_reply": "2024-03-23T20:24:47.717959Z"
    },
    "papermill": {
     "duration": 0.015743,
     "end_time": "2024-03-23T20:24:47.720577",
     "exception": false,
     "start_time": "2024-03-23T20:24:47.704834",
     "status": "completed"
    },
    "tags": []
   },
   "outputs": [],
   "source": [
    "#!pip install optuna"
   ]
  },
  {
   "cell_type": "code",
   "execution_count": 2,
   "id": "b8062dca",
   "metadata": {
    "execution": {
     "iopub.execute_input": "2024-03-23T20:24:47.735453Z",
     "iopub.status.busy": "2024-03-23T20:24:47.734879Z",
     "iopub.status.idle": "2024-03-23T20:24:51.746406Z",
     "shell.execute_reply": "2024-03-23T20:24:51.745400Z"
    },
    "papermill": {
     "duration": 4.021671,
     "end_time": "2024-03-23T20:24:51.748770",
     "exception": false,
     "start_time": "2024-03-23T20:24:47.727099",
     "status": "completed"
    },
    "tags": []
   },
   "outputs": [],
   "source": [
    "import pandas as pd\n",
    "import numpy as np\n",
    "import matplotlib.pyplot as plt\n",
    "from sklearn import model_selection, metrics\n",
    "import lightgbm as lgb\n",
    "import optuna"
   ]
  },
  {
   "cell_type": "code",
   "execution_count": 3,
   "id": "9e4f03c9",
   "metadata": {
    "_cell_guid": "b1076dfc-b9ad-4769-8c92-a6c4dae69d19",
    "_uuid": "8f2839f25d086af736a60e9eeb907d3b93b6e0e5",
    "execution": {
     "iopub.execute_input": "2024-03-23T20:24:51.763869Z",
     "iopub.status.busy": "2024-03-23T20:24:51.763040Z",
     "iopub.status.idle": "2024-03-23T20:24:51.855263Z",
     "shell.execute_reply": "2024-03-23T20:24:51.854418Z"
    },
    "papermill": {
     "duration": 0.102378,
     "end_time": "2024-03-23T20:24:51.857682",
     "exception": false,
     "start_time": "2024-03-23T20:24:51.755304",
     "status": "completed"
    },
    "tags": []
   },
   "outputs": [],
   "source": [
    "train_data=pd.read_csv('/kaggle/input/playground-series-s3e25/train.csv')\n",
    "test_data=pd.read_csv('/kaggle/input/playground-series-s3e25/test.csv')\n"
   ]
  },
  {
   "cell_type": "code",
   "execution_count": 4,
   "id": "32e20e8e",
   "metadata": {
    "execution": {
     "iopub.execute_input": "2024-03-23T20:24:51.873066Z",
     "iopub.status.busy": "2024-03-23T20:24:51.872517Z",
     "iopub.status.idle": "2024-03-23T20:24:51.890532Z",
     "shell.execute_reply": "2024-03-23T20:24:51.889751Z"
    },
    "papermill": {
     "duration": 0.027897,
     "end_time": "2024-03-23T20:24:51.892642",
     "exception": false,
     "start_time": "2024-03-23T20:24:51.864745",
     "status": "completed"
    },
    "tags": []
   },
   "outputs": [
    {
     "data": {
      "text/plain": [
       "count    10407.000000\n",
       "mean         4.647126\n",
       "std          1.680525\n",
       "min          1.000000\n",
       "25%          3.000000\n",
       "50%          5.500000\n",
       "75%          6.000000\n",
       "max         10.000000\n",
       "Name: Hardness, dtype: float64"
      ]
     },
     "execution_count": 4,
     "metadata": {},
     "output_type": "execute_result"
    }
   ],
   "source": [
    "train_data['Hardness'].describe()"
   ]
  },
  {
   "cell_type": "code",
   "execution_count": 5,
   "id": "12c0a811",
   "metadata": {
    "execution": {
     "iopub.execute_input": "2024-03-23T20:24:51.907328Z",
     "iopub.status.busy": "2024-03-23T20:24:51.906979Z",
     "iopub.status.idle": "2024-03-23T20:24:51.926124Z",
     "shell.execute_reply": "2024-03-23T20:24:51.925321Z"
    },
    "papermill": {
     "duration": 0.029201,
     "end_time": "2024-03-23T20:24:51.928430",
     "exception": false,
     "start_time": "2024-03-23T20:24:51.899229",
     "status": "completed"
    },
    "tags": []
   },
   "outputs": [
    {
     "data": {
      "text/html": [
       "<div>\n",
       "<style scoped>\n",
       "    .dataframe tbody tr th:only-of-type {\n",
       "        vertical-align: middle;\n",
       "    }\n",
       "\n",
       "    .dataframe tbody tr th {\n",
       "        vertical-align: top;\n",
       "    }\n",
       "\n",
       "    .dataframe thead th {\n",
       "        text-align: right;\n",
       "    }\n",
       "</style>\n",
       "<table border=\"1\" class=\"dataframe\">\n",
       "  <thead>\n",
       "    <tr style=\"text-align: right;\">\n",
       "      <th></th>\n",
       "      <th>id</th>\n",
       "      <th>allelectrons_Total</th>\n",
       "      <th>density_Total</th>\n",
       "      <th>allelectrons_Average</th>\n",
       "      <th>val_e_Average</th>\n",
       "      <th>atomicweight_Average</th>\n",
       "      <th>ionenergy_Average</th>\n",
       "      <th>el_neg_chi_Average</th>\n",
       "      <th>R_vdw_element_Average</th>\n",
       "      <th>R_cov_element_Average</th>\n",
       "      <th>zaratio_Average</th>\n",
       "      <th>density_Average</th>\n",
       "      <th>Hardness</th>\n",
       "    </tr>\n",
       "  </thead>\n",
       "  <tbody>\n",
       "    <tr>\n",
       "      <th>0</th>\n",
       "      <td>0</td>\n",
       "      <td>100.0</td>\n",
       "      <td>0.841611</td>\n",
       "      <td>10.0</td>\n",
       "      <td>4.8</td>\n",
       "      <td>20.612526</td>\n",
       "      <td>11.08810</td>\n",
       "      <td>2.766</td>\n",
       "      <td>1.732</td>\n",
       "      <td>0.86</td>\n",
       "      <td>0.496070</td>\n",
       "      <td>0.91457</td>\n",
       "      <td>6.0</td>\n",
       "    </tr>\n",
       "    <tr>\n",
       "      <th>1</th>\n",
       "      <td>1</td>\n",
       "      <td>100.0</td>\n",
       "      <td>7.558488</td>\n",
       "      <td>10.0</td>\n",
       "      <td>4.8</td>\n",
       "      <td>20.298893</td>\n",
       "      <td>12.04083</td>\n",
       "      <td>2.755</td>\n",
       "      <td>1.631</td>\n",
       "      <td>0.91</td>\n",
       "      <td>0.492719</td>\n",
       "      <td>0.71760</td>\n",
       "      <td>6.5</td>\n",
       "    </tr>\n",
       "  </tbody>\n",
       "</table>\n",
       "</div>"
      ],
      "text/plain": [
       "   id  allelectrons_Total  density_Total  allelectrons_Average  val_e_Average  \\\n",
       "0   0               100.0       0.841611                  10.0            4.8   \n",
       "1   1               100.0       7.558488                  10.0            4.8   \n",
       "\n",
       "   atomicweight_Average  ionenergy_Average  el_neg_chi_Average  \\\n",
       "0             20.612526           11.08810               2.766   \n",
       "1             20.298893           12.04083               2.755   \n",
       "\n",
       "   R_vdw_element_Average  R_cov_element_Average  zaratio_Average  \\\n",
       "0                  1.732                   0.86         0.496070   \n",
       "1                  1.631                   0.91         0.492719   \n",
       "\n",
       "   density_Average  Hardness  \n",
       "0          0.91457       6.0  \n",
       "1          0.71760       6.5  "
      ]
     },
     "execution_count": 5,
     "metadata": {},
     "output_type": "execute_result"
    }
   ],
   "source": [
    "train_data.head(2)"
   ]
  },
  {
   "cell_type": "code",
   "execution_count": 6,
   "id": "b6c32a6f",
   "metadata": {
    "execution": {
     "iopub.execute_input": "2024-03-23T20:24:51.943967Z",
     "iopub.status.busy": "2024-03-23T20:24:51.943171Z",
     "iopub.status.idle": "2024-03-23T20:24:51.960132Z",
     "shell.execute_reply": "2024-03-23T20:24:51.959145Z"
    },
    "papermill": {
     "duration": 0.02692,
     "end_time": "2024-03-23T20:24:51.962175",
     "exception": false,
     "start_time": "2024-03-23T20:24:51.935255",
     "status": "completed"
    },
    "tags": []
   },
   "outputs": [
    {
     "data": {
      "text/html": [
       "<div>\n",
       "<style scoped>\n",
       "    .dataframe tbody tr th:only-of-type {\n",
       "        vertical-align: middle;\n",
       "    }\n",
       "\n",
       "    .dataframe tbody tr th {\n",
       "        vertical-align: top;\n",
       "    }\n",
       "\n",
       "    .dataframe thead th {\n",
       "        text-align: right;\n",
       "    }\n",
       "</style>\n",
       "<table border=\"1\" class=\"dataframe\">\n",
       "  <thead>\n",
       "    <tr style=\"text-align: right;\">\n",
       "      <th></th>\n",
       "      <th>id</th>\n",
       "      <th>allelectrons_total</th>\n",
       "      <th>density_total</th>\n",
       "      <th>allelectrons_average</th>\n",
       "      <th>val_e_average</th>\n",
       "      <th>atomicweight_average</th>\n",
       "      <th>ionenergy_average</th>\n",
       "      <th>el_neg_chi_average</th>\n",
       "      <th>r_vdw_element_average</th>\n",
       "      <th>r_cov_element_average</th>\n",
       "      <th>zaratio_average</th>\n",
       "      <th>density_average</th>\n",
       "      <th>hardness</th>\n",
       "    </tr>\n",
       "  </thead>\n",
       "  <tbody>\n",
       "    <tr>\n",
       "      <th>0</th>\n",
       "      <td>0</td>\n",
       "      <td>100.0</td>\n",
       "      <td>0.841611</td>\n",
       "      <td>10.0</td>\n",
       "      <td>4.8</td>\n",
       "      <td>20.612526</td>\n",
       "      <td>11.08810</td>\n",
       "      <td>2.766</td>\n",
       "      <td>1.732</td>\n",
       "      <td>0.86</td>\n",
       "      <td>0.496070</td>\n",
       "      <td>0.91457</td>\n",
       "      <td>6.0</td>\n",
       "    </tr>\n",
       "    <tr>\n",
       "      <th>1</th>\n",
       "      <td>1</td>\n",
       "      <td>100.0</td>\n",
       "      <td>7.558488</td>\n",
       "      <td>10.0</td>\n",
       "      <td>4.8</td>\n",
       "      <td>20.298893</td>\n",
       "      <td>12.04083</td>\n",
       "      <td>2.755</td>\n",
       "      <td>1.631</td>\n",
       "      <td>0.91</td>\n",
       "      <td>0.492719</td>\n",
       "      <td>0.71760</td>\n",
       "      <td>6.5</td>\n",
       "    </tr>\n",
       "  </tbody>\n",
       "</table>\n",
       "</div>"
      ],
      "text/plain": [
       "   id  allelectrons_total  density_total  allelectrons_average  val_e_average  \\\n",
       "0   0               100.0       0.841611                  10.0            4.8   \n",
       "1   1               100.0       7.558488                  10.0            4.8   \n",
       "\n",
       "   atomicweight_average  ionenergy_average  el_neg_chi_average  \\\n",
       "0             20.612526           11.08810               2.766   \n",
       "1             20.298893           12.04083               2.755   \n",
       "\n",
       "   r_vdw_element_average  r_cov_element_average  zaratio_average  \\\n",
       "0                  1.732                   0.86         0.496070   \n",
       "1                  1.631                   0.91         0.492719   \n",
       "\n",
       "   density_average  hardness  \n",
       "0          0.91457       6.0  \n",
       "1          0.71760       6.5  "
      ]
     },
     "execution_count": 6,
     "metadata": {},
     "output_type": "execute_result"
    }
   ],
   "source": [
    "train_data.columns = train_data.columns.str.lower()\n",
    "train_data.head(2)"
   ]
  },
  {
   "cell_type": "code",
   "execution_count": 7,
   "id": "8b3fa9c4",
   "metadata": {
    "execution": {
     "iopub.execute_input": "2024-03-23T20:24:51.978617Z",
     "iopub.status.busy": "2024-03-23T20:24:51.977900Z",
     "iopub.status.idle": "2024-03-23T20:24:52.001031Z",
     "shell.execute_reply": "2024-03-23T20:24:51.999940Z"
    },
    "papermill": {
     "duration": 0.033461,
     "end_time": "2024-03-23T20:24:52.003129",
     "exception": false,
     "start_time": "2024-03-23T20:24:51.969668",
     "status": "completed"
    },
    "tags": []
   },
   "outputs": [
    {
     "data": {
      "text/html": [
       "<div>\n",
       "<style scoped>\n",
       "    .dataframe tbody tr th:only-of-type {\n",
       "        vertical-align: middle;\n",
       "    }\n",
       "\n",
       "    .dataframe tbody tr th {\n",
       "        vertical-align: top;\n",
       "    }\n",
       "\n",
       "    .dataframe thead th {\n",
       "        text-align: right;\n",
       "    }\n",
       "</style>\n",
       "<table border=\"1\" class=\"dataframe\">\n",
       "  <thead>\n",
       "    <tr style=\"text-align: right;\">\n",
       "      <th></th>\n",
       "      <th>allelectrons_total</th>\n",
       "      <th>density_total</th>\n",
       "      <th>allelectrons_average</th>\n",
       "      <th>val_e_average</th>\n",
       "      <th>atomicweight_average</th>\n",
       "      <th>ionenergy_average</th>\n",
       "      <th>el_neg_chi_average</th>\n",
       "      <th>r_vdw_element_average</th>\n",
       "      <th>r_cov_element_average</th>\n",
       "      <th>zaratio_average</th>\n",
       "      <th>density_average</th>\n",
       "      <th>hardness</th>\n",
       "    </tr>\n",
       "  </thead>\n",
       "  <tbody>\n",
       "    <tr>\n",
       "      <th>0</th>\n",
       "      <td>100.0</td>\n",
       "      <td>0.841611</td>\n",
       "      <td>10.0</td>\n",
       "      <td>4.8</td>\n",
       "      <td>20.612526</td>\n",
       "      <td>11.08810</td>\n",
       "      <td>2.766</td>\n",
       "      <td>1.732</td>\n",
       "      <td>0.86</td>\n",
       "      <td>0.496070</td>\n",
       "      <td>0.91457</td>\n",
       "      <td>6.0</td>\n",
       "    </tr>\n",
       "    <tr>\n",
       "      <th>1</th>\n",
       "      <td>100.0</td>\n",
       "      <td>7.558488</td>\n",
       "      <td>10.0</td>\n",
       "      <td>4.8</td>\n",
       "      <td>20.298893</td>\n",
       "      <td>12.04083</td>\n",
       "      <td>2.755</td>\n",
       "      <td>1.631</td>\n",
       "      <td>0.91</td>\n",
       "      <td>0.492719</td>\n",
       "      <td>0.71760</td>\n",
       "      <td>6.5</td>\n",
       "    </tr>\n",
       "  </tbody>\n",
       "</table>\n",
       "</div>"
      ],
      "text/plain": [
       "   allelectrons_total  density_total  allelectrons_average  val_e_average  \\\n",
       "0               100.0       0.841611                  10.0            4.8   \n",
       "1               100.0       7.558488                  10.0            4.8   \n",
       "\n",
       "   atomicweight_average  ionenergy_average  el_neg_chi_average  \\\n",
       "0             20.612526           11.08810               2.766   \n",
       "1             20.298893           12.04083               2.755   \n",
       "\n",
       "   r_vdw_element_average  r_cov_element_average  zaratio_average  \\\n",
       "0                  1.732                   0.86         0.496070   \n",
       "1                  1.631                   0.91         0.492719   \n",
       "\n",
       "   density_average  hardness  \n",
       "0          0.91457       6.0  \n",
       "1          0.71760       6.5  "
      ]
     },
     "execution_count": 7,
     "metadata": {},
     "output_type": "execute_result"
    }
   ],
   "source": [
    "train_data.drop(columns=['id'],inplace=True)\n",
    "train_data.head(2)"
   ]
  },
  {
   "cell_type": "code",
   "execution_count": 8,
   "id": "45d6cbd4",
   "metadata": {
    "execution": {
     "iopub.execute_input": "2024-03-23T20:24:52.018711Z",
     "iopub.status.busy": "2024-03-23T20:24:52.018376Z",
     "iopub.status.idle": "2024-03-23T20:24:52.024433Z",
     "shell.execute_reply": "2024-03-23T20:24:52.023519Z"
    },
    "papermill": {
     "duration": 0.01619,
     "end_time": "2024-03-23T20:24:52.026458",
     "exception": false,
     "start_time": "2024-03-23T20:24:52.010268",
     "status": "completed"
    },
    "tags": []
   },
   "outputs": [],
   "source": [
    "y_train = train_data['hardness']\n",
    "X_train = train_data.drop(columns='hardness')"
   ]
  },
  {
   "cell_type": "code",
   "execution_count": 9,
   "id": "90ef0ac7",
   "metadata": {
    "execution": {
     "iopub.execute_input": "2024-03-23T20:24:52.043106Z",
     "iopub.status.busy": "2024-03-23T20:24:52.042776Z",
     "iopub.status.idle": "2024-03-23T20:24:52.051227Z",
     "shell.execute_reply": "2024-03-23T20:24:52.050167Z"
    },
    "papermill": {
     "duration": 0.018938,
     "end_time": "2024-03-23T20:24:52.053367",
     "exception": false,
     "start_time": "2024-03-23T20:24:52.034429",
     "status": "completed"
    },
    "tags": []
   },
   "outputs": [],
   "source": [
    "y = train_data['hardness']\n",
    "X = train_data.drop(columns='hardness')"
   ]
  },
  {
   "cell_type": "code",
   "execution_count": 10,
   "id": "89486773",
   "metadata": {
    "execution": {
     "iopub.execute_input": "2024-03-23T20:24:52.069640Z",
     "iopub.status.busy": "2024-03-23T20:24:52.068951Z",
     "iopub.status.idle": "2024-03-23T20:24:52.085736Z",
     "shell.execute_reply": "2024-03-23T20:24:52.084385Z"
    },
    "papermill": {
     "duration": 0.026939,
     "end_time": "2024-03-23T20:24:52.087603",
     "exception": false,
     "start_time": "2024-03-23T20:24:52.060664",
     "status": "completed"
    },
    "tags": []
   },
   "outputs": [
    {
     "name": "stdout",
     "output_type": "stream",
     "text": [
      "Train: 6243 samples \t 60%\n",
      "Test:  2082 samples \t 20%\n",
      "Val:   2082 samples \t 20%\n"
     ]
    }
   ],
   "source": [
    "from sklearn.model_selection import train_test_split\n",
    "X_train, X_test, y_train, y_test = train_test_split(X, y,\n",
    "                                                    train_size=0.8,\n",
    "                                                    random_state=42)\n",
    "X_train, X_val, y_train, y_val = train_test_split(X_train, y_train,\n",
    "                                                  train_size=0.75,\n",
    "                                                  random_state=42)\n",
    "print(f'Train: {X_train.shape[0]} samples \\t {round(X_train.shape[0] / X.shape[0] * 100)}%')\n",
    "print(f'Test:  {X_test.shape[0]} samples \\t {round(X_test.shape[0] / X.shape[0] * 100)}%')\n",
    "print(f'Val:   {X_val.shape[0]} samples \\t {round(X_val.shape[0] / X.shape[0] * 100)}%')"
   ]
  },
  {
   "cell_type": "code",
   "execution_count": 11,
   "id": "dab7db3b",
   "metadata": {
    "execution": {
     "iopub.execute_input": "2024-03-23T20:24:52.103888Z",
     "iopub.status.busy": "2024-03-23T20:24:52.103485Z",
     "iopub.status.idle": "2024-03-23T20:24:52.306670Z",
     "shell.execute_reply": "2024-03-23T20:24:52.305538Z"
    },
    "papermill": {
     "duration": 0.214235,
     "end_time": "2024-03-23T20:24:52.309086",
     "exception": false,
     "start_time": "2024-03-23T20:24:52.094851",
     "status": "completed"
    },
    "tags": []
   },
   "outputs": [],
   "source": [
    "from sklearn.compose import ColumnTransformer\n",
    "from sklearn.pipeline import Pipeline\n",
    "from sklearn.impute import SimpleImputer\n",
    "from sklearn.preprocessing import OneHotEncoder"
   ]
  },
  {
   "cell_type": "code",
   "execution_count": 12,
   "id": "afd9adb1",
   "metadata": {
    "execution": {
     "iopub.execute_input": "2024-03-23T20:24:52.326007Z",
     "iopub.status.busy": "2024-03-23T20:24:52.325631Z",
     "iopub.status.idle": "2024-03-23T20:24:52.335166Z",
     "shell.execute_reply": "2024-03-23T20:24:52.334170Z"
    },
    "papermill": {
     "duration": 0.020268,
     "end_time": "2024-03-23T20:24:52.337124",
     "exception": false,
     "start_time": "2024-03-23T20:24:52.316856",
     "status": "completed"
    },
    "tags": []
   },
   "outputs": [
    {
     "name": "stdout",
     "output_type": "stream",
     "text": [
      "Train: 6243 samples \t 75%\n",
      "Test:  1665 samples \t 20%\n",
      "Val:   417 samples \t 5%\n"
     ]
    }
   ],
   "source": [
    "from sklearn.model_selection import train_test_split\n",
    "\n",
    "\n",
    "X_test, X_val, y_test, y_val = train_test_split(X_test, y_test,\n",
    "                                                  train_size=0.8,\n",
    "                                                  random_state=42)\n",
    "total_len = len(X_train) + len(X_val) + len(X_test)\n",
    "\n",
    "print(f'Train: {X_train.shape[0]} samples \\t {round(X_train.shape[0] / total_len * 100)}%')\n",
    "print(f'Test:  {X_test.shape[0]} samples \\t {round(X_test.shape[0] / total_len * 100)}%')\n",
    "print(f'Val:   {X_val.shape[0]} samples \\t {round(X_val.shape[0] / total_len * 100)}%')"
   ]
  },
  {
   "cell_type": "code",
   "execution_count": 13,
   "id": "2d8f17b6",
   "metadata": {
    "execution": {
     "iopub.execute_input": "2024-03-23T20:24:52.353783Z",
     "iopub.status.busy": "2024-03-23T20:24:52.353406Z",
     "iopub.status.idle": "2024-03-23T20:24:52.392282Z",
     "shell.execute_reply": "2024-03-23T20:24:52.391187Z"
    },
    "papermill": {
     "duration": 0.050061,
     "end_time": "2024-03-23T20:24:52.394680",
     "exception": false,
     "start_time": "2024-03-23T20:24:52.344619",
     "status": "completed"
    },
    "tags": []
   },
   "outputs": [
    {
     "data": {
      "text/html": [
       "<style>#sk-container-id-1 {color: black;background-color: white;}#sk-container-id-1 pre{padding: 0;}#sk-container-id-1 div.sk-toggleable {background-color: white;}#sk-container-id-1 label.sk-toggleable__label {cursor: pointer;display: block;width: 100%;margin-bottom: 0;padding: 0.3em;box-sizing: border-box;text-align: center;}#sk-container-id-1 label.sk-toggleable__label-arrow:before {content: \"▸\";float: left;margin-right: 0.25em;color: #696969;}#sk-container-id-1 label.sk-toggleable__label-arrow:hover:before {color: black;}#sk-container-id-1 div.sk-estimator:hover label.sk-toggleable__label-arrow:before {color: black;}#sk-container-id-1 div.sk-toggleable__content {max-height: 0;max-width: 0;overflow: hidden;text-align: left;background-color: #f0f8ff;}#sk-container-id-1 div.sk-toggleable__content pre {margin: 0.2em;color: black;border-radius: 0.25em;background-color: #f0f8ff;}#sk-container-id-1 input.sk-toggleable__control:checked~div.sk-toggleable__content {max-height: 200px;max-width: 100%;overflow: auto;}#sk-container-id-1 input.sk-toggleable__control:checked~label.sk-toggleable__label-arrow:before {content: \"▾\";}#sk-container-id-1 div.sk-estimator input.sk-toggleable__control:checked~label.sk-toggleable__label {background-color: #d4ebff;}#sk-container-id-1 div.sk-label input.sk-toggleable__control:checked~label.sk-toggleable__label {background-color: #d4ebff;}#sk-container-id-1 input.sk-hidden--visually {border: 0;clip: rect(1px 1px 1px 1px);clip: rect(1px, 1px, 1px, 1px);height: 1px;margin: -1px;overflow: hidden;padding: 0;position: absolute;width: 1px;}#sk-container-id-1 div.sk-estimator {font-family: monospace;background-color: #f0f8ff;border: 1px dotted black;border-radius: 0.25em;box-sizing: border-box;margin-bottom: 0.5em;}#sk-container-id-1 div.sk-estimator:hover {background-color: #d4ebff;}#sk-container-id-1 div.sk-parallel-item::after {content: \"\";width: 100%;border-bottom: 1px solid gray;flex-grow: 1;}#sk-container-id-1 div.sk-label:hover label.sk-toggleable__label {background-color: #d4ebff;}#sk-container-id-1 div.sk-serial::before {content: \"\";position: absolute;border-left: 1px solid gray;box-sizing: border-box;top: 0;bottom: 0;left: 50%;z-index: 0;}#sk-container-id-1 div.sk-serial {display: flex;flex-direction: column;align-items: center;background-color: white;padding-right: 0.2em;padding-left: 0.2em;position: relative;}#sk-container-id-1 div.sk-item {position: relative;z-index: 1;}#sk-container-id-1 div.sk-parallel {display: flex;align-items: stretch;justify-content: center;background-color: white;position: relative;}#sk-container-id-1 div.sk-item::before, #sk-container-id-1 div.sk-parallel-item::before {content: \"\";position: absolute;border-left: 1px solid gray;box-sizing: border-box;top: 0;bottom: 0;left: 50%;z-index: -1;}#sk-container-id-1 div.sk-parallel-item {display: flex;flex-direction: column;z-index: 1;position: relative;background-color: white;}#sk-container-id-1 div.sk-parallel-item:first-child::after {align-self: flex-end;width: 50%;}#sk-container-id-1 div.sk-parallel-item:last-child::after {align-self: flex-start;width: 50%;}#sk-container-id-1 div.sk-parallel-item:only-child::after {width: 0;}#sk-container-id-1 div.sk-dashed-wrapped {border: 1px dashed gray;margin: 0 0.4em 0.5em 0.4em;box-sizing: border-box;padding-bottom: 0.4em;background-color: white;}#sk-container-id-1 div.sk-label label {font-family: monospace;font-weight: bold;display: inline-block;line-height: 1.2em;}#sk-container-id-1 div.sk-label-container {text-align: center;}#sk-container-id-1 div.sk-container {/* jupyter's `normalize.less` sets `[hidden] { display: none; }` but bootstrap.min.css set `[hidden] { display: none !important; }` so we also need the `!important` here to be able to override the default hidden behavior on the sphinx rendered scikit-learn.org. See: https://github.com/scikit-learn/scikit-learn/issues/21755 */display: inline-block !important;position: relative;}#sk-container-id-1 div.sk-text-repr-fallback {display: none;}</style><div id=\"sk-container-id-1\" class=\"sk-top-container\"><div class=\"sk-text-repr-fallback\"><pre>ColumnTransformer(transformers=[(&#x27;num&#x27;,\n",
       "                                 Pipeline(steps=[(&#x27;imputer&#x27;,\n",
       "                                                  SimpleImputer(strategy=&#x27;median&#x27;))]),\n",
       "                                 Index([&#x27;allelectrons_total&#x27;, &#x27;density_total&#x27;, &#x27;allelectrons_average&#x27;,\n",
       "       &#x27;val_e_average&#x27;, &#x27;atomicweight_average&#x27;, &#x27;ionenergy_average&#x27;,\n",
       "       &#x27;el_neg_chi_average&#x27;, &#x27;r_vdw_element_average&#x27;, &#x27;r_cov_element_average&#x27;,\n",
       "       &#x27;zaratio_average&#x27;, &#x27;density_average&#x27;],\n",
       "      dtype=&#x27;object&#x27;)),\n",
       "                                (&#x27;cat&#x27;,\n",
       "                                 Pipeline(steps=[(&#x27;imputer&#x27;,\n",
       "                                                  SimpleImputer(strategy=&#x27;most_frequent&#x27;)),\n",
       "                                                 (&#x27;encoder&#x27;,\n",
       "                                                  OneHotEncoder(handle_unknown=&#x27;ignore&#x27;,\n",
       "                                                                sparse_output=False))]),\n",
       "                                 Index([], dtype=&#x27;object&#x27;))])</pre><b>In a Jupyter environment, please rerun this cell to show the HTML representation or trust the notebook. <br />On GitHub, the HTML representation is unable to render, please try loading this page with nbviewer.org.</b></div><div class=\"sk-container\" hidden><div class=\"sk-item sk-dashed-wrapped\"><div class=\"sk-label-container\"><div class=\"sk-label sk-toggleable\"><input class=\"sk-toggleable__control sk-hidden--visually\" id=\"sk-estimator-id-1\" type=\"checkbox\" ><label for=\"sk-estimator-id-1\" class=\"sk-toggleable__label sk-toggleable__label-arrow\">ColumnTransformer</label><div class=\"sk-toggleable__content\"><pre>ColumnTransformer(transformers=[(&#x27;num&#x27;,\n",
       "                                 Pipeline(steps=[(&#x27;imputer&#x27;,\n",
       "                                                  SimpleImputer(strategy=&#x27;median&#x27;))]),\n",
       "                                 Index([&#x27;allelectrons_total&#x27;, &#x27;density_total&#x27;, &#x27;allelectrons_average&#x27;,\n",
       "       &#x27;val_e_average&#x27;, &#x27;atomicweight_average&#x27;, &#x27;ionenergy_average&#x27;,\n",
       "       &#x27;el_neg_chi_average&#x27;, &#x27;r_vdw_element_average&#x27;, &#x27;r_cov_element_average&#x27;,\n",
       "       &#x27;zaratio_average&#x27;, &#x27;density_average&#x27;],\n",
       "      dtype=&#x27;object&#x27;)),\n",
       "                                (&#x27;cat&#x27;,\n",
       "                                 Pipeline(steps=[(&#x27;imputer&#x27;,\n",
       "                                                  SimpleImputer(strategy=&#x27;most_frequent&#x27;)),\n",
       "                                                 (&#x27;encoder&#x27;,\n",
       "                                                  OneHotEncoder(handle_unknown=&#x27;ignore&#x27;,\n",
       "                                                                sparse_output=False))]),\n",
       "                                 Index([], dtype=&#x27;object&#x27;))])</pre></div></div></div><div class=\"sk-parallel\"><div class=\"sk-parallel-item\"><div class=\"sk-item\"><div class=\"sk-label-container\"><div class=\"sk-label sk-toggleable\"><input class=\"sk-toggleable__control sk-hidden--visually\" id=\"sk-estimator-id-2\" type=\"checkbox\" ><label for=\"sk-estimator-id-2\" class=\"sk-toggleable__label sk-toggleable__label-arrow\">num</label><div class=\"sk-toggleable__content\"><pre>Index([&#x27;allelectrons_total&#x27;, &#x27;density_total&#x27;, &#x27;allelectrons_average&#x27;,\n",
       "       &#x27;val_e_average&#x27;, &#x27;atomicweight_average&#x27;, &#x27;ionenergy_average&#x27;,\n",
       "       &#x27;el_neg_chi_average&#x27;, &#x27;r_vdw_element_average&#x27;, &#x27;r_cov_element_average&#x27;,\n",
       "       &#x27;zaratio_average&#x27;, &#x27;density_average&#x27;],\n",
       "      dtype=&#x27;object&#x27;)</pre></div></div></div><div class=\"sk-serial\"><div class=\"sk-item\"><div class=\"sk-serial\"><div class=\"sk-item\"><div class=\"sk-estimator sk-toggleable\"><input class=\"sk-toggleable__control sk-hidden--visually\" id=\"sk-estimator-id-3\" type=\"checkbox\" ><label for=\"sk-estimator-id-3\" class=\"sk-toggleable__label sk-toggleable__label-arrow\">SimpleImputer</label><div class=\"sk-toggleable__content\"><pre>SimpleImputer(strategy=&#x27;median&#x27;)</pre></div></div></div></div></div></div></div></div><div class=\"sk-parallel-item\"><div class=\"sk-item\"><div class=\"sk-label-container\"><div class=\"sk-label sk-toggleable\"><input class=\"sk-toggleable__control sk-hidden--visually\" id=\"sk-estimator-id-4\" type=\"checkbox\" ><label for=\"sk-estimator-id-4\" class=\"sk-toggleable__label sk-toggleable__label-arrow\">cat</label><div class=\"sk-toggleable__content\"><pre>Index([], dtype=&#x27;object&#x27;)</pre></div></div></div><div class=\"sk-serial\"><div class=\"sk-item\"><div class=\"sk-serial\"><div class=\"sk-item\"><div class=\"sk-estimator sk-toggleable\"><input class=\"sk-toggleable__control sk-hidden--visually\" id=\"sk-estimator-id-5\" type=\"checkbox\" ><label for=\"sk-estimator-id-5\" class=\"sk-toggleable__label sk-toggleable__label-arrow\">SimpleImputer</label><div class=\"sk-toggleable__content\"><pre>SimpleImputer(strategy=&#x27;most_frequent&#x27;)</pre></div></div></div><div class=\"sk-item\"><div class=\"sk-estimator sk-toggleable\"><input class=\"sk-toggleable__control sk-hidden--visually\" id=\"sk-estimator-id-6\" type=\"checkbox\" ><label for=\"sk-estimator-id-6\" class=\"sk-toggleable__label sk-toggleable__label-arrow\">OneHotEncoder</label><div class=\"sk-toggleable__content\"><pre>OneHotEncoder(handle_unknown=&#x27;ignore&#x27;, sparse_output=False)</pre></div></div></div></div></div></div></div></div></div></div></div></div>"
      ],
      "text/plain": [
       "ColumnTransformer(transformers=[('num',\n",
       "                                 Pipeline(steps=[('imputer',\n",
       "                                                  SimpleImputer(strategy='median'))]),\n",
       "                                 Index(['allelectrons_total', 'density_total', 'allelectrons_average',\n",
       "       'val_e_average', 'atomicweight_average', 'ionenergy_average',\n",
       "       'el_neg_chi_average', 'r_vdw_element_average', 'r_cov_element_average',\n",
       "       'zaratio_average', 'density_average'],\n",
       "      dtype='object')),\n",
       "                                ('cat',\n",
       "                                 Pipeline(steps=[('imputer',\n",
       "                                                  SimpleImputer(strategy='most_frequent')),\n",
       "                                                 ('encoder',\n",
       "                                                  OneHotEncoder(handle_unknown='ignore',\n",
       "                                                                sparse_output=False))]),\n",
       "                                 Index([], dtype='object'))])"
      ]
     },
     "execution_count": 13,
     "metadata": {},
     "output_type": "execute_result"
    }
   ],
   "source": [
    "num_columns = X.select_dtypes(include=\"number\").columns\n",
    "cat_columns = X.select_dtypes(include=\"object\").columns\n",
    "\n",
    "\n",
    "num_transformer = Pipeline(\n",
    "    steps=[(\"imputer\", SimpleImputer(strategy=\"median\"))])\n",
    "\n",
    "\n",
    "cat_transformer = Pipeline(\n",
    "    steps=[(\"imputer\", SimpleImputer(strategy=\"most_frequent\")),\n",
    "           (\"encoder\", OneHotEncoder(sparse_output=False,handle_unknown='ignore'))])\n",
    "\n",
    "\n",
    "preprocessor = ColumnTransformer(\n",
    "    transformers=[\n",
    "        (\"num\", num_transformer, num_columns),\n",
    "        (\"cat\", cat_transformer, cat_columns),])\n",
    "preprocessor.set_output(transform='pandas')\n",
    "preprocessor"
   ]
  },
  {
   "cell_type": "code",
   "execution_count": 14,
   "id": "a73cef92",
   "metadata": {
    "execution": {
     "iopub.execute_input": "2024-03-23T20:24:52.412130Z",
     "iopub.status.busy": "2024-03-23T20:24:52.411743Z",
     "iopub.status.idle": "2024-03-23T20:24:52.443480Z",
     "shell.execute_reply": "2024-03-23T20:24:52.442319Z"
    },
    "papermill": {
     "duration": 0.043616,
     "end_time": "2024-03-23T20:24:52.446218",
     "exception": false,
     "start_time": "2024-03-23T20:24:52.402602",
     "status": "completed"
    },
    "tags": []
   },
   "outputs": [],
   "source": [
    "X_train = preprocessor.fit_transform(X_train)\n",
    "X_val = preprocessor.transform(X_val)\n",
    "X_test = preprocessor.transform(X_test)"
   ]
  },
  {
   "cell_type": "code",
   "execution_count": 15,
   "id": "247a5aee",
   "metadata": {
    "execution": {
     "iopub.execute_input": "2024-03-23T20:24:52.464693Z",
     "iopub.status.busy": "2024-03-23T20:24:52.464274Z",
     "iopub.status.idle": "2024-03-23T20:24:52.518801Z",
     "shell.execute_reply": "2024-03-23T20:24:52.517889Z"
    },
    "papermill": {
     "duration": 0.066922,
     "end_time": "2024-03-23T20:24:52.521740",
     "exception": false,
     "start_time": "2024-03-23T20:24:52.454818",
     "status": "completed"
    },
    "tags": []
   },
   "outputs": [],
   "source": [
    "from sklearn.linear_model import LinearRegression\n",
    "from sklearn.tree import DecisionTreeRegressor\n",
    "\n",
    "\n",
    "def objective(trial):\n",
    "  \"\"\"\n",
    "  Функція objective для Optuna, яка навчає модель LightGBMRegressor\n",
    "  на тренувальному наборі даних та оцінює її на тестовому наборі.\n",
    "\n",
    "  Args:\n",
    "      trial (optuna.Trial): Об'єкт Optuna, що представляє один набір гіперпараметрів.\n",
    "\n",
    "  Returns:\n",
    "      float: Значення метрики оцінки (R2).\n",
    "  \"\"\"\n",
    "\n",
    "  model_type = trial.suggest_categorical(\"model_type\", ['LinReg', 'DT', 'LGBM'])\n",
    "\n",
    "  if model_type == 'LinReg':\n",
    "    model = LinearRegression()\n",
    "\n",
    "  elif model_type == 'DT':\n",
    "    model = DecisionTreeRegressor(\n",
    "        max_depth = trial.suggest_int('max_depth', 2, 12),\n",
    "        min_samples_leaf = trial.suggest_int('min_samples_leaf', 5, 100)\n",
    "    )\n",
    "\n",
    "  elif model_type == 'LGBM':\n",
    "    model = lgb.LGBMRegressor(\n",
    "        objective = 'mse',\n",
    "        verbose=-1,\n",
    "        boosting_type=trial.suggest_categorical('boosting_type', ['gbdt', 'dart']),\n",
    "        lambda_l1 = trial.suggest_float('lambda_l1', 1e-8, 10.0, log=True),\n",
    "        lambda_l2 = trial.suggest_float('lambda_l2', 1e-8, 10.0, log=True),\n",
    "        num_leaves = trial.suggest_int('num_leaves', 2, 256),\n",
    "        feature_fraction = trial.suggest_float('feature_fraction', 0.4, 1.0),\n",
    "        bagging_fraction = trial.suggest_float('bagging_fraction', 0.4, 1.0),\n",
    "        bagging_freq = trial.suggest_int('bagging_freq', 1, 7),\n",
    "        min_child_samples = trial.suggest_int('min_child_samples', 5, 100),\n",
    "\n",
    "\n",
    "    )\n",
    "\n",
    "  # Навчання моделі на тренувальному наборі даних:\n",
    "\n",
    "  model.fit(X_train, y_train)\n",
    "\n",
    "  # Оцінка моделі на тестовому наборі даних:\n",
    "\n",
    "  y_pred = model.predict(X_val)\n",
    "  r2 = metrics.r2_score(y_val, y_pred)\n",
    "\n",
    "  # Повернення значення метрики:\n",
    "  return r2"
   ]
  },
  {
   "cell_type": "code",
   "execution_count": 16,
   "id": "e0cd9320",
   "metadata": {
    "execution": {
     "iopub.execute_input": "2024-03-23T20:24:52.539336Z",
     "iopub.status.busy": "2024-03-23T20:24:52.538884Z",
     "iopub.status.idle": "2024-03-23T20:24:52.544977Z",
     "shell.execute_reply": "2024-03-23T20:24:52.543870Z"
    },
    "papermill": {
     "duration": 0.01755,
     "end_time": "2024-03-23T20:24:52.547089",
     "exception": false,
     "start_time": "2024-03-23T20:24:52.529539",
     "status": "completed"
    },
    "tags": []
   },
   "outputs": [],
   "source": [
    "# from sklearn import metrics\n",
    "\n",
    "\n",
    "# def objective(trial):\n",
    "#   \"\"\"\n",
    "#   Функція objective для Optuna, яка навчає модель LightGBMRegressor\n",
    "#   на тренувальному наборі даних та оцінює її на тестовому наборі.\n",
    "\n",
    "#   Args:\n",
    "#       trial (optuna.Trial): Об'єкт Optuna, що представляє один набір гіперпараметрів.\n",
    "\n",
    "#   Returns:\n",
    "#       float: Значення метрики оцінки (R2).\n",
    "#   \"\"\"\n",
    "\n",
    "#   # 1. Визначення гіперпараметрів:\n",
    "\n",
    "#   params = {\n",
    "#         'objective': 'mse',\n",
    "#         'n_estimator': 30,\n",
    "#         'verbose': -1,\n",
    "#         'boosting_type': trial.suggest_categorical('boosting_type', ['gbdt', 'dart']),\n",
    "#         'lambda_l1': trial.suggest_float('lambda_l1', 1e-8, 10.0, log=True),\n",
    "#         'lambda_l2': trial.suggest_float('lambda_l2', 1e-8, 10.0, log=True),\n",
    "#         'num_leaves': trial.suggest_int('num_leaves', 2, 256),\n",
    "#         'feature_fraction': trial.suggest_float('feature_fraction', 0.4, 1.0),\n",
    "#         'bagging_fraction': trial.suggest_float('bagging_fraction', 0.4, 1.0),\n",
    "#         'bagging_freq': trial.suggest_int('bagging_freq', 1, 7),\n",
    "#         'min_child_samples': trial.suggest_int('min_child_samples', 5, 100),\n",
    "#     }\n",
    "\n",
    "#   # 2. Створення моделі LightGBMRegressor:\n",
    "\n",
    "#   model = lgb.LGBMRegressor(**params)\n",
    "\n",
    "#   # 3. Навчання моделі на тренувальному наборі даних:\n",
    "\n",
    "#   model.fit(X_train, y_train)\n",
    "\n",
    "#   # 4. Оцінка моделі на тестовому наборі даних:\n",
    "\n",
    "#   y_pred = model.predict(X_val)\n",
    "#   r2 = metrics.r2_score(y_val, y_pred)\n",
    "\n",
    "#   # 5. Повернення значення метрики:\n",
    "#   return r2"
   ]
  },
  {
   "cell_type": "code",
   "execution_count": 17,
   "id": "04596959",
   "metadata": {
    "execution": {
     "iopub.execute_input": "2024-03-23T20:24:52.564908Z",
     "iopub.status.busy": "2024-03-23T20:24:52.564536Z",
     "iopub.status.idle": "2024-03-23T20:25:23.232806Z",
     "shell.execute_reply": "2024-03-23T20:25:23.231587Z"
    },
    "papermill": {
     "duration": 30.680608,
     "end_time": "2024-03-23T20:25:23.235681",
     "exception": false,
     "start_time": "2024-03-23T20:24:52.555073",
     "status": "completed"
    },
    "tags": []
   },
   "outputs": [],
   "source": [
    "optuna.logging.set_verbosity(optuna.logging.WARNING)\n",
    "study = optuna.create_study(direction='maximize')\n",
    "study.optimize(objective, n_trials=100)"
   ]
  },
  {
   "cell_type": "code",
   "execution_count": 18,
   "id": "95555894",
   "metadata": {
    "execution": {
     "iopub.execute_input": "2024-03-23T20:25:23.253593Z",
     "iopub.status.busy": "2024-03-23T20:25:23.253188Z",
     "iopub.status.idle": "2024-03-23T20:25:23.258530Z",
     "shell.execute_reply": "2024-03-23T20:25:23.257801Z"
    },
    "papermill": {
     "duration": 0.016431,
     "end_time": "2024-03-23T20:25:23.260390",
     "exception": false,
     "start_time": "2024-03-23T20:25:23.243959",
     "status": "completed"
    },
    "tags": []
   },
   "outputs": [
    {
     "name": "stdout",
     "output_type": "stream",
     "text": [
      "найкраща метрика: 0.523786076586774\n"
     ]
    }
   ],
   "source": [
    "print(f\"найкраща метрика: {study.best_value}\")"
   ]
  },
  {
   "cell_type": "code",
   "execution_count": 19,
   "id": "25c02718",
   "metadata": {
    "execution": {
     "iopub.execute_input": "2024-03-23T20:25:23.277707Z",
     "iopub.status.busy": "2024-03-23T20:25:23.277048Z",
     "iopub.status.idle": "2024-03-23T20:25:23.637878Z",
     "shell.execute_reply": "2024-03-23T20:25:23.637019Z"
    },
    "papermill": {
     "duration": 0.371696,
     "end_time": "2024-03-23T20:25:23.639797",
     "exception": false,
     "start_time": "2024-03-23T20:25:23.268101",
     "status": "completed"
    },
    "tags": []
   },
   "outputs": [
    {
     "data": {
      "text/html": [
       "<style>#sk-container-id-2 {color: black;background-color: white;}#sk-container-id-2 pre{padding: 0;}#sk-container-id-2 div.sk-toggleable {background-color: white;}#sk-container-id-2 label.sk-toggleable__label {cursor: pointer;display: block;width: 100%;margin-bottom: 0;padding: 0.3em;box-sizing: border-box;text-align: center;}#sk-container-id-2 label.sk-toggleable__label-arrow:before {content: \"▸\";float: left;margin-right: 0.25em;color: #696969;}#sk-container-id-2 label.sk-toggleable__label-arrow:hover:before {color: black;}#sk-container-id-2 div.sk-estimator:hover label.sk-toggleable__label-arrow:before {color: black;}#sk-container-id-2 div.sk-toggleable__content {max-height: 0;max-width: 0;overflow: hidden;text-align: left;background-color: #f0f8ff;}#sk-container-id-2 div.sk-toggleable__content pre {margin: 0.2em;color: black;border-radius: 0.25em;background-color: #f0f8ff;}#sk-container-id-2 input.sk-toggleable__control:checked~div.sk-toggleable__content {max-height: 200px;max-width: 100%;overflow: auto;}#sk-container-id-2 input.sk-toggleable__control:checked~label.sk-toggleable__label-arrow:before {content: \"▾\";}#sk-container-id-2 div.sk-estimator input.sk-toggleable__control:checked~label.sk-toggleable__label {background-color: #d4ebff;}#sk-container-id-2 div.sk-label input.sk-toggleable__control:checked~label.sk-toggleable__label {background-color: #d4ebff;}#sk-container-id-2 input.sk-hidden--visually {border: 0;clip: rect(1px 1px 1px 1px);clip: rect(1px, 1px, 1px, 1px);height: 1px;margin: -1px;overflow: hidden;padding: 0;position: absolute;width: 1px;}#sk-container-id-2 div.sk-estimator {font-family: monospace;background-color: #f0f8ff;border: 1px dotted black;border-radius: 0.25em;box-sizing: border-box;margin-bottom: 0.5em;}#sk-container-id-2 div.sk-estimator:hover {background-color: #d4ebff;}#sk-container-id-2 div.sk-parallel-item::after {content: \"\";width: 100%;border-bottom: 1px solid gray;flex-grow: 1;}#sk-container-id-2 div.sk-label:hover label.sk-toggleable__label {background-color: #d4ebff;}#sk-container-id-2 div.sk-serial::before {content: \"\";position: absolute;border-left: 1px solid gray;box-sizing: border-box;top: 0;bottom: 0;left: 50%;z-index: 0;}#sk-container-id-2 div.sk-serial {display: flex;flex-direction: column;align-items: center;background-color: white;padding-right: 0.2em;padding-left: 0.2em;position: relative;}#sk-container-id-2 div.sk-item {position: relative;z-index: 1;}#sk-container-id-2 div.sk-parallel {display: flex;align-items: stretch;justify-content: center;background-color: white;position: relative;}#sk-container-id-2 div.sk-item::before, #sk-container-id-2 div.sk-parallel-item::before {content: \"\";position: absolute;border-left: 1px solid gray;box-sizing: border-box;top: 0;bottom: 0;left: 50%;z-index: -1;}#sk-container-id-2 div.sk-parallel-item {display: flex;flex-direction: column;z-index: 1;position: relative;background-color: white;}#sk-container-id-2 div.sk-parallel-item:first-child::after {align-self: flex-end;width: 50%;}#sk-container-id-2 div.sk-parallel-item:last-child::after {align-self: flex-start;width: 50%;}#sk-container-id-2 div.sk-parallel-item:only-child::after {width: 0;}#sk-container-id-2 div.sk-dashed-wrapped {border: 1px dashed gray;margin: 0 0.4em 0.5em 0.4em;box-sizing: border-box;padding-bottom: 0.4em;background-color: white;}#sk-container-id-2 div.sk-label label {font-family: monospace;font-weight: bold;display: inline-block;line-height: 1.2em;}#sk-container-id-2 div.sk-label-container {text-align: center;}#sk-container-id-2 div.sk-container {/* jupyter's `normalize.less` sets `[hidden] { display: none; }` but bootstrap.min.css set `[hidden] { display: none !important; }` so we also need the `!important` here to be able to override the default hidden behavior on the sphinx rendered scikit-learn.org. See: https://github.com/scikit-learn/scikit-learn/issues/21755 */display: inline-block !important;position: relative;}#sk-container-id-2 div.sk-text-repr-fallback {display: none;}</style><div id=\"sk-container-id-2\" class=\"sk-top-container\"><div class=\"sk-text-repr-fallback\"><pre>LGBMRegressor(bagging_fraction=0.8811331211276131, bagging_freq=5,\n",
       "              feature_fraction=0.7818724951463443,\n",
       "              lambda_l1=0.0004175563821735222, lambda_l2=0.8614189517105145,\n",
       "              min_child_samples=77, model_type=&#x27;LGBM&#x27;, n_estimator=100,\n",
       "              num_leaves=121, verbose=-1)</pre><b>In a Jupyter environment, please rerun this cell to show the HTML representation or trust the notebook. <br />On GitHub, the HTML representation is unable to render, please try loading this page with nbviewer.org.</b></div><div class=\"sk-container\" hidden><div class=\"sk-item\"><div class=\"sk-estimator sk-toggleable\"><input class=\"sk-toggleable__control sk-hidden--visually\" id=\"sk-estimator-id-7\" type=\"checkbox\" checked><label for=\"sk-estimator-id-7\" class=\"sk-toggleable__label sk-toggleable__label-arrow\">LGBMRegressor</label><div class=\"sk-toggleable__content\"><pre>LGBMRegressor(bagging_fraction=0.8811331211276131, bagging_freq=5,\n",
       "              feature_fraction=0.7818724951463443,\n",
       "              lambda_l1=0.0004175563821735222, lambda_l2=0.8614189517105145,\n",
       "              min_child_samples=77, model_type=&#x27;LGBM&#x27;, n_estimator=100,\n",
       "              num_leaves=121, verbose=-1)</pre></div></div></div></div></div>"
      ],
      "text/plain": [
       "LGBMRegressor(bagging_fraction=0.8811331211276131, bagging_freq=5,\n",
       "              feature_fraction=0.7818724951463443,\n",
       "              lambda_l1=0.0004175563821735222, lambda_l2=0.8614189517105145,\n",
       "              min_child_samples=77, model_type='LGBM', n_estimator=100,\n",
       "              num_leaves=121, verbose=-1)"
      ]
     },
     "execution_count": 19,
     "metadata": {},
     "output_type": "execute_result"
    }
   ],
   "source": [
    "best_params = study.best_params\n",
    "\n",
    "model = lgb.LGBMRegressor(**best_params,\n",
    "                          n_estimator = 100,\n",
    "                          verbose=-1)\n",
    "model.fit(X_train, y_train,\n",
    "          eval_set=[(X_test, y_test), (X_train, y_train)],\n",
    "          eval_metric='mae')"
   ]
  },
  {
   "cell_type": "code",
   "execution_count": 20,
   "id": "05a2a7fb",
   "metadata": {
    "execution": {
     "iopub.execute_input": "2024-03-23T20:25:23.657884Z",
     "iopub.status.busy": "2024-03-23T20:25:23.656921Z",
     "iopub.status.idle": "2024-03-23T20:25:23.662244Z",
     "shell.execute_reply": "2024-03-23T20:25:23.661440Z"
    },
    "papermill": {
     "duration": 0.016228,
     "end_time": "2024-03-23T20:25:23.664120",
     "exception": false,
     "start_time": "2024-03-23T20:25:23.647892",
     "status": "completed"
    },
    "tags": []
   },
   "outputs": [],
   "source": [
    "def get_metrics(y_true, y_pred, name=\"model\"):\n",
    "  df = pd.DataFrame()\n",
    "  df.loc[\"MAE\", name] = metrics.mean_absolute_error(y_true, y_pred)\n",
    "  df.loc[\"RMSE\", name] = metrics.mean_squared_error(y_true, y_pred) ** 0.5\n",
    "  df.loc[\"R2\", name] = metrics.r2_score(y_true, y_pred)\n",
    "  return df.round(2)"
   ]
  },
  {
   "cell_type": "code",
   "execution_count": 21,
   "id": "5b52fa3c",
   "metadata": {
    "execution": {
     "iopub.execute_input": "2024-03-23T20:25:23.682398Z",
     "iopub.status.busy": "2024-03-23T20:25:23.681458Z",
     "iopub.status.idle": "2024-03-23T20:25:23.812690Z",
     "shell.execute_reply": "2024-03-23T20:25:23.811669Z"
    },
    "papermill": {
     "duration": 0.14265,
     "end_time": "2024-03-23T20:25:23.814781",
     "exception": false,
     "start_time": "2024-03-23T20:25:23.672131",
     "status": "completed"
    },
    "tags": []
   },
   "outputs": [
    {
     "data": {
      "text/html": [
       "<div>\n",
       "<style scoped>\n",
       "    .dataframe tbody tr th:only-of-type {\n",
       "        vertical-align: middle;\n",
       "    }\n",
       "\n",
       "    .dataframe tbody tr th {\n",
       "        vertical-align: top;\n",
       "    }\n",
       "\n",
       "    .dataframe thead th {\n",
       "        text-align: right;\n",
       "    }\n",
       "</style>\n",
       "<table border=\"1\" class=\"dataframe\">\n",
       "  <thead>\n",
       "    <tr style=\"text-align: right;\">\n",
       "      <th></th>\n",
       "      <th>train</th>\n",
       "      <th>test</th>\n",
       "    </tr>\n",
       "  </thead>\n",
       "  <tbody>\n",
       "    <tr>\n",
       "      <th>MAE</th>\n",
       "      <td>0.69</td>\n",
       "      <td>0.91</td>\n",
       "    </tr>\n",
       "    <tr>\n",
       "      <th>RMSE</th>\n",
       "      <td>0.93</td>\n",
       "      <td>1.23</td>\n",
       "    </tr>\n",
       "    <tr>\n",
       "      <th>R2</th>\n",
       "      <td>0.70</td>\n",
       "      <td>0.44</td>\n",
       "    </tr>\n",
       "  </tbody>\n",
       "</table>\n",
       "</div>"
      ],
      "text/plain": [
       "      train  test\n",
       "MAE    0.69  0.91\n",
       "RMSE   0.93  1.23\n",
       "R2     0.70  0.44"
      ]
     },
     "execution_count": 21,
     "metadata": {},
     "output_type": "execute_result"
    }
   ],
   "source": [
    "all_metrics = pd.DataFrame()\n",
    "all_metrics[\"train\"] = get_metrics(y_train, model.predict(X_train))\n",
    "all_metrics[\"test\"] = get_metrics(y_test, model.predict(X_test))\n",
    "all_metrics"
   ]
  },
  {
   "cell_type": "code",
   "execution_count": 22,
   "id": "8cc77d0e",
   "metadata": {
    "execution": {
     "iopub.execute_input": "2024-03-23T20:25:23.833929Z",
     "iopub.status.busy": "2024-03-23T20:25:23.833099Z",
     "iopub.status.idle": "2024-03-23T20:25:24.673894Z",
     "shell.execute_reply": "2024-03-23T20:25:24.672910Z"
    },
    "papermill": {
     "duration": 0.852751,
     "end_time": "2024-03-23T20:25:24.676239",
     "exception": false,
     "start_time": "2024-03-23T20:25:23.823488",
     "status": "completed"
    },
    "tags": []
   },
   "outputs": [
    {
     "data": {
      "text/html": [
       "        <script type=\"text/javascript\">\n",
       "        window.PlotlyConfig = {MathJaxConfig: 'local'};\n",
       "        if (window.MathJax && window.MathJax.Hub && window.MathJax.Hub.Config) {window.MathJax.Hub.Config({SVG: {font: \"STIX-Web\"}});}\n",
       "        if (typeof require !== 'undefined') {\n",
       "        require.undef(\"plotly\");\n",
       "        requirejs.config({\n",
       "            paths: {\n",
       "                'plotly': ['https://cdn.plot.ly/plotly-2.27.0.min']\n",
       "            }\n",
       "        });\n",
       "        require(['plotly'], function(Plotly) {\n",
       "            window._Plotly = Plotly;\n",
       "        });\n",
       "        }\n",
       "        </script>\n",
       "        "
      ]
     },
     "metadata": {},
     "output_type": "display_data"
    },
    {
     "data": {
      "text/html": [
       "<div>                            <div id=\"90576232-d264-4b1b-9c22-795861d31cea\" class=\"plotly-graph-div\" style=\"height:525px; width:100%;\"></div>            <script type=\"text/javascript\">                require([\"plotly\"], function(Plotly) {                    window.PLOTLYENV=window.PLOTLYENV || {};                                    if (document.getElementById(\"90576232-d264-4b1b-9c22-795861d31cea\")) {                    Plotly.newPlot(                        \"90576232-d264-4b1b-9c22-795861d31cea\",                        [{\"cliponaxis\":false,\"hovertemplate\":[\"model_type (CategoricalDistribution): 1.0\\u003cextra\\u003e\\u003c\\u002fextra\\u003e\"],\"name\":\"Objective Value\",\"orientation\":\"h\",\"text\":[\"1.00\"],\"textposition\":\"outside\",\"x\":[1.0],\"y\":[\"model_type\"],\"type\":\"bar\"}],                        {\"title\":{\"text\":\"Hyperparameter Importances\"},\"xaxis\":{\"title\":{\"text\":\"Hyperparameter Importance\"}},\"yaxis\":{\"title\":{\"text\":\"Hyperparameter\"}},\"template\":{\"data\":{\"histogram2dcontour\":[{\"type\":\"histogram2dcontour\",\"colorbar\":{\"outlinewidth\":0,\"ticks\":\"\"},\"colorscale\":[[0.0,\"#0d0887\"],[0.1111111111111111,\"#46039f\"],[0.2222222222222222,\"#7201a8\"],[0.3333333333333333,\"#9c179e\"],[0.4444444444444444,\"#bd3786\"],[0.5555555555555556,\"#d8576b\"],[0.6666666666666666,\"#ed7953\"],[0.7777777777777778,\"#fb9f3a\"],[0.8888888888888888,\"#fdca26\"],[1.0,\"#f0f921\"]]}],\"choropleth\":[{\"type\":\"choropleth\",\"colorbar\":{\"outlinewidth\":0,\"ticks\":\"\"}}],\"histogram2d\":[{\"type\":\"histogram2d\",\"colorbar\":{\"outlinewidth\":0,\"ticks\":\"\"},\"colorscale\":[[0.0,\"#0d0887\"],[0.1111111111111111,\"#46039f\"],[0.2222222222222222,\"#7201a8\"],[0.3333333333333333,\"#9c179e\"],[0.4444444444444444,\"#bd3786\"],[0.5555555555555556,\"#d8576b\"],[0.6666666666666666,\"#ed7953\"],[0.7777777777777778,\"#fb9f3a\"],[0.8888888888888888,\"#fdca26\"],[1.0,\"#f0f921\"]]}],\"heatmap\":[{\"type\":\"heatmap\",\"colorbar\":{\"outlinewidth\":0,\"ticks\":\"\"},\"colorscale\":[[0.0,\"#0d0887\"],[0.1111111111111111,\"#46039f\"],[0.2222222222222222,\"#7201a8\"],[0.3333333333333333,\"#9c179e\"],[0.4444444444444444,\"#bd3786\"],[0.5555555555555556,\"#d8576b\"],[0.6666666666666666,\"#ed7953\"],[0.7777777777777778,\"#fb9f3a\"],[0.8888888888888888,\"#fdca26\"],[1.0,\"#f0f921\"]]}],\"heatmapgl\":[{\"type\":\"heatmapgl\",\"colorbar\":{\"outlinewidth\":0,\"ticks\":\"\"},\"colorscale\":[[0.0,\"#0d0887\"],[0.1111111111111111,\"#46039f\"],[0.2222222222222222,\"#7201a8\"],[0.3333333333333333,\"#9c179e\"],[0.4444444444444444,\"#bd3786\"],[0.5555555555555556,\"#d8576b\"],[0.6666666666666666,\"#ed7953\"],[0.7777777777777778,\"#fb9f3a\"],[0.8888888888888888,\"#fdca26\"],[1.0,\"#f0f921\"]]}],\"contourcarpet\":[{\"type\":\"contourcarpet\",\"colorbar\":{\"outlinewidth\":0,\"ticks\":\"\"}}],\"contour\":[{\"type\":\"contour\",\"colorbar\":{\"outlinewidth\":0,\"ticks\":\"\"},\"colorscale\":[[0.0,\"#0d0887\"],[0.1111111111111111,\"#46039f\"],[0.2222222222222222,\"#7201a8\"],[0.3333333333333333,\"#9c179e\"],[0.4444444444444444,\"#bd3786\"],[0.5555555555555556,\"#d8576b\"],[0.6666666666666666,\"#ed7953\"],[0.7777777777777778,\"#fb9f3a\"],[0.8888888888888888,\"#fdca26\"],[1.0,\"#f0f921\"]]}],\"surface\":[{\"type\":\"surface\",\"colorbar\":{\"outlinewidth\":0,\"ticks\":\"\"},\"colorscale\":[[0.0,\"#0d0887\"],[0.1111111111111111,\"#46039f\"],[0.2222222222222222,\"#7201a8\"],[0.3333333333333333,\"#9c179e\"],[0.4444444444444444,\"#bd3786\"],[0.5555555555555556,\"#d8576b\"],[0.6666666666666666,\"#ed7953\"],[0.7777777777777778,\"#fb9f3a\"],[0.8888888888888888,\"#fdca26\"],[1.0,\"#f0f921\"]]}],\"mesh3d\":[{\"type\":\"mesh3d\",\"colorbar\":{\"outlinewidth\":0,\"ticks\":\"\"}}],\"scatter\":[{\"fillpattern\":{\"fillmode\":\"overlay\",\"size\":10,\"solidity\":0.2},\"type\":\"scatter\"}],\"parcoords\":[{\"type\":\"parcoords\",\"line\":{\"colorbar\":{\"outlinewidth\":0,\"ticks\":\"\"}}}],\"scatterpolargl\":[{\"type\":\"scatterpolargl\",\"marker\":{\"colorbar\":{\"outlinewidth\":0,\"ticks\":\"\"}}}],\"bar\":[{\"error_x\":{\"color\":\"#2a3f5f\"},\"error_y\":{\"color\":\"#2a3f5f\"},\"marker\":{\"line\":{\"color\":\"#E5ECF6\",\"width\":0.5},\"pattern\":{\"fillmode\":\"overlay\",\"size\":10,\"solidity\":0.2}},\"type\":\"bar\"}],\"scattergeo\":[{\"type\":\"scattergeo\",\"marker\":{\"colorbar\":{\"outlinewidth\":0,\"ticks\":\"\"}}}],\"scatterpolar\":[{\"type\":\"scatterpolar\",\"marker\":{\"colorbar\":{\"outlinewidth\":0,\"ticks\":\"\"}}}],\"histogram\":[{\"marker\":{\"pattern\":{\"fillmode\":\"overlay\",\"size\":10,\"solidity\":0.2}},\"type\":\"histogram\"}],\"scattergl\":[{\"type\":\"scattergl\",\"marker\":{\"colorbar\":{\"outlinewidth\":0,\"ticks\":\"\"}}}],\"scatter3d\":[{\"type\":\"scatter3d\",\"line\":{\"colorbar\":{\"outlinewidth\":0,\"ticks\":\"\"}},\"marker\":{\"colorbar\":{\"outlinewidth\":0,\"ticks\":\"\"}}}],\"scattermapbox\":[{\"type\":\"scattermapbox\",\"marker\":{\"colorbar\":{\"outlinewidth\":0,\"ticks\":\"\"}}}],\"scatterternary\":[{\"type\":\"scatterternary\",\"marker\":{\"colorbar\":{\"outlinewidth\":0,\"ticks\":\"\"}}}],\"scattercarpet\":[{\"type\":\"scattercarpet\",\"marker\":{\"colorbar\":{\"outlinewidth\":0,\"ticks\":\"\"}}}],\"carpet\":[{\"aaxis\":{\"endlinecolor\":\"#2a3f5f\",\"gridcolor\":\"white\",\"linecolor\":\"white\",\"minorgridcolor\":\"white\",\"startlinecolor\":\"#2a3f5f\"},\"baxis\":{\"endlinecolor\":\"#2a3f5f\",\"gridcolor\":\"white\",\"linecolor\":\"white\",\"minorgridcolor\":\"white\",\"startlinecolor\":\"#2a3f5f\"},\"type\":\"carpet\"}],\"table\":[{\"cells\":{\"fill\":{\"color\":\"#EBF0F8\"},\"line\":{\"color\":\"white\"}},\"header\":{\"fill\":{\"color\":\"#C8D4E3\"},\"line\":{\"color\":\"white\"}},\"type\":\"table\"}],\"barpolar\":[{\"marker\":{\"line\":{\"color\":\"#E5ECF6\",\"width\":0.5},\"pattern\":{\"fillmode\":\"overlay\",\"size\":10,\"solidity\":0.2}},\"type\":\"barpolar\"}],\"pie\":[{\"automargin\":true,\"type\":\"pie\"}]},\"layout\":{\"autotypenumbers\":\"strict\",\"colorway\":[\"#636efa\",\"#EF553B\",\"#00cc96\",\"#ab63fa\",\"#FFA15A\",\"#19d3f3\",\"#FF6692\",\"#B6E880\",\"#FF97FF\",\"#FECB52\"],\"font\":{\"color\":\"#2a3f5f\"},\"hovermode\":\"closest\",\"hoverlabel\":{\"align\":\"left\"},\"paper_bgcolor\":\"white\",\"plot_bgcolor\":\"#E5ECF6\",\"polar\":{\"bgcolor\":\"#E5ECF6\",\"angularaxis\":{\"gridcolor\":\"white\",\"linecolor\":\"white\",\"ticks\":\"\"},\"radialaxis\":{\"gridcolor\":\"white\",\"linecolor\":\"white\",\"ticks\":\"\"}},\"ternary\":{\"bgcolor\":\"#E5ECF6\",\"aaxis\":{\"gridcolor\":\"white\",\"linecolor\":\"white\",\"ticks\":\"\"},\"baxis\":{\"gridcolor\":\"white\",\"linecolor\":\"white\",\"ticks\":\"\"},\"caxis\":{\"gridcolor\":\"white\",\"linecolor\":\"white\",\"ticks\":\"\"}},\"coloraxis\":{\"colorbar\":{\"outlinewidth\":0,\"ticks\":\"\"}},\"colorscale\":{\"sequential\":[[0.0,\"#0d0887\"],[0.1111111111111111,\"#46039f\"],[0.2222222222222222,\"#7201a8\"],[0.3333333333333333,\"#9c179e\"],[0.4444444444444444,\"#bd3786\"],[0.5555555555555556,\"#d8576b\"],[0.6666666666666666,\"#ed7953\"],[0.7777777777777778,\"#fb9f3a\"],[0.8888888888888888,\"#fdca26\"],[1.0,\"#f0f921\"]],\"sequentialminus\":[[0.0,\"#0d0887\"],[0.1111111111111111,\"#46039f\"],[0.2222222222222222,\"#7201a8\"],[0.3333333333333333,\"#9c179e\"],[0.4444444444444444,\"#bd3786\"],[0.5555555555555556,\"#d8576b\"],[0.6666666666666666,\"#ed7953\"],[0.7777777777777778,\"#fb9f3a\"],[0.8888888888888888,\"#fdca26\"],[1.0,\"#f0f921\"]],\"diverging\":[[0,\"#8e0152\"],[0.1,\"#c51b7d\"],[0.2,\"#de77ae\"],[0.3,\"#f1b6da\"],[0.4,\"#fde0ef\"],[0.5,\"#f7f7f7\"],[0.6,\"#e6f5d0\"],[0.7,\"#b8e186\"],[0.8,\"#7fbc41\"],[0.9,\"#4d9221\"],[1,\"#276419\"]]},\"xaxis\":{\"gridcolor\":\"white\",\"linecolor\":\"white\",\"ticks\":\"\",\"title\":{\"standoff\":15},\"zerolinecolor\":\"white\",\"automargin\":true,\"zerolinewidth\":2},\"yaxis\":{\"gridcolor\":\"white\",\"linecolor\":\"white\",\"ticks\":\"\",\"title\":{\"standoff\":15},\"zerolinecolor\":\"white\",\"automargin\":true,\"zerolinewidth\":2},\"scene\":{\"xaxis\":{\"backgroundcolor\":\"#E5ECF6\",\"gridcolor\":\"white\",\"linecolor\":\"white\",\"showbackground\":true,\"ticks\":\"\",\"zerolinecolor\":\"white\",\"gridwidth\":2},\"yaxis\":{\"backgroundcolor\":\"#E5ECF6\",\"gridcolor\":\"white\",\"linecolor\":\"white\",\"showbackground\":true,\"ticks\":\"\",\"zerolinecolor\":\"white\",\"gridwidth\":2},\"zaxis\":{\"backgroundcolor\":\"#E5ECF6\",\"gridcolor\":\"white\",\"linecolor\":\"white\",\"showbackground\":true,\"ticks\":\"\",\"zerolinecolor\":\"white\",\"gridwidth\":2}},\"shapedefaults\":{\"line\":{\"color\":\"#2a3f5f\"}},\"annotationdefaults\":{\"arrowcolor\":\"#2a3f5f\",\"arrowhead\":0,\"arrowwidth\":1},\"geo\":{\"bgcolor\":\"white\",\"landcolor\":\"#E5ECF6\",\"subunitcolor\":\"white\",\"showland\":true,\"showlakes\":true,\"lakecolor\":\"white\"},\"title\":{\"x\":0.05},\"mapbox\":{\"style\":\"light\"}}}},                        {\"responsive\": true}                    ).then(function(){\n",
       "                            \n",
       "var gd = document.getElementById('90576232-d264-4b1b-9c22-795861d31cea');\n",
       "var x = new MutationObserver(function (mutations, observer) {{\n",
       "        var display = window.getComputedStyle(gd).display;\n",
       "        if (!display || display === 'none') {{\n",
       "            console.log([gd, 'removed!']);\n",
       "            Plotly.purge(gd);\n",
       "            observer.disconnect();\n",
       "        }}\n",
       "}});\n",
       "\n",
       "// Listen for the removal of the full notebook cells\n",
       "var notebookContainer = gd.closest('#notebook-container');\n",
       "if (notebookContainer) {{\n",
       "    x.observe(notebookContainer, {childList: true});\n",
       "}}\n",
       "\n",
       "// Listen for the clearing of the current output cell\n",
       "var outputEl = gd.closest('.output');\n",
       "if (outputEl) {{\n",
       "    x.observe(outputEl, {childList: true});\n",
       "}}\n",
       "\n",
       "                        })                };                });            </script>        </div>"
      ]
     },
     "metadata": {},
     "output_type": "display_data"
    }
   ],
   "source": [
    "optuna.visualization.plot_param_importances(study)"
   ]
  },
  {
   "cell_type": "code",
   "execution_count": 23,
   "id": "a40e8e4c",
   "metadata": {
    "execution": {
     "iopub.execute_input": "2024-03-23T20:25:24.695565Z",
     "iopub.status.busy": "2024-03-23T20:25:24.694831Z",
     "iopub.status.idle": "2024-03-23T20:25:25.093827Z",
     "shell.execute_reply": "2024-03-23T20:25:25.092692Z"
    },
    "papermill": {
     "duration": 0.411195,
     "end_time": "2024-03-23T20:25:25.096141",
     "exception": false,
     "start_time": "2024-03-23T20:25:24.684946",
     "status": "completed"
    },
    "tags": []
   },
   "outputs": [
    {
     "data": {
      "text/plain": [
       "<Axes: title={'center': 'Feature importance'}, xlabel='Feature importance', ylabel='Features'>"
      ]
     },
     "execution_count": 23,
     "metadata": {},
     "output_type": "execute_result"
    },
    {
     "data": {
      "image/png": "[encoded data removed]",
      "text/plain": [
       "<Figure size 640x480 with 1 Axes>"
      ]
     },
     "metadata": {},
     "output_type": "display_data"
    }
   ],
   "source": [
    "lgb.plot_importance(model, max_num_features=10)"
   ]
  },
  {
   "cell_type": "code",
   "execution_count": 24,
   "id": "db3eef26",
   "metadata": {
    "execution": {
     "iopub.execute_input": "2024-03-23T20:25:25.117579Z",
     "iopub.status.busy": "2024-03-23T20:25:25.116855Z",
     "iopub.status.idle": "2024-03-23T20:25:25.414943Z",
     "shell.execute_reply": "2024-03-23T20:25:25.413769Z"
    },
    "papermill": {
     "duration": 0.311355,
     "end_time": "2024-03-23T20:25:25.417221",
     "exception": false,
     "start_time": "2024-03-23T20:25:25.105866",
     "status": "completed"
    },
    "tags": []
   },
   "outputs": [
    {
     "data": {
      "text/plain": [
       "<Axes: title={'center': 'Metric during training'}, xlabel='Iterations', ylabel='l1'>"
      ]
     },
     "execution_count": 24,
     "metadata": {},
     "output_type": "execute_result"
    },
    {
     "data": {
      "image/png": "[encoded data removed]",
      "text/plain": [
       "<Figure size 640x480 with 1 Axes>"
      ]
     },
     "metadata": {},
     "output_type": "display_data"
    }
   ],
   "source": [
    "lgb.plot_metric(model,\n",
    "                metric='l1')"
   ]
  },
  {
   "cell_type": "code",
   "execution_count": 25,
   "id": "2359ec66",
   "metadata": {
    "execution": {
     "iopub.execute_input": "2024-03-23T20:25:25.439683Z",
     "iopub.status.busy": "2024-03-23T20:25:25.439267Z",
     "iopub.status.idle": "2024-03-23T20:25:25.524671Z",
     "shell.execute_reply": "2024-03-23T20:25:25.523747Z"
    },
    "papermill": {
     "duration": 0.098878,
     "end_time": "2024-03-23T20:25:25.526554",
     "exception": false,
     "start_time": "2024-03-23T20:25:25.427676",
     "status": "completed"
    },
    "tags": []
   },
   "outputs": [
    {
     "data": {
      "text/html": [
       "<style>#sk-container-id-3 {color: black;background-color: white;}#sk-container-id-3 pre{padding: 0;}#sk-container-id-3 div.sk-toggleable {background-color: white;}#sk-container-id-3 label.sk-toggleable__label {cursor: pointer;display: block;width: 100%;margin-bottom: 0;padding: 0.3em;box-sizing: border-box;text-align: center;}#sk-container-id-3 label.sk-toggleable__label-arrow:before {content: \"▸\";float: left;margin-right: 0.25em;color: #696969;}#sk-container-id-3 label.sk-toggleable__label-arrow:hover:before {color: black;}#sk-container-id-3 div.sk-estimator:hover label.sk-toggleable__label-arrow:before {color: black;}#sk-container-id-3 div.sk-toggleable__content {max-height: 0;max-width: 0;overflow: hidden;text-align: left;background-color: #f0f8ff;}#sk-container-id-3 div.sk-toggleable__content pre {margin: 0.2em;color: black;border-radius: 0.25em;background-color: #f0f8ff;}#sk-container-id-3 input.sk-toggleable__control:checked~div.sk-toggleable__content {max-height: 200px;max-width: 100%;overflow: auto;}#sk-container-id-3 input.sk-toggleable__control:checked~label.sk-toggleable__label-arrow:before {content: \"▾\";}#sk-container-id-3 div.sk-estimator input.sk-toggleable__control:checked~label.sk-toggleable__label {background-color: #d4ebff;}#sk-container-id-3 div.sk-label input.sk-toggleable__control:checked~label.sk-toggleable__label {background-color: #d4ebff;}#sk-container-id-3 input.sk-hidden--visually {border: 0;clip: rect(1px 1px 1px 1px);clip: rect(1px, 1px, 1px, 1px);height: 1px;margin: -1px;overflow: hidden;padding: 0;position: absolute;width: 1px;}#sk-container-id-3 div.sk-estimator {font-family: monospace;background-color: #f0f8ff;border: 1px dotted black;border-radius: 0.25em;box-sizing: border-box;margin-bottom: 0.5em;}#sk-container-id-3 div.sk-estimator:hover {background-color: #d4ebff;}#sk-container-id-3 div.sk-parallel-item::after {content: \"\";width: 100%;border-bottom: 1px solid gray;flex-grow: 1;}#sk-container-id-3 div.sk-label:hover label.sk-toggleable__label {background-color: #d4ebff;}#sk-container-id-3 div.sk-serial::before {content: \"\";position: absolute;border-left: 1px solid gray;box-sizing: border-box;top: 0;bottom: 0;left: 50%;z-index: 0;}#sk-container-id-3 div.sk-serial {display: flex;flex-direction: column;align-items: center;background-color: white;padding-right: 0.2em;padding-left: 0.2em;position: relative;}#sk-container-id-3 div.sk-item {position: relative;z-index: 1;}#sk-container-id-3 div.sk-parallel {display: flex;align-items: stretch;justify-content: center;background-color: white;position: relative;}#sk-container-id-3 div.sk-item::before, #sk-container-id-3 div.sk-parallel-item::before {content: \"\";position: absolute;border-left: 1px solid gray;box-sizing: border-box;top: 0;bottom: 0;left: 50%;z-index: -1;}#sk-container-id-3 div.sk-parallel-item {display: flex;flex-direction: column;z-index: 1;position: relative;background-color: white;}#sk-container-id-3 div.sk-parallel-item:first-child::after {align-self: flex-end;width: 50%;}#sk-container-id-3 div.sk-parallel-item:last-child::after {align-self: flex-start;width: 50%;}#sk-container-id-3 div.sk-parallel-item:only-child::after {width: 0;}#sk-container-id-3 div.sk-dashed-wrapped {border: 1px dashed gray;margin: 0 0.4em 0.5em 0.4em;box-sizing: border-box;padding-bottom: 0.4em;background-color: white;}#sk-container-id-3 div.sk-label label {font-family: monospace;font-weight: bold;display: inline-block;line-height: 1.2em;}#sk-container-id-3 div.sk-label-container {text-align: center;}#sk-container-id-3 div.sk-container {/* jupyter's `normalize.less` sets `[hidden] { display: none; }` but bootstrap.min.css set `[hidden] { display: none !important; }` so we also need the `!important` here to be able to override the default hidden behavior on the sphinx rendered scikit-learn.org. See: https://github.com/scikit-learn/scikit-learn/issues/21755 */display: inline-block !important;position: relative;}#sk-container-id-3 div.sk-text-repr-fallback {display: none;}</style><div id=\"sk-container-id-3\" class=\"sk-top-container\"><div class=\"sk-text-repr-fallback\"><pre>Pipeline(steps=[(&#x27;prep&#x27;,\n",
       "                 ColumnTransformer(transformers=[(&#x27;num&#x27;,\n",
       "                                                  Pipeline(steps=[(&#x27;imputer&#x27;,\n",
       "                                                                   SimpleImputer(strategy=&#x27;median&#x27;))]),\n",
       "                                                  Index([&#x27;allelectrons_total&#x27;, &#x27;density_total&#x27;, &#x27;allelectrons_average&#x27;,\n",
       "       &#x27;val_e_average&#x27;, &#x27;atomicweight_average&#x27;, &#x27;ionenergy_average&#x27;,\n",
       "       &#x27;el_neg_chi_average&#x27;, &#x27;r_vdw_element_average&#x27;, &#x27;r_cov_element_average&#x27;,\n",
       "       &#x27;zaratio_average&#x27;, &#x27;density_av...\n",
       "                                                                  (&#x27;encoder&#x27;,\n",
       "                                                                   OneHotEncoder(handle_unknown=&#x27;ignore&#x27;,\n",
       "                                                                                 sparse_output=False))]),\n",
       "                                                  Index([], dtype=&#x27;object&#x27;))])),\n",
       "                (&#x27;model&#x27;,\n",
       "                 LGBMRegressor(bagging_fraction=0.8811331211276131,\n",
       "                               bagging_freq=5,\n",
       "                               feature_fraction=0.7818724951463443,\n",
       "                               lambda_l1=0.0004175563821735222,\n",
       "                               lambda_l2=0.8614189517105145,\n",
       "                               min_child_samples=77, model_type=&#x27;LGBM&#x27;,\n",
       "                               n_estimator=100, num_leaves=121, verbose=-1))])</pre><b>In a Jupyter environment, please rerun this cell to show the HTML representation or trust the notebook. <br />On GitHub, the HTML representation is unable to render, please try loading this page with nbviewer.org.</b></div><div class=\"sk-container\" hidden><div class=\"sk-item sk-dashed-wrapped\"><div class=\"sk-label-container\"><div class=\"sk-label sk-toggleable\"><input class=\"sk-toggleable__control sk-hidden--visually\" id=\"sk-estimator-id-8\" type=\"checkbox\" ><label for=\"sk-estimator-id-8\" class=\"sk-toggleable__label sk-toggleable__label-arrow\">Pipeline</label><div class=\"sk-toggleable__content\"><pre>Pipeline(steps=[(&#x27;prep&#x27;,\n",
       "                 ColumnTransformer(transformers=[(&#x27;num&#x27;,\n",
       "                                                  Pipeline(steps=[(&#x27;imputer&#x27;,\n",
       "                                                                   SimpleImputer(strategy=&#x27;median&#x27;))]),\n",
       "                                                  Index([&#x27;allelectrons_total&#x27;, &#x27;density_total&#x27;, &#x27;allelectrons_average&#x27;,\n",
       "       &#x27;val_e_average&#x27;, &#x27;atomicweight_average&#x27;, &#x27;ionenergy_average&#x27;,\n",
       "       &#x27;el_neg_chi_average&#x27;, &#x27;r_vdw_element_average&#x27;, &#x27;r_cov_element_average&#x27;,\n",
       "       &#x27;zaratio_average&#x27;, &#x27;density_av...\n",
       "                                                                  (&#x27;encoder&#x27;,\n",
       "                                                                   OneHotEncoder(handle_unknown=&#x27;ignore&#x27;,\n",
       "                                                                                 sparse_output=False))]),\n",
       "                                                  Index([], dtype=&#x27;object&#x27;))])),\n",
       "                (&#x27;model&#x27;,\n",
       "                 LGBMRegressor(bagging_fraction=0.8811331211276131,\n",
       "                               bagging_freq=5,\n",
       "                               feature_fraction=0.7818724951463443,\n",
       "                               lambda_l1=0.0004175563821735222,\n",
       "                               lambda_l2=0.8614189517105145,\n",
       "                               min_child_samples=77, model_type=&#x27;LGBM&#x27;,\n",
       "                               n_estimator=100, num_leaves=121, verbose=-1))])</pre></div></div></div><div class=\"sk-serial\"><div class=\"sk-item sk-dashed-wrapped\"><div class=\"sk-label-container\"><div class=\"sk-label sk-toggleable\"><input class=\"sk-toggleable__control sk-hidden--visually\" id=\"sk-estimator-id-9\" type=\"checkbox\" ><label for=\"sk-estimator-id-9\" class=\"sk-toggleable__label sk-toggleable__label-arrow\">prep: ColumnTransformer</label><div class=\"sk-toggleable__content\"><pre>ColumnTransformer(transformers=[(&#x27;num&#x27;,\n",
       "                                 Pipeline(steps=[(&#x27;imputer&#x27;,\n",
       "                                                  SimpleImputer(strategy=&#x27;median&#x27;))]),\n",
       "                                 Index([&#x27;allelectrons_total&#x27;, &#x27;density_total&#x27;, &#x27;allelectrons_average&#x27;,\n",
       "       &#x27;val_e_average&#x27;, &#x27;atomicweight_average&#x27;, &#x27;ionenergy_average&#x27;,\n",
       "       &#x27;el_neg_chi_average&#x27;, &#x27;r_vdw_element_average&#x27;, &#x27;r_cov_element_average&#x27;,\n",
       "       &#x27;zaratio_average&#x27;, &#x27;density_average&#x27;],\n",
       "      dtype=&#x27;object&#x27;)),\n",
       "                                (&#x27;cat&#x27;,\n",
       "                                 Pipeline(steps=[(&#x27;imputer&#x27;,\n",
       "                                                  SimpleImputer(strategy=&#x27;most_frequent&#x27;)),\n",
       "                                                 (&#x27;encoder&#x27;,\n",
       "                                                  OneHotEncoder(handle_unknown=&#x27;ignore&#x27;,\n",
       "                                                                sparse_output=False))]),\n",
       "                                 Index([], dtype=&#x27;object&#x27;))])</pre></div></div></div><div class=\"sk-parallel\"><div class=\"sk-parallel-item\"><div class=\"sk-item\"><div class=\"sk-label-container\"><div class=\"sk-label sk-toggleable\"><input class=\"sk-toggleable__control sk-hidden--visually\" id=\"sk-estimator-id-10\" type=\"checkbox\" ><label for=\"sk-estimator-id-10\" class=\"sk-toggleable__label sk-toggleable__label-arrow\">num</label><div class=\"sk-toggleable__content\"><pre>Index([&#x27;allelectrons_total&#x27;, &#x27;density_total&#x27;, &#x27;allelectrons_average&#x27;,\n",
       "       &#x27;val_e_average&#x27;, &#x27;atomicweight_average&#x27;, &#x27;ionenergy_average&#x27;,\n",
       "       &#x27;el_neg_chi_average&#x27;, &#x27;r_vdw_element_average&#x27;, &#x27;r_cov_element_average&#x27;,\n",
       "       &#x27;zaratio_average&#x27;, &#x27;density_average&#x27;],\n",
       "      dtype=&#x27;object&#x27;)</pre></div></div></div><div class=\"sk-serial\"><div class=\"sk-item\"><div class=\"sk-serial\"><div class=\"sk-item\"><div class=\"sk-estimator sk-toggleable\"><input class=\"sk-toggleable__control sk-hidden--visually\" id=\"sk-estimator-id-11\" type=\"checkbox\" ><label for=\"sk-estimator-id-11\" class=\"sk-toggleable__label sk-toggleable__label-arrow\">SimpleImputer</label><div class=\"sk-toggleable__content\"><pre>SimpleImputer(strategy=&#x27;median&#x27;)</pre></div></div></div></div></div></div></div></div><div class=\"sk-parallel-item\"><div class=\"sk-item\"><div class=\"sk-label-container\"><div class=\"sk-label sk-toggleable\"><input class=\"sk-toggleable__control sk-hidden--visually\" id=\"sk-estimator-id-12\" type=\"checkbox\" ><label for=\"sk-estimator-id-12\" class=\"sk-toggleable__label sk-toggleable__label-arrow\">cat</label><div class=\"sk-toggleable__content\"><pre>Index([], dtype=&#x27;object&#x27;)</pre></div></div></div><div class=\"sk-serial\"><div class=\"sk-item\"><div class=\"sk-serial\"><div class=\"sk-item\"><div class=\"sk-estimator sk-toggleable\"><input class=\"sk-toggleable__control sk-hidden--visually\" id=\"sk-estimator-id-13\" type=\"checkbox\" ><label for=\"sk-estimator-id-13\" class=\"sk-toggleable__label sk-toggleable__label-arrow\">SimpleImputer</label><div class=\"sk-toggleable__content\"><pre>SimpleImputer(strategy=&#x27;most_frequent&#x27;)</pre></div></div></div><div class=\"sk-item\"><div class=\"sk-estimator sk-toggleable\"><input class=\"sk-toggleable__control sk-hidden--visually\" id=\"sk-estimator-id-14\" type=\"checkbox\" ><label for=\"sk-estimator-id-14\" class=\"sk-toggleable__label sk-toggleable__label-arrow\">OneHotEncoder</label><div class=\"sk-toggleable__content\"><pre>OneHotEncoder(handle_unknown=&#x27;ignore&#x27;, sparse_output=False)</pre></div></div></div></div></div></div></div></div></div></div><div class=\"sk-item\"><div class=\"sk-estimator sk-toggleable\"><input class=\"sk-toggleable__control sk-hidden--visually\" id=\"sk-estimator-id-15\" type=\"checkbox\" ><label for=\"sk-estimator-id-15\" class=\"sk-toggleable__label sk-toggleable__label-arrow\">LGBMRegressor</label><div class=\"sk-toggleable__content\"><pre>LGBMRegressor(bagging_fraction=0.8811331211276131, bagging_freq=5,\n",
       "              feature_fraction=0.7818724951463443,\n",
       "              lambda_l1=0.0004175563821735222, lambda_l2=0.8614189517105145,\n",
       "              min_child_samples=77, model_type=&#x27;LGBM&#x27;, n_estimator=100,\n",
       "              num_leaves=121, verbose=-1)</pre></div></div></div></div></div></div></div>"
      ],
      "text/plain": [
       "Pipeline(steps=[('prep',\n",
       "                 ColumnTransformer(transformers=[('num',\n",
       "                                                  Pipeline(steps=[('imputer',\n",
       "                                                                   SimpleImputer(strategy='median'))]),\n",
       "                                                  Index(['allelectrons_total', 'density_total', 'allelectrons_average',\n",
       "       'val_e_average', 'atomicweight_average', 'ionenergy_average',\n",
       "       'el_neg_chi_average', 'r_vdw_element_average', 'r_cov_element_average',\n",
       "       'zaratio_average', 'density_av...\n",
       "                                                                  ('encoder',\n",
       "                                                                   OneHotEncoder(handle_unknown='ignore',\n",
       "                                                                                 sparse_output=False))]),\n",
       "                                                  Index([], dtype='object'))])),\n",
       "                ('model',\n",
       "                 LGBMRegressor(bagging_fraction=0.8811331211276131,\n",
       "                               bagging_freq=5,\n",
       "                               feature_fraction=0.7818724951463443,\n",
       "                               lambda_l1=0.0004175563821735222,\n",
       "                               lambda_l2=0.8614189517105145,\n",
       "                               min_child_samples=77, model_type='LGBM',\n",
       "                               n_estimator=100, num_leaves=121, verbose=-1))])"
      ]
     },
     "execution_count": 25,
     "metadata": {},
     "output_type": "execute_result"
    }
   ],
   "source": [
    "model = Pipeline(\n",
    "    [(\"prep\", preprocessor),\n",
    "     (\"model\", model)\n",
    "     ]\n",
    ")\n",
    "model"
   ]
  },
  {
   "cell_type": "code",
   "execution_count": 26,
   "id": "172893d1",
   "metadata": {
    "execution": {
     "iopub.execute_input": "2024-03-23T20:25:25.550568Z",
     "iopub.status.busy": "2024-03-23T20:25:25.549654Z",
     "iopub.status.idle": "2024-03-23T20:25:25.565853Z",
     "shell.execute_reply": "2024-03-23T20:25:25.565099Z"
    },
    "papermill": {
     "duration": 0.030197,
     "end_time": "2024-03-23T20:25:25.567743",
     "exception": false,
     "start_time": "2024-03-23T20:25:25.537546",
     "status": "completed"
    },
    "tags": []
   },
   "outputs": [
    {
     "data": {
      "text/html": [
       "<div>\n",
       "<style scoped>\n",
       "    .dataframe tbody tr th:only-of-type {\n",
       "        vertical-align: middle;\n",
       "    }\n",
       "\n",
       "    .dataframe tbody tr th {\n",
       "        vertical-align: top;\n",
       "    }\n",
       "\n",
       "    .dataframe thead th {\n",
       "        text-align: right;\n",
       "    }\n",
       "</style>\n",
       "<table border=\"1\" class=\"dataframe\">\n",
       "  <thead>\n",
       "    <tr style=\"text-align: right;\">\n",
       "      <th></th>\n",
       "      <th>allelectrons_total</th>\n",
       "      <th>density_total</th>\n",
       "      <th>allelectrons_average</th>\n",
       "      <th>val_e_average</th>\n",
       "      <th>atomicweight_average</th>\n",
       "      <th>ionenergy_average</th>\n",
       "      <th>el_neg_chi_average</th>\n",
       "      <th>r_vdw_element_average</th>\n",
       "      <th>r_cov_element_average</th>\n",
       "      <th>zaratio_average</th>\n",
       "      <th>density_average</th>\n",
       "    </tr>\n",
       "  </thead>\n",
       "  <tbody>\n",
       "    <tr>\n",
       "      <th>0</th>\n",
       "      <td>884.0</td>\n",
       "      <td>121.42000</td>\n",
       "      <td>35.36</td>\n",
       "      <td>5.28</td>\n",
       "      <td>82.561240</td>\n",
       "      <td>9.370384</td>\n",
       "      <td>2.298</td>\n",
       "      <td>1.9072</td>\n",
       "      <td>1.200</td>\n",
       "      <td>0.461899</td>\n",
       "      <td>1.79459</td>\n",
       "    </tr>\n",
       "    <tr>\n",
       "      <th>1</th>\n",
       "      <td>90.0</td>\n",
       "      <td>9.93196</td>\n",
       "      <td>18.00</td>\n",
       "      <td>5.60</td>\n",
       "      <td>39.568056</td>\n",
       "      <td>12.086300</td>\n",
       "      <td>2.868</td>\n",
       "      <td>1.6520</td>\n",
       "      <td>0.864</td>\n",
       "      <td>0.476196</td>\n",
       "      <td>1.41194</td>\n",
       "    </tr>\n",
       "  </tbody>\n",
       "</table>\n",
       "</div>"
      ],
      "text/plain": [
       "   allelectrons_total  density_total  allelectrons_average  val_e_average  \\\n",
       "0               884.0      121.42000                 35.36           5.28   \n",
       "1                90.0        9.93196                 18.00           5.60   \n",
       "\n",
       "   atomicweight_average  ionenergy_average  el_neg_chi_average  \\\n",
       "0             82.561240           9.370384               2.298   \n",
       "1             39.568056          12.086300               2.868   \n",
       "\n",
       "   r_vdw_element_average  r_cov_element_average  zaratio_average  \\\n",
       "0                 1.9072                  1.200         0.461899   \n",
       "1                 1.6520                  0.864         0.476196   \n",
       "\n",
       "   density_average  \n",
       "0          1.79459  \n",
       "1          1.41194  "
      ]
     },
     "execution_count": 26,
     "metadata": {},
     "output_type": "execute_result"
    }
   ],
   "source": [
    "test_data.columns=test_data.columns.str.lower()\n",
    "test_data.drop(columns=['id'], inplace=True)\n",
    "test_data.head(2)"
   ]
  },
  {
   "cell_type": "code",
   "execution_count": 27,
   "id": "5f5092aa",
   "metadata": {
    "execution": {
     "iopub.execute_input": "2024-03-23T20:25:25.591840Z",
     "iopub.status.busy": "2024-03-23T20:25:25.590863Z",
     "iopub.status.idle": "2024-03-23T20:25:25.614049Z",
     "shell.execute_reply": "2024-03-23T20:25:25.613286Z"
    },
    "papermill": {
     "duration": 0.037257,
     "end_time": "2024-03-23T20:25:25.616030",
     "exception": false,
     "start_time": "2024-03-23T20:25:25.578773",
     "status": "completed"
    },
    "tags": []
   },
   "outputs": [
    {
     "data": {
      "text/html": [
       "<div>\n",
       "<style scoped>\n",
       "    .dataframe tbody tr th:only-of-type {\n",
       "        vertical-align: middle;\n",
       "    }\n",
       "\n",
       "    .dataframe tbody tr th {\n",
       "        vertical-align: top;\n",
       "    }\n",
       "\n",
       "    .dataframe thead th {\n",
       "        text-align: right;\n",
       "    }\n",
       "</style>\n",
       "<table border=\"1\" class=\"dataframe\">\n",
       "  <thead>\n",
       "    <tr style=\"text-align: right;\">\n",
       "      <th></th>\n",
       "      <th>num__allelectrons_total</th>\n",
       "      <th>num__density_total</th>\n",
       "      <th>num__allelectrons_average</th>\n",
       "      <th>num__val_e_average</th>\n",
       "      <th>num__atomicweight_average</th>\n",
       "      <th>num__ionenergy_average</th>\n",
       "      <th>num__el_neg_chi_average</th>\n",
       "      <th>num__r_vdw_element_average</th>\n",
       "      <th>num__r_cov_element_average</th>\n",
       "      <th>num__zaratio_average</th>\n",
       "      <th>num__density_average</th>\n",
       "    </tr>\n",
       "  </thead>\n",
       "  <tbody>\n",
       "    <tr>\n",
       "      <th>0</th>\n",
       "      <td>884.0</td>\n",
       "      <td>121.420000</td>\n",
       "      <td>35.360000</td>\n",
       "      <td>5.280000</td>\n",
       "      <td>82.561240</td>\n",
       "      <td>9.370384</td>\n",
       "      <td>2.298000</td>\n",
       "      <td>1.907200</td>\n",
       "      <td>1.200000</td>\n",
       "      <td>0.461899</td>\n",
       "      <td>1.79459</td>\n",
       "    </tr>\n",
       "    <tr>\n",
       "      <th>1</th>\n",
       "      <td>90.0</td>\n",
       "      <td>9.931960</td>\n",
       "      <td>18.000000</td>\n",
       "      <td>5.600000</td>\n",
       "      <td>39.568056</td>\n",
       "      <td>12.086300</td>\n",
       "      <td>2.868000</td>\n",
       "      <td>1.652000</td>\n",
       "      <td>0.864000</td>\n",
       "      <td>0.476196</td>\n",
       "      <td>1.41194</td>\n",
       "    </tr>\n",
       "    <tr>\n",
       "      <th>2</th>\n",
       "      <td>116.0</td>\n",
       "      <td>7.767992</td>\n",
       "      <td>11.600000</td>\n",
       "      <td>4.800000</td>\n",
       "      <td>23.231818</td>\n",
       "      <td>11.023840</td>\n",
       "      <td>2.644000</td>\n",
       "      <td>1.794000</td>\n",
       "      <td>0.960000</td>\n",
       "      <td>0.499514</td>\n",
       "      <td>0.78834</td>\n",
       "    </tr>\n",
       "    <tr>\n",
       "      <th>3</th>\n",
       "      <td>100.0</td>\n",
       "      <td>9.107996</td>\n",
       "      <td>10.000000</td>\n",
       "      <td>4.800000</td>\n",
       "      <td>20.298893</td>\n",
       "      <td>12.086300</td>\n",
       "      <td>2.828000</td>\n",
       "      <td>1.662000</td>\n",
       "      <td>0.792000</td>\n",
       "      <td>0.495796</td>\n",
       "      <td>1.20466</td>\n",
       "    </tr>\n",
       "    <tr>\n",
       "      <th>4</th>\n",
       "      <td>55.0</td>\n",
       "      <td>4.030000</td>\n",
       "      <td>11.000000</td>\n",
       "      <td>4.000000</td>\n",
       "      <td>22.977675</td>\n",
       "      <td>11.280950</td>\n",
       "      <td>2.455000</td>\n",
       "      <td>1.750000</td>\n",
       "      <td>0.893333</td>\n",
       "      <td>0.476095</td>\n",
       "      <td>0.93456</td>\n",
       "    </tr>\n",
       "    <tr>\n",
       "      <th>...</th>\n",
       "      <td>...</td>\n",
       "      <td>...</td>\n",
       "      <td>...</td>\n",
       "      <td>...</td>\n",
       "      <td>...</td>\n",
       "      <td>...</td>\n",
       "      <td>...</td>\n",
       "      <td>...</td>\n",
       "      <td>...</td>\n",
       "      <td>...</td>\n",
       "      <td>...</td>\n",
       "    </tr>\n",
       "    <tr>\n",
       "      <th>6934</th>\n",
       "      <td>446.0</td>\n",
       "      <td>36.135392</td>\n",
       "      <td>9.636364</td>\n",
       "      <td>4.636364</td>\n",
       "      <td>19.689448</td>\n",
       "      <td>11.045515</td>\n",
       "      <td>2.768636</td>\n",
       "      <td>1.769697</td>\n",
       "      <td>0.871818</td>\n",
       "      <td>0.498702</td>\n",
       "      <td>0.11548</td>\n",
       "    </tr>\n",
       "    <tr>\n",
       "      <th>6935</th>\n",
       "      <td>36.0</td>\n",
       "      <td>3.550000</td>\n",
       "      <td>18.000000</td>\n",
       "      <td>4.000000</td>\n",
       "      <td>36.068500</td>\n",
       "      <td>8.236600</td>\n",
       "      <td>1.790000</td>\n",
       "      <td>2.055000</td>\n",
       "      <td>1.390000</td>\n",
       "      <td>0.499000</td>\n",
       "      <td>1.35045</td>\n",
       "    </tr>\n",
       "    <tr>\n",
       "      <th>6936</th>\n",
       "      <td>68.0</td>\n",
       "      <td>4.545328</td>\n",
       "      <td>11.333333</td>\n",
       "      <td>5.333333</td>\n",
       "      <td>22.688853</td>\n",
       "      <td>10.938358</td>\n",
       "      <td>2.876667</td>\n",
       "      <td>1.713333</td>\n",
       "      <td>0.916667</td>\n",
       "      <td>0.499074</td>\n",
       "      <td>0.73425</td>\n",
       "    </tr>\n",
       "    <tr>\n",
       "      <th>6937</th>\n",
       "      <td>40.0</td>\n",
       "      <td>2.334164</td>\n",
       "      <td>6.666667</td>\n",
       "      <td>4.000000</td>\n",
       "      <td>13.016128</td>\n",
       "      <td>12.700467</td>\n",
       "      <td>2.770000</td>\n",
       "      <td>1.476667</td>\n",
       "      <td>0.616667</td>\n",
       "      <td>0.663797</td>\n",
       "      <td>0.51227</td>\n",
       "    </tr>\n",
       "    <tr>\n",
       "      <th>6938</th>\n",
       "      <td>134.0</td>\n",
       "      <td>17.590000</td>\n",
       "      <td>67.000000</td>\n",
       "      <td>5.000000</td>\n",
       "      <td>167.400000</td>\n",
       "      <td>8.213150</td>\n",
       "      <td>1.950000</td>\n",
       "      <td>2.040000</td>\n",
       "      <td>1.410000</td>\n",
       "      <td>0.401635</td>\n",
       "      <td>0.44035</td>\n",
       "    </tr>\n",
       "  </tbody>\n",
       "</table>\n",
       "<p>6939 rows × 11 columns</p>\n",
       "</div>"
      ],
      "text/plain": [
       "      num__allelectrons_total  num__density_total  num__allelectrons_average  \\\n",
       "0                       884.0          121.420000                  35.360000   \n",
       "1                        90.0            9.931960                  18.000000   \n",
       "2                       116.0            7.767992                  11.600000   \n",
       "3                       100.0            9.107996                  10.000000   \n",
       "4                        55.0            4.030000                  11.000000   \n",
       "...                       ...                 ...                        ...   \n",
       "6934                    446.0           36.135392                   9.636364   \n",
       "6935                     36.0            3.550000                  18.000000   \n",
       "6936                     68.0            4.545328                  11.333333   \n",
       "6937                     40.0            2.334164                   6.666667   \n",
       "6938                    134.0           17.590000                  67.000000   \n",
       "\n",
       "      num__val_e_average  num__atomicweight_average  num__ionenergy_average  \\\n",
       "0               5.280000                  82.561240                9.370384   \n",
       "1               5.600000                  39.568056               12.086300   \n",
       "2               4.800000                  23.231818               11.023840   \n",
       "3               4.800000                  20.298893               12.086300   \n",
       "4               4.000000                  22.977675               11.280950   \n",
       "...                  ...                        ...                     ...   \n",
       "6934            4.636364                  19.689448               11.045515   \n",
       "6935            4.000000                  36.068500                8.236600   \n",
       "6936            5.333333                  22.688853               10.938358   \n",
       "6937            4.000000                  13.016128               12.700467   \n",
       "6938            5.000000                 167.400000                8.213150   \n",
       "\n",
       "      num__el_neg_chi_average  num__r_vdw_element_average  \\\n",
       "0                    2.298000                    1.907200   \n",
       "1                    2.868000                    1.652000   \n",
       "2                    2.644000                    1.794000   \n",
       "3                    2.828000                    1.662000   \n",
       "4                    2.455000                    1.750000   \n",
       "...                       ...                         ...   \n",
       "6934                 2.768636                    1.769697   \n",
       "6935                 1.790000                    2.055000   \n",
       "6936                 2.876667                    1.713333   \n",
       "6937                 2.770000                    1.476667   \n",
       "6938                 1.950000                    2.040000   \n",
       "\n",
       "      num__r_cov_element_average  num__zaratio_average  num__density_average  \n",
       "0                       1.200000              0.461899               1.79459  \n",
       "1                       0.864000              0.476196               1.41194  \n",
       "2                       0.960000              0.499514               0.78834  \n",
       "3                       0.792000              0.495796               1.20466  \n",
       "4                       0.893333              0.476095               0.93456  \n",
       "...                          ...                   ...                   ...  \n",
       "6934                    0.871818              0.498702               0.11548  \n",
       "6935                    1.390000              0.499000               1.35045  \n",
       "6936                    0.916667              0.499074               0.73425  \n",
       "6937                    0.616667              0.663797               0.51227  \n",
       "6938                    1.410000              0.401635               0.44035  \n",
       "\n",
       "[6939 rows x 11 columns]"
      ]
     },
     "execution_count": 27,
     "metadata": {},
     "output_type": "execute_result"
    }
   ],
   "source": [
    "preprocessor.transform(test_data)"
   ]
  }
 ],
 "metadata": {
  "kaggle": {
   "accelerator": "none",
   "dataSources": [
    {
     "databundleVersionId": 6989718,
     "sourceId": 60892,
     "sourceType": "competition"
    }
   ],
   "dockerImageVersionId": 30673,
   "isGpuEnabled": false,
   "isInternetEnabled": true,
   "language": "python",
   "sourceType": "notebook"
  },
  "kernelspec": {
   "display_name": "Python 3",
   "language": "python",
   "name": "python3"
  },
  "language_info": {
   "codemirror_mode": {
    "name": "ipython",
    "version": 3
   },
   "file_extension": ".py",
   "mimetype": "text/x-python",
   "name": "python",
   "nbconvert_exporter": "python",
   "pygments_lexer": "ipython3",
   "version": "3.10.13"
  },
  "papermill": {
   "default_parameters": {},
   "duration": 41.623687,
   "end_time": "2024-03-23T20:25:26.348391",
   "environment_variables": {},
   "exception": null,
   "input_path": "__notebook__.ipynb",
   "output_path": "__notebook__.ipynb",
   "parameters": {},
   "start_time": "2024-03-23T20:24:44.724704",
   "version": "2.5.0"
  }
 },
 "nbformat": 4,
 "nbformat_minor": 5
}
