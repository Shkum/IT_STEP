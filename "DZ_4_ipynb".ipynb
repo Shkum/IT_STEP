{
  "nbformat": 4,
  "nbformat_minor": 0,
  "metadata": {
    "colab": {
      "provenance": [],
      "include_colab_link": true
    },
    "kernelspec": {
      "name": "python3",
      "display_name": "Python 3"
    },
    "language_info": {
      "name": "python"
    }
  },
  "cells": [
    {
      "cell_type": "markdown",
      "metadata": {
        "id": "view-in-github",
        "colab_type": "text"
      },
      "source": [
        "<a href=\"https://colab.research.google.com/github/Shkum/IT_STEP/blob/ML/%22DZ_4_ipynb%22.ipynb\" target=\"_parent\"><img src=\"https://colab.research.google.com/assets/colab-badge.svg\" alt=\"Open In Colab\"/></a>"
      ]
    },
    {
      "cell_type": "markdown",
      "source": [
        "Імпорт модулів та даних"
      ],
      "metadata": {
        "id": "hfOaZ6SkWgtW"
      }
    },
    {
      "cell_type": "code",
      "execution_count": 1,
      "metadata": {
        "id": "lpUB6B6TWdnb"
      },
      "outputs": [],
      "source": [
        "import pandas as pd\n",
        "import numpy as np\n",
        "import matplotlib.pyplot as plt"
      ]
    },
    {
      "cell_type": "code",
      "source": [
        "df = pd.read_csv(\"https://raw.githubusercontent.com/HalyshAnton/IT-Step-Pyton-AI/main/module2/data/possum.csv\")"
      ],
      "metadata": {
        "id": "8jP3Lks4WpHi"
      },
      "execution_count": 2,
      "outputs": []
    },
    {
      "cell_type": "code",
      "source": [
        "df.head()"
      ],
      "metadata": {
        "id": "lVb1XOT2W2O6",
        "colab": {
          "base_uri": "https://localhost:8080/",
          "height": 206
        },
        "outputId": "8449bc51-9963-4b33-d94b-2b0f72a2a948"
      },
      "execution_count": 3,
      "outputs": [
        {
          "output_type": "execute_result",
          "data": {
            "text/plain": [
              "   case  site  Pop sex  age  hdlngth  skullw  totlngth  taill  footlgth  \\\n",
              "0     1     1  Vic   m  8.0     94.1    60.4      89.0   36.0      74.5   \n",
              "1     2     1  Vic   f  6.0     92.5    57.6      91.5   36.5      72.5   \n",
              "2     3     1  Vic   f  6.0     94.0    60.0      95.5   39.0      75.4   \n",
              "3     4     1  Vic   f  6.0     93.2    57.1      92.0   38.0      76.1   \n",
              "4     5     1  Vic   f  2.0     91.5    56.3      85.5   36.0      71.0   \n",
              "\n",
              "   earconch   eye  chest  belly  \n",
              "0      54.5  15.2   28.0   36.0  \n",
              "1      51.2  16.0   28.5   33.0  \n",
              "2      51.9  15.5   30.0   34.0  \n",
              "3      52.2  15.2   28.0   34.0  \n",
              "4      53.2  15.1   28.5   33.0  "
            ],
            "text/html": [
              "\n",
              "  <div id=\"df-97d16c3f-d8c1-4e8b-a225-09620e848a39\" class=\"colab-df-container\">\n",
              "    <div>\n",
              "<style scoped>\n",
              "    .dataframe tbody tr th:only-of-type {\n",
              "        vertical-align: middle;\n",
              "    }\n",
              "\n",
              "    .dataframe tbody tr th {\n",
              "        vertical-align: top;\n",
              "    }\n",
              "\n",
              "    .dataframe thead th {\n",
              "        text-align: right;\n",
              "    }\n",
              "</style>\n",
              "<table border=\"1\" class=\"dataframe\">\n",
              "  <thead>\n",
              "    <tr style=\"text-align: right;\">\n",
              "      <th></th>\n",
              "      <th>case</th>\n",
              "      <th>site</th>\n",
              "      <th>Pop</th>\n",
              "      <th>sex</th>\n",
              "      <th>age</th>\n",
              "      <th>hdlngth</th>\n",
              "      <th>skullw</th>\n",
              "      <th>totlngth</th>\n",
              "      <th>taill</th>\n",
              "      <th>footlgth</th>\n",
              "      <th>earconch</th>\n",
              "      <th>eye</th>\n",
              "      <th>chest</th>\n",
              "      <th>belly</th>\n",
              "    </tr>\n",
              "  </thead>\n",
              "  <tbody>\n",
              "    <tr>\n",
              "      <th>0</th>\n",
              "      <td>1</td>\n",
              "      <td>1</td>\n",
              "      <td>Vic</td>\n",
              "      <td>m</td>\n",
              "      <td>8.0</td>\n",
              "      <td>94.1</td>\n",
              "      <td>60.4</td>\n",
              "      <td>89.0</td>\n",
              "      <td>36.0</td>\n",
              "      <td>74.5</td>\n",
              "      <td>54.5</td>\n",
              "      <td>15.2</td>\n",
              "      <td>28.0</td>\n",
              "      <td>36.0</td>\n",
              "    </tr>\n",
              "    <tr>\n",
              "      <th>1</th>\n",
              "      <td>2</td>\n",
              "      <td>1</td>\n",
              "      <td>Vic</td>\n",
              "      <td>f</td>\n",
              "      <td>6.0</td>\n",
              "      <td>92.5</td>\n",
              "      <td>57.6</td>\n",
              "      <td>91.5</td>\n",
              "      <td>36.5</td>\n",
              "      <td>72.5</td>\n",
              "      <td>51.2</td>\n",
              "      <td>16.0</td>\n",
              "      <td>28.5</td>\n",
              "      <td>33.0</td>\n",
              "    </tr>\n",
              "    <tr>\n",
              "      <th>2</th>\n",
              "      <td>3</td>\n",
              "      <td>1</td>\n",
              "      <td>Vic</td>\n",
              "      <td>f</td>\n",
              "      <td>6.0</td>\n",
              "      <td>94.0</td>\n",
              "      <td>60.0</td>\n",
              "      <td>95.5</td>\n",
              "      <td>39.0</td>\n",
              "      <td>75.4</td>\n",
              "      <td>51.9</td>\n",
              "      <td>15.5</td>\n",
              "      <td>30.0</td>\n",
              "      <td>34.0</td>\n",
              "    </tr>\n",
              "    <tr>\n",
              "      <th>3</th>\n",
              "      <td>4</td>\n",
              "      <td>1</td>\n",
              "      <td>Vic</td>\n",
              "      <td>f</td>\n",
              "      <td>6.0</td>\n",
              "      <td>93.2</td>\n",
              "      <td>57.1</td>\n",
              "      <td>92.0</td>\n",
              "      <td>38.0</td>\n",
              "      <td>76.1</td>\n",
              "      <td>52.2</td>\n",
              "      <td>15.2</td>\n",
              "      <td>28.0</td>\n",
              "      <td>34.0</td>\n",
              "    </tr>\n",
              "    <tr>\n",
              "      <th>4</th>\n",
              "      <td>5</td>\n",
              "      <td>1</td>\n",
              "      <td>Vic</td>\n",
              "      <td>f</td>\n",
              "      <td>2.0</td>\n",
              "      <td>91.5</td>\n",
              "      <td>56.3</td>\n",
              "      <td>85.5</td>\n",
              "      <td>36.0</td>\n",
              "      <td>71.0</td>\n",
              "      <td>53.2</td>\n",
              "      <td>15.1</td>\n",
              "      <td>28.5</td>\n",
              "      <td>33.0</td>\n",
              "    </tr>\n",
              "  </tbody>\n",
              "</table>\n",
              "</div>\n",
              "    <div class=\"colab-df-buttons\">\n",
              "\n",
              "  <div class=\"colab-df-container\">\n",
              "    <button class=\"colab-df-convert\" onclick=\"convertToInteractive('df-97d16c3f-d8c1-4e8b-a225-09620e848a39')\"\n",
              "            title=\"Convert this dataframe to an interactive table.\"\n",
              "            style=\"display:none;\">\n",
              "\n",
              "  <svg xmlns=\"http://www.w3.org/2000/svg\" height=\"24px\" viewBox=\"0 -960 960 960\">\n",
              "    <path d=\"M120-120v-720h720v720H120Zm60-500h600v-160H180v160Zm220 220h160v-160H400v160Zm0 220h160v-160H400v160ZM180-400h160v-160H180v160Zm440 0h160v-160H620v160ZM180-180h160v-160H180v160Zm440 0h160v-160H620v160Z\"/>\n",
              "  </svg>\n",
              "    </button>\n",
              "\n",
              "  <style>\n",
              "    .colab-df-container {\n",
              "      display:flex;\n",
              "      gap: 12px;\n",
              "    }\n",
              "\n",
              "    .colab-df-convert {\n",
              "      background-color: #E8F0FE;\n",
              "      border: none;\n",
              "      border-radius: 50%;\n",
              "      cursor: pointer;\n",
              "      display: none;\n",
              "      fill: #1967D2;\n",
              "      height: 32px;\n",
              "      padding: 0 0 0 0;\n",
              "      width: 32px;\n",
              "    }\n",
              "\n",
              "    .colab-df-convert:hover {\n",
              "      background-color: #E2EBFA;\n",
              "      box-shadow: 0px 1px 2px rgba(60, 64, 67, 0.3), 0px 1px 3px 1px rgba(60, 64, 67, 0.15);\n",
              "      fill: #174EA6;\n",
              "    }\n",
              "\n",
              "    .colab-df-buttons div {\n",
              "      margin-bottom: 4px;\n",
              "    }\n",
              "\n",
              "    [theme=dark] .colab-df-convert {\n",
              "      background-color: #3B4455;\n",
              "      fill: #D2E3FC;\n",
              "    }\n",
              "\n",
              "    [theme=dark] .colab-df-convert:hover {\n",
              "      background-color: #434B5C;\n",
              "      box-shadow: 0px 1px 3px 1px rgba(0, 0, 0, 0.15);\n",
              "      filter: drop-shadow(0px 1px 2px rgba(0, 0, 0, 0.3));\n",
              "      fill: #FFFFFF;\n",
              "    }\n",
              "  </style>\n",
              "\n",
              "    <script>\n",
              "      const buttonEl =\n",
              "        document.querySelector('#df-97d16c3f-d8c1-4e8b-a225-09620e848a39 button.colab-df-convert');\n",
              "      buttonEl.style.display =\n",
              "        google.colab.kernel.accessAllowed ? 'block' : 'none';\n",
              "\n",
              "      async function convertToInteractive(key) {\n",
              "        const element = document.querySelector('#df-97d16c3f-d8c1-4e8b-a225-09620e848a39');\n",
              "        const dataTable =\n",
              "          await google.colab.kernel.invokeFunction('convertToInteractive',\n",
              "                                                    [key], {});\n",
              "        if (!dataTable) return;\n",
              "\n",
              "        const docLinkHtml = 'Like what you see? Visit the ' +\n",
              "          '<a target=\"_blank\" href=https://colab.research.google.com/notebooks/data_table.ipynb>data table notebook</a>'\n",
              "          + ' to learn more about interactive tables.';\n",
              "        element.innerHTML = '';\n",
              "        dataTable['output_type'] = 'display_data';\n",
              "        await google.colab.output.renderOutput(dataTable, element);\n",
              "        const docLink = document.createElement('div');\n",
              "        docLink.innerHTML = docLinkHtml;\n",
              "        element.appendChild(docLink);\n",
              "      }\n",
              "    </script>\n",
              "  </div>\n",
              "\n",
              "\n",
              "<div id=\"df-ed009953-e061-419e-a3d0-e615aeaaeb94\">\n",
              "  <button class=\"colab-df-quickchart\" onclick=\"quickchart('df-ed009953-e061-419e-a3d0-e615aeaaeb94')\"\n",
              "            title=\"Suggest charts\"\n",
              "            style=\"display:none;\">\n",
              "\n",
              "<svg xmlns=\"http://www.w3.org/2000/svg\" height=\"24px\"viewBox=\"0 0 24 24\"\n",
              "     width=\"24px\">\n",
              "    <g>\n",
              "        <path d=\"M19 3H5c-1.1 0-2 .9-2 2v14c0 1.1.9 2 2 2h14c1.1 0 2-.9 2-2V5c0-1.1-.9-2-2-2zM9 17H7v-7h2v7zm4 0h-2V7h2v10zm4 0h-2v-4h2v4z\"/>\n",
              "    </g>\n",
              "</svg>\n",
              "  </button>\n",
              "\n",
              "<style>\n",
              "  .colab-df-quickchart {\n",
              "      --bg-color: #E8F0FE;\n",
              "      --fill-color: #1967D2;\n",
              "      --hover-bg-color: #E2EBFA;\n",
              "      --hover-fill-color: #174EA6;\n",
              "      --disabled-fill-color: #AAA;\n",
              "      --disabled-bg-color: #DDD;\n",
              "  }\n",
              "\n",
              "  [theme=dark] .colab-df-quickchart {\n",
              "      --bg-color: #3B4455;\n",
              "      --fill-color: #D2E3FC;\n",
              "      --hover-bg-color: #434B5C;\n",
              "      --hover-fill-color: #FFFFFF;\n",
              "      --disabled-bg-color: #3B4455;\n",
              "      --disabled-fill-color: #666;\n",
              "  }\n",
              "\n",
              "  .colab-df-quickchart {\n",
              "    background-color: var(--bg-color);\n",
              "    border: none;\n",
              "    border-radius: 50%;\n",
              "    cursor: pointer;\n",
              "    display: none;\n",
              "    fill: var(--fill-color);\n",
              "    height: 32px;\n",
              "    padding: 0;\n",
              "    width: 32px;\n",
              "  }\n",
              "\n",
              "  .colab-df-quickchart:hover {\n",
              "    background-color: var(--hover-bg-color);\n",
              "    box-shadow: 0 1px 2px rgba(60, 64, 67, 0.3), 0 1px 3px 1px rgba(60, 64, 67, 0.15);\n",
              "    fill: var(--button-hover-fill-color);\n",
              "  }\n",
              "\n",
              "  .colab-df-quickchart-complete:disabled,\n",
              "  .colab-df-quickchart-complete:disabled:hover {\n",
              "    background-color: var(--disabled-bg-color);\n",
              "    fill: var(--disabled-fill-color);\n",
              "    box-shadow: none;\n",
              "  }\n",
              "\n",
              "  .colab-df-spinner {\n",
              "    border: 2px solid var(--fill-color);\n",
              "    border-color: transparent;\n",
              "    border-bottom-color: var(--fill-color);\n",
              "    animation:\n",
              "      spin 1s steps(1) infinite;\n",
              "  }\n",
              "\n",
              "  @keyframes spin {\n",
              "    0% {\n",
              "      border-color: transparent;\n",
              "      border-bottom-color: var(--fill-color);\n",
              "      border-left-color: var(--fill-color);\n",
              "    }\n",
              "    20% {\n",
              "      border-color: transparent;\n",
              "      border-left-color: var(--fill-color);\n",
              "      border-top-color: var(--fill-color);\n",
              "    }\n",
              "    30% {\n",
              "      border-color: transparent;\n",
              "      border-left-color: var(--fill-color);\n",
              "      border-top-color: var(--fill-color);\n",
              "      border-right-color: var(--fill-color);\n",
              "    }\n",
              "    40% {\n",
              "      border-color: transparent;\n",
              "      border-right-color: var(--fill-color);\n",
              "      border-top-color: var(--fill-color);\n",
              "    }\n",
              "    60% {\n",
              "      border-color: transparent;\n",
              "      border-right-color: var(--fill-color);\n",
              "    }\n",
              "    80% {\n",
              "      border-color: transparent;\n",
              "      border-right-color: var(--fill-color);\n",
              "      border-bottom-color: var(--fill-color);\n",
              "    }\n",
              "    90% {\n",
              "      border-color: transparent;\n",
              "      border-bottom-color: var(--fill-color);\n",
              "    }\n",
              "  }\n",
              "</style>\n",
              "\n",
              "  <script>\n",
              "    async function quickchart(key) {\n",
              "      const quickchartButtonEl =\n",
              "        document.querySelector('#' + key + ' button');\n",
              "      quickchartButtonEl.disabled = true;  // To prevent multiple clicks.\n",
              "      quickchartButtonEl.classList.add('colab-df-spinner');\n",
              "      try {\n",
              "        const charts = await google.colab.kernel.invokeFunction(\n",
              "            'suggestCharts', [key], {});\n",
              "      } catch (error) {\n",
              "        console.error('Error during call to suggestCharts:', error);\n",
              "      }\n",
              "      quickchartButtonEl.classList.remove('colab-df-spinner');\n",
              "      quickchartButtonEl.classList.add('colab-df-quickchart-complete');\n",
              "    }\n",
              "    (() => {\n",
              "      let quickchartButtonEl =\n",
              "        document.querySelector('#df-ed009953-e061-419e-a3d0-e615aeaaeb94 button');\n",
              "      quickchartButtonEl.style.display =\n",
              "        google.colab.kernel.accessAllowed ? 'block' : 'none';\n",
              "    })();\n",
              "  </script>\n",
              "</div>\n",
              "    </div>\n",
              "  </div>\n"
            ],
            "application/vnd.google.colaboratory.intrinsic+json": {
              "type": "dataframe",
              "variable_name": "df",
              "summary": "{\n  \"name\": \"df\",\n  \"rows\": 104,\n  \"fields\": [\n    {\n      \"column\": \"case\",\n      \"properties\": {\n        \"dtype\": \"number\",\n        \"std\": 30,\n        \"min\": 1,\n        \"max\": 104,\n        \"num_unique_values\": 104,\n        \"samples\": [\n          31,\n          66,\n          65\n        ],\n        \"semantic_type\": \"\",\n        \"description\": \"\"\n      }\n    },\n    {\n      \"column\": \"site\",\n      \"properties\": {\n        \"dtype\": \"number\",\n        \"std\": 2,\n        \"min\": 1,\n        \"max\": 7,\n        \"num_unique_values\": 7,\n        \"samples\": [\n          1,\n          2,\n          6\n        ],\n        \"semantic_type\": \"\",\n        \"description\": \"\"\n      }\n    },\n    {\n      \"column\": \"Pop\",\n      \"properties\": {\n        \"dtype\": \"category\",\n        \"num_unique_values\": 2,\n        \"samples\": [\n          \"other\",\n          \"Vic\"\n        ],\n        \"semantic_type\": \"\",\n        \"description\": \"\"\n      }\n    },\n    {\n      \"column\": \"sex\",\n      \"properties\": {\n        \"dtype\": \"category\",\n        \"num_unique_values\": 2,\n        \"samples\": [\n          \"f\",\n          \"m\"\n        ],\n        \"semantic_type\": \"\",\n        \"description\": \"\"\n      }\n    },\n    {\n      \"column\": \"age\",\n      \"properties\": {\n        \"dtype\": \"number\",\n        \"std\": 1.9092444897006104,\n        \"min\": 1.0,\n        \"max\": 9.0,\n        \"num_unique_values\": 9,\n        \"samples\": [\n          4.0,\n          6.0\n        ],\n        \"semantic_type\": \"\",\n        \"description\": \"\"\n      }\n    },\n    {\n      \"column\": \"hdlngth\",\n      \"properties\": {\n        \"dtype\": \"number\",\n        \"std\": 3.573349486079402,\n        \"min\": 82.5,\n        \"max\": 103.1,\n        \"num_unique_values\": 71,\n        \"samples\": [\n          96.0,\n          94.1\n        ],\n        \"semantic_type\": \"\",\n        \"description\": \"\"\n      }\n    },\n    {\n      \"column\": \"skullw\",\n      \"properties\": {\n        \"dtype\": \"number\",\n        \"std\": 3.1134256903770203,\n        \"min\": 50.0,\n        \"max\": 68.6,\n        \"num_unique_values\": 64,\n        \"samples\": [\n          50.0,\n          58.4\n        ],\n        \"semantic_type\": \"\",\n        \"description\": \"\"\n      }\n    },\n    {\n      \"column\": \"totlngth\",\n      \"properties\": {\n        \"dtype\": \"number\",\n        \"std\": 4.310549436569344,\n        \"min\": 75.0,\n        \"max\": 96.5,\n        \"num_unique_values\": 34,\n        \"samples\": [\n          93.0,\n          75.0\n        ],\n        \"semantic_type\": \"\",\n        \"description\": \"\"\n      }\n    },\n    {\n      \"column\": \"taill\",\n      \"properties\": {\n        \"dtype\": \"number\",\n        \"std\": 1.959518428592603,\n        \"min\": 32.0,\n        \"max\": 43.0,\n        \"num_unique_values\": 19,\n        \"samples\": [\n          36.0,\n          37.0\n        ],\n        \"semantic_type\": \"\",\n        \"description\": \"\"\n      }\n    },\n    {\n      \"column\": \"footlgth\",\n      \"properties\": {\n        \"dtype\": \"number\",\n        \"std\": 4.395305804641412,\n        \"min\": 60.3,\n        \"max\": 77.9,\n        \"num_unique_values\": 75,\n        \"samples\": [\n          71.0,\n          60.7\n        ],\n        \"semantic_type\": \"\",\n        \"description\": \"\"\n      }\n    },\n    {\n      \"column\": \"earconch\",\n      \"properties\": {\n        \"dtype\": \"number\",\n        \"std\": 4.109380151285827,\n        \"min\": 40.3,\n        \"max\": 56.2,\n        \"num_unique_values\": 69,\n        \"samples\": [\n          56.2,\n          54.5\n        ],\n        \"semantic_type\": \"\",\n        \"description\": \"\"\n      }\n    },\n    {\n      \"column\": \"eye\",\n      \"properties\": {\n        \"dtype\": \"number\",\n        \"std\": 1.0503742353818448,\n        \"min\": 12.8,\n        \"max\": 17.8,\n        \"num_unique_values\": 35,\n        \"samples\": [\n          16.5,\n          15.4\n        ],\n        \"semantic_type\": \"\",\n        \"description\": \"\"\n      }\n    },\n    {\n      \"column\": \"chest\",\n      \"properties\": {\n        \"dtype\": \"number\",\n        \"std\": 2.0455967391979963,\n        \"min\": 22.0,\n        \"max\": 32.0,\n        \"num_unique_values\": 19,\n        \"samples\": [\n          28.0,\n          31.0\n        ],\n        \"semantic_type\": \"\",\n        \"description\": \"\"\n      }\n    },\n    {\n      \"column\": \"belly\",\n      \"properties\": {\n        \"dtype\": \"number\",\n        \"std\": 2.7619487172923667,\n        \"min\": 25.0,\n        \"max\": 40.0,\n        \"num_unique_values\": 24,\n        \"samples\": [\n          40.0,\n          27.0\n        ],\n        \"semantic_type\": \"\",\n        \"description\": \"\"\n      }\n    }\n  ]\n}"
            }
          },
          "metadata": {},
          "execution_count": 3
        }
      ]
    },
    {
      "cell_type": "code",
      "source": [
        "df.columns = df.columns.str.lower()"
      ],
      "metadata": {
        "id": "O4HrSv0HZfYf"
      },
      "execution_count": 4,
      "outputs": []
    },
    {
      "cell_type": "code",
      "source": [
        "print(df.info)"
      ],
      "metadata": {
        "colab": {
          "base_uri": "https://localhost:8080/"
        },
        "id": "ga-YnX9FZAST",
        "outputId": "e2324106-44d4-43f3-d4e9-06a915895ddc"
      },
      "execution_count": 5,
      "outputs": [
        {
          "output_type": "stream",
          "name": "stdout",
          "text": [
            "<bound method DataFrame.info of      case  site    pop sex  age  hdlngth  skullw  totlngth  taill  footlgth  \\\n",
            "0       1     1    Vic   m  8.0     94.1    60.4      89.0   36.0      74.5   \n",
            "1       2     1    Vic   f  6.0     92.5    57.6      91.5   36.5      72.5   \n",
            "2       3     1    Vic   f  6.0     94.0    60.0      95.5   39.0      75.4   \n",
            "3       4     1    Vic   f  6.0     93.2    57.1      92.0   38.0      76.1   \n",
            "4       5     1    Vic   f  2.0     91.5    56.3      85.5   36.0      71.0   \n",
            "..    ...   ...    ...  ..  ...      ...     ...       ...    ...       ...   \n",
            "99    100     7  other   m  1.0     89.5    56.0      81.5   36.5      66.0   \n",
            "100   101     7  other   m  1.0     88.6    54.7      82.5   39.0      64.4   \n",
            "101   102     7  other   f  6.0     92.4    55.0      89.0   38.0      63.5   \n",
            "102   103     7  other   m  4.0     91.5    55.2      82.5   36.5      62.9   \n",
            "103   104     7  other   f  3.0     93.6    59.9      89.0   40.0      67.6   \n",
            "\n",
            "     earconch   eye  chest  belly  \n",
            "0        54.5  15.2   28.0   36.0  \n",
            "1        51.2  16.0   28.5   33.0  \n",
            "2        51.9  15.5   30.0   34.0  \n",
            "3        52.2  15.2   28.0   34.0  \n",
            "4        53.2  15.1   28.5   33.0  \n",
            "..        ...   ...    ...    ...  \n",
            "99       46.8  14.8   23.0   27.0  \n",
            "100      48.0  14.0   25.0   33.0  \n",
            "101      45.4  13.0   25.0   30.0  \n",
            "102      45.9  15.4   25.0   29.0  \n",
            "103      46.0  14.8   28.5   33.5  \n",
            "\n",
            "[104 rows x 14 columns]>\n"
          ]
        }
      ]
    },
    {
      "cell_type": "markdown",
      "source": [
        "# Завдання 1\n",
        "Вмведіть основні числові характеристики для числових ознак"
      ],
      "metadata": {
        "id": "7s0YT6a2Xhd0"
      }
    },
    {
      "cell_type": "code",
      "source": [
        "print(df.describe())"
      ],
      "metadata": {
        "id": "1DeE-hXvW3MH",
        "colab": {
          "base_uri": "https://localhost:8080/"
        },
        "outputId": "bec7f84a-8cfb-4578-ae65-7f56e71a6a75"
      },
      "execution_count": 6,
      "outputs": [
        {
          "output_type": "stream",
          "name": "stdout",
          "text": [
            "             case        site         age     hdlngth      skullw    totlngth  \\\n",
            "count  104.000000  104.000000  102.000000  104.000000  104.000000  104.000000   \n",
            "mean    52.500000    3.625000    3.833333   92.602885   56.883654   87.088462   \n",
            "std     30.166206    2.349086    1.909244    3.573349    3.113426    4.310549   \n",
            "min      1.000000    1.000000    1.000000   82.500000   50.000000   75.000000   \n",
            "25%     26.750000    1.000000    2.250000   90.675000   54.975000   84.000000   \n",
            "50%     52.500000    3.000000    3.000000   92.800000   56.350000   88.000000   \n",
            "75%     78.250000    6.000000    5.000000   94.725000   58.100000   90.000000   \n",
            "max    104.000000    7.000000    9.000000  103.100000   68.600000   96.500000   \n",
            "\n",
            "            taill    footlgth    earconch         eye       chest       belly  \n",
            "count  104.000000  103.000000  104.000000  104.000000  104.000000  104.000000  \n",
            "mean    37.009615   68.459223   48.130769   15.046154   27.000000   32.586538  \n",
            "std      1.959518    4.395306    4.109380    1.050374    2.045597    2.761949  \n",
            "min     32.000000   60.300000   40.300000   12.800000   22.000000   25.000000  \n",
            "25%     35.875000   64.600000   44.800000   14.400000   25.500000   31.000000  \n",
            "50%     37.000000   68.000000   46.800000   14.900000   27.000000   32.500000  \n",
            "75%     38.000000   72.500000   52.000000   15.725000   28.000000   34.125000  \n",
            "max     43.000000   77.900000   56.200000   17.800000   32.000000   40.000000  \n"
          ]
        }
      ]
    },
    {
      "cell_type": "markdown",
      "source": [
        "# Завдання 2\n",
        "Проаналізуйте стовпчик `case`, чи є він інформативним?"
      ],
      "metadata": {
        "id": "L08M-we9Xv6k"
      }
    },
    {
      "cell_type": "code",
      "source": [
        "print(df['case'].describe())\n",
        "print()\n",
        "print(df['case'].nunique())\n",
        "print()\n",
        "print(df['case'].count())\n",
        "print()\n",
        "print(df['case'].head())\n",
        "print()\n",
        "print(df['case'].tail())\n",
        "print()\n",
        "print('The column \"case\" has only numbers of each row and can be deleted')\n",
        "# the column \"case\" has only numbers of each row and can be deleted"
      ],
      "metadata": {
        "id": "zoJTHBquZ1K2",
        "colab": {
          "base_uri": "https://localhost:8080/"
        },
        "outputId": "b2b565f8-cacc-47bf-b8c5-584651152d82"
      },
      "execution_count": 7,
      "outputs": [
        {
          "output_type": "stream",
          "name": "stdout",
          "text": [
            "count    104.000000\n",
            "mean      52.500000\n",
            "std       30.166206\n",
            "min        1.000000\n",
            "25%       26.750000\n",
            "50%       52.500000\n",
            "75%       78.250000\n",
            "max      104.000000\n",
            "Name: case, dtype: float64\n",
            "\n",
            "104\n",
            "\n",
            "104\n",
            "\n",
            "0    1\n",
            "1    2\n",
            "2    3\n",
            "3    4\n",
            "4    5\n",
            "Name: case, dtype: int64\n",
            "\n",
            "99     100\n",
            "100    101\n",
            "101    102\n",
            "102    103\n",
            "103    104\n",
            "Name: case, dtype: int64\n",
            "\n",
            "The column \"case\" has only numbers of each row and can be deleted\n"
          ]
        }
      ]
    },
    {
      "cell_type": "markdown",
      "source": [
        "# Завдання 3\n",
        "Очистіть дані від викидів. Виведіть очищений датафрейм"
      ],
      "metadata": {
        "id": "MNPiVacVYWcE"
      }
    },
    {
      "cell_type": "code",
      "source": [
        "print('\\n', df.describe(), '\\n')\n",
        "\n",
        "def get_mask_extra(data, column):\n",
        "    q1 = data[column].quantile(q=0.25)\n",
        "    q3 = data[column].quantile(q=0.75)\n",
        "    iqr = q3 - q1\n",
        "    lower = q1 - 1.5 * iqr\n",
        "    upper = q3 + 1.5 * iqr\n",
        "    column = df[column]\n",
        "    mask = (column >= lower) & (column <= upper)\n",
        "    return data[mask]\n",
        "\n",
        "\n",
        "def remove_extra(data):\n",
        "    for column in data.columns:\n",
        "        if data[column].dtype != 'object':\n",
        "            # data[column].plot(kind='box', vert=False, figsize=(14, 6))\n",
        "            # plt.show()\n",
        "            data = get_mask_extra(data, column)\n",
        "    return data\n",
        "\n",
        "df = remove_extra(df)\n",
        "\n",
        "print('\\nAfter removing of extra values:\\n'.upper(), df.describe(), '\\n')"
      ],
      "metadata": {
        "id": "qZvwnLlJXCWz",
        "colab": {
          "base_uri": "https://localhost:8080/"
        },
        "outputId": "0cfc08f1-9314-4548-94d6-dbf36c17809e"
      },
      "execution_count": 8,
      "outputs": [
        {
          "output_type": "stream",
          "name": "stdout",
          "text": [
            "\n",
            "              case        site         age     hdlngth      skullw    totlngth  \\\n",
            "count  104.000000  104.000000  102.000000  104.000000  104.000000  104.000000   \n",
            "mean    52.500000    3.625000    3.833333   92.602885   56.883654   87.088462   \n",
            "std     30.166206    2.349086    1.909244    3.573349    3.113426    4.310549   \n",
            "min      1.000000    1.000000    1.000000   82.500000   50.000000   75.000000   \n",
            "25%     26.750000    1.000000    2.250000   90.675000   54.975000   84.000000   \n",
            "50%     52.500000    3.000000    3.000000   92.800000   56.350000   88.000000   \n",
            "75%     78.250000    6.000000    5.000000   94.725000   58.100000   90.000000   \n",
            "max    104.000000    7.000000    9.000000  103.100000   68.600000   96.500000   \n",
            "\n",
            "            taill    footlgth    earconch         eye       chest       belly  \n",
            "count  104.000000  103.000000  104.000000  104.000000  104.000000  104.000000  \n",
            "mean    37.009615   68.459223   48.130769   15.046154   27.000000   32.586538  \n",
            "std      1.959518    4.395306    4.109380    1.050374    2.045597    2.761949  \n",
            "min     32.000000   60.300000   40.300000   12.800000   22.000000   25.000000  \n",
            "25%     35.875000   64.600000   44.800000   14.400000   25.500000   31.000000  \n",
            "50%     37.000000   68.000000   46.800000   14.900000   27.000000   32.500000  \n",
            "75%     38.000000   72.500000   52.000000   15.725000   28.000000   34.125000  \n",
            "max     43.000000   77.900000   56.200000   17.800000   32.000000   40.000000   \n",
            "\n",
            "\n",
            "AFTER REMOVING OF EXTRA VALUES:\n",
            "              case       site        age    hdlngth     skullw   totlngth  \\\n",
            "count   85.000000  85.000000  85.000000  85.000000  85.000000  85.000000   \n",
            "mean    52.035294   3.635294   3.988235  92.612941  56.492941  87.261176   \n",
            "std     31.954747   2.443880   1.899211   2.773205   2.072656   3.600334   \n",
            "min      1.000000   1.000000   1.000000  85.900000  51.000000  80.500000   \n",
            "25%     24.000000   1.000000   3.000000  91.000000  55.000000  85.000000   \n",
            "50%     52.000000   3.000000   4.000000  92.800000  56.300000  88.000000   \n",
            "75%     81.000000   6.000000   5.000000  94.400000  57.900000  89.500000   \n",
            "max    104.000000   7.000000   9.000000  99.900000  61.500000  95.500000   \n",
            "\n",
            "           taill   footlgth   earconch        eye      chest      belly  \n",
            "count  85.000000  85.000000  85.000000  85.000000  85.000000  85.000000  \n",
            "mean   36.970588  68.303529  48.284706  15.040000  26.905882  32.511765  \n",
            "std     1.572367   4.445609   4.157967   0.984547   1.785347   2.416432  \n",
            "min    33.500000  60.300000  41.300000  12.800000  23.000000  27.000000  \n",
            "25%    36.000000  64.400000  44.800000  14.400000  25.500000  31.000000  \n",
            "50%    37.000000  67.900000  47.000000  15.000000  27.000000  32.000000  \n",
            "75%    38.000000  72.500000  52.000000  15.700000  28.000000  34.000000  \n",
            "max    40.500000  77.200000  56.200000  17.400000  31.000000  38.500000   \n",
            "\n"
          ]
        },
        {
          "output_type": "stream",
          "name": "stderr",
          "text": [
            "<ipython-input-8-2b6817688bc2>:11: UserWarning: Boolean Series key will be reindexed to match DataFrame index.\n",
            "  return data[mask]\n",
            "<ipython-input-8-2b6817688bc2>:11: UserWarning: Boolean Series key will be reindexed to match DataFrame index.\n",
            "  return data[mask]\n",
            "<ipython-input-8-2b6817688bc2>:11: UserWarning: Boolean Series key will be reindexed to match DataFrame index.\n",
            "  return data[mask]\n",
            "<ipython-input-8-2b6817688bc2>:11: UserWarning: Boolean Series key will be reindexed to match DataFrame index.\n",
            "  return data[mask]\n",
            "<ipython-input-8-2b6817688bc2>:11: UserWarning: Boolean Series key will be reindexed to match DataFrame index.\n",
            "  return data[mask]\n",
            "<ipython-input-8-2b6817688bc2>:11: UserWarning: Boolean Series key will be reindexed to match DataFrame index.\n",
            "  return data[mask]\n",
            "<ipython-input-8-2b6817688bc2>:11: UserWarning: Boolean Series key will be reindexed to match DataFrame index.\n",
            "  return data[mask]\n",
            "<ipython-input-8-2b6817688bc2>:11: UserWarning: Boolean Series key will be reindexed to match DataFrame index.\n",
            "  return data[mask]\n",
            "<ipython-input-8-2b6817688bc2>:11: UserWarning: Boolean Series key will be reindexed to match DataFrame index.\n",
            "  return data[mask]\n"
          ]
        }
      ]
    },
    {
      "cell_type": "markdown",
      "source": [
        "# Завдання 4\n",
        "Намалюйте матрицб кореляцій. Для найбільш корельованих ознак намалюйте точкову діаграму."
      ],
      "metadata": {
        "id": "g-qxBuuSYzX6"
      }
    },
    {
      "cell_type": "code",
      "source": [
        "corr = df.corr(method='pearson')\n",
        "fig = plt.figure(figsize=(10,10))\n",
        "plt.matshow(corr, cmap='RdBu', fignum=fig.number)\n",
        "\n",
        "plt.xticks(range(len(corr.columns)), corr.columns, rotation='vertical')\n",
        "plt.yticks(range(len(corr.columns)), corr.columns)\n",
        "plt.colorbar()"
      ],
      "metadata": {
        "id": "rQefEj-XY-2_",
        "colab": {
          "base_uri": "https://localhost:8080/",
          "height": 889
        },
        "outputId": "842eeaa4-83a0-4f73-da2b-bc2682aa45fa"
      },
      "execution_count": 9,
      "outputs": [
        {
          "output_type": "stream",
          "name": "stderr",
          "text": [
            "<ipython-input-9-038bc8655bff>:1: FutureWarning: The default value of numeric_only in DataFrame.corr is deprecated. In a future version, it will default to False. Select only valid columns or specify the value of numeric_only to silence this warning.\n",
            "  corr = df.corr(method='pearson')\n"
          ]
        },
        {
          "output_type": "execute_result",
          "data": {
            "text/plain": [
              "<matplotlib.colorbar.Colorbar at 0x7e9993dde3b0>"
            ]
          },
          "metadata": {},
          "execution_count": 9
        },
        {
          "output_type": "display_data",
          "data": {
            "text/plain": [
              "<Figure size 1000x1000 with 2 Axes>"
            ],
            "image/png": "[encoded data removed]"
          },
          "metadata": {}
        }
      ]
    },
    {
      "cell_type": "code",
      "source": [
        "corr = df.corr(method='spearman')\n",
        "\n",
        "fig = plt.figure(figsize=(10,10))\n",
        "plt.matshow(corr, cmap='RdBu', fignum=fig.number)\n",
        "\n",
        "plt.xticks(range(len(corr.columns)), corr.columns, rotation='vertical')\n",
        "plt.yticks(range(len(corr.columns)), corr.columns)\n",
        "plt.colorbar()"
      ],
      "metadata": {
        "colab": {
          "base_uri": "https://localhost:8080/",
          "height": 889
        },
        "id": "yh5yyRixVKfM",
        "outputId": "40ae38ef-da5a-4aed-8e0b-3c6280cf35f7"
      },
      "execution_count": 10,
      "outputs": [
        {
          "output_type": "stream",
          "name": "stderr",
          "text": [
            "<ipython-input-10-31920cbc4d19>:1: FutureWarning: The default value of numeric_only in DataFrame.corr is deprecated. In a future version, it will default to False. Select only valid columns or specify the value of numeric_only to silence this warning.\n",
            "  corr = df.corr(method='spearman')\n"
          ]
        },
        {
          "output_type": "execute_result",
          "data": {
            "text/plain": [
              "<matplotlib.colorbar.Colorbar at 0x7e99940a6e90>"
            ]
          },
          "metadata": {},
          "execution_count": 10
        },
        {
          "output_type": "display_data",
          "data": {
            "text/plain": [
              "<Figure size 1000x1000 with 2 Axes>"
            ],
            "image/png": "[encoded data removed]"
          },
          "metadata": {}
        }
      ]
    },
    {
      "cell_type": "code",
      "source": [
        "df.plot(kind='scatter', x='case', y='site', figsize=(10,10))"
      ],
      "metadata": {
        "colab": {
          "base_uri": "https://localhost:8080/",
          "height": 867
        },
        "id": "SnQoq9EpXWB0",
        "outputId": "218a87e0-0869-45cc-b7b8-2bf4c3097829"
      },
      "execution_count": 11,
      "outputs": [
        {
          "output_type": "execute_result",
          "data": {
            "text/plain": [
              "<Axes: xlabel='case', ylabel='site'>"
            ]
          },
          "metadata": {},
          "execution_count": 11
        },
        {
          "output_type": "display_data",
          "data": {
            "text/plain": [
              "<Figure size 1000x1000 with 1 Axes>"
            ],
            "image/png": "[encoded data removed]"
          },
          "metadata": {}
        }
      ]
    },
    {
      "cell_type": "code",
      "source": [
        "df.plot(kind='scatter', x='case', y='footlgth', figsize=(10,10))"
      ],
      "metadata": {
        "colab": {
          "base_uri": "https://localhost:8080/",
          "height": 867
        },
        "id": "fujqIE8_XrHC",
        "outputId": "81f3467f-b7b5-4d14-b48a-b2a661bd9a43"
      },
      "execution_count": 12,
      "outputs": [
        {
          "output_type": "execute_result",
          "data": {
            "text/plain": [
              "<Axes: xlabel='case', ylabel='footlgth'>"
            ]
          },
          "metadata": {},
          "execution_count": 12
        },
        {
          "output_type": "display_data",
          "data": {
            "text/plain": [
              "<Figure size 1000x1000 with 1 Axes>"
            ],
            "image/png": "[encoded data removed]"
          },
          "metadata": {}
        }
      ]
    },
    {
      "cell_type": "code",
      "source": [
        "df.plot(kind='scatter', x='footlgth', y='site', figsize=(10,10))"
      ],
      "metadata": {
        "colab": {
          "base_uri": "https://localhost:8080/",
          "height": 867
        },
        "id": "iETzirU5X86P",
        "outputId": "feb51dd3-c6f6-4509-a886-dc01090f90b9"
      },
      "execution_count": 13,
      "outputs": [
        {
          "output_type": "execute_result",
          "data": {
            "text/plain": [
              "<Axes: xlabel='footlgth', ylabel='site'>"
            ]
          },
          "metadata": {},
          "execution_count": 13
        },
        {
          "output_type": "display_data",
          "data": {
            "text/plain": [
              "<Figure size 1000x1000 with 1 Axes>"
            ],
            "image/png": "[encoded data removed]"
          },
          "metadata": {}
        }
      ]
    },
    {
      "cell_type": "markdown",
      "source": [
        "# Завдання 5\n",
        "Для 4-ох числових ознак на вибір намалюйте ящики з вусами згрупованими по статі. Подумайте чи є вплив статі на розміри опосума"
      ],
      "metadata": {
        "id": "DgIFGk9iY_ir"
      }
    },
    {
      "cell_type": "code",
      "source": [
        "print(df.columns)"
      ],
      "metadata": {
        "colab": {
          "base_uri": "https://localhost:8080/"
        },
        "id": "QasQT_NIYsko",
        "outputId": "d612963d-f7a2-45c6-8cae-897cdaca818a"
      },
      "execution_count": 14,
      "outputs": [
        {
          "output_type": "stream",
          "name": "stdout",
          "text": [
            "Index(['case', 'site', 'pop', 'sex', 'age', 'hdlngth', 'skullw', 'totlngth',\n",
            "       'taill', 'footlgth', 'earconch', 'eye', 'chest', 'belly'],\n",
            "      dtype='object')\n"
          ]
        }
      ]
    },
    {
      "cell_type": "code",
      "source": [
        "df.head()"
      ],
      "metadata": {
        "colab": {
          "base_uri": "https://localhost:8080/",
          "height": 206
        },
        "id": "15iavNRhaWga",
        "outputId": "0dafb522-bf1b-4ef8-f734-c66a48fd57bd"
      },
      "execution_count": 19,
      "outputs": [
        {
          "output_type": "execute_result",
          "data": {
            "text/plain": [
              "   case  site  pop sex  age  hdlngth  skullw  totlngth  taill  footlgth  \\\n",
              "0     1     1  Vic   m  8.0     94.1    60.4      89.0   36.0      74.5   \n",
              "1     2     1  Vic   f  6.0     92.5    57.6      91.5   36.5      72.5   \n",
              "2     3     1  Vic   f  6.0     94.0    60.0      95.5   39.0      75.4   \n",
              "3     4     1  Vic   f  6.0     93.2    57.1      92.0   38.0      76.1   \n",
              "4     5     1  Vic   f  2.0     91.5    56.3      85.5   36.0      71.0   \n",
              "\n",
              "   earconch   eye  chest  belly  \n",
              "0      54.5  15.2   28.0   36.0  \n",
              "1      51.2  16.0   28.5   33.0  \n",
              "2      51.9  15.5   30.0   34.0  \n",
              "3      52.2  15.2   28.0   34.0  \n",
              "4      53.2  15.1   28.5   33.0  "
            ],
            "text/html": [
              "\n",
              "  <div id=\"df-35a5e929-75e0-4450-8b46-7892210ab8de\" class=\"colab-df-container\">\n",
              "    <div>\n",
              "<style scoped>\n",
              "    .dataframe tbody tr th:only-of-type {\n",
              "        vertical-align: middle;\n",
              "    }\n",
              "\n",
              "    .dataframe tbody tr th {\n",
              "        vertical-align: top;\n",
              "    }\n",
              "\n",
              "    .dataframe thead th {\n",
              "        text-align: right;\n",
              "    }\n",
              "</style>\n",
              "<table border=\"1\" class=\"dataframe\">\n",
              "  <thead>\n",
              "    <tr style=\"text-align: right;\">\n",
              "      <th></th>\n",
              "      <th>case</th>\n",
              "      <th>site</th>\n",
              "      <th>pop</th>\n",
              "      <th>sex</th>\n",
              "      <th>age</th>\n",
              "      <th>hdlngth</th>\n",
              "      <th>skullw</th>\n",
              "      <th>totlngth</th>\n",
              "      <th>taill</th>\n",
              "      <th>footlgth</th>\n",
              "      <th>earconch</th>\n",
              "      <th>eye</th>\n",
              "      <th>chest</th>\n",
              "      <th>belly</th>\n",
              "    </tr>\n",
              "  </thead>\n",
              "  <tbody>\n",
              "    <tr>\n",
              "      <th>0</th>\n",
              "      <td>1</td>\n",
              "      <td>1</td>\n",
              "      <td>Vic</td>\n",
              "      <td>m</td>\n",
              "      <td>8.0</td>\n",
              "      <td>94.1</td>\n",
              "      <td>60.4</td>\n",
              "      <td>89.0</td>\n",
              "      <td>36.0</td>\n",
              "      <td>74.5</td>\n",
              "      <td>54.5</td>\n",
              "      <td>15.2</td>\n",
              "      <td>28.0</td>\n",
              "      <td>36.0</td>\n",
              "    </tr>\n",
              "    <tr>\n",
              "      <th>1</th>\n",
              "      <td>2</td>\n",
              "      <td>1</td>\n",
              "      <td>Vic</td>\n",
              "      <td>f</td>\n",
              "      <td>6.0</td>\n",
              "      <td>92.5</td>\n",
              "      <td>57.6</td>\n",
              "      <td>91.5</td>\n",
              "      <td>36.5</td>\n",
              "      <td>72.5</td>\n",
              "      <td>51.2</td>\n",
              "      <td>16.0</td>\n",
              "      <td>28.5</td>\n",
              "      <td>33.0</td>\n",
              "    </tr>\n",
              "    <tr>\n",
              "      <th>2</th>\n",
              "      <td>3</td>\n",
              "      <td>1</td>\n",
              "      <td>Vic</td>\n",
              "      <td>f</td>\n",
              "      <td>6.0</td>\n",
              "      <td>94.0</td>\n",
              "      <td>60.0</td>\n",
              "      <td>95.5</td>\n",
              "      <td>39.0</td>\n",
              "      <td>75.4</td>\n",
              "      <td>51.9</td>\n",
              "      <td>15.5</td>\n",
              "      <td>30.0</td>\n",
              "      <td>34.0</td>\n",
              "    </tr>\n",
              "    <tr>\n",
              "      <th>3</th>\n",
              "      <td>4</td>\n",
              "      <td>1</td>\n",
              "      <td>Vic</td>\n",
              "      <td>f</td>\n",
              "      <td>6.0</td>\n",
              "      <td>93.2</td>\n",
              "      <td>57.1</td>\n",
              "      <td>92.0</td>\n",
              "      <td>38.0</td>\n",
              "      <td>76.1</td>\n",
              "      <td>52.2</td>\n",
              "      <td>15.2</td>\n",
              "      <td>28.0</td>\n",
              "      <td>34.0</td>\n",
              "    </tr>\n",
              "    <tr>\n",
              "      <th>4</th>\n",
              "      <td>5</td>\n",
              "      <td>1</td>\n",
              "      <td>Vic</td>\n",
              "      <td>f</td>\n",
              "      <td>2.0</td>\n",
              "      <td>91.5</td>\n",
              "      <td>56.3</td>\n",
              "      <td>85.5</td>\n",
              "      <td>36.0</td>\n",
              "      <td>71.0</td>\n",
              "      <td>53.2</td>\n",
              "      <td>15.1</td>\n",
              "      <td>28.5</td>\n",
              "      <td>33.0</td>\n",
              "    </tr>\n",
              "  </tbody>\n",
              "</table>\n",
              "</div>\n",
              "    <div class=\"colab-df-buttons\">\n",
              "\n",
              "  <div class=\"colab-df-container\">\n",
              "    <button class=\"colab-df-convert\" onclick=\"convertToInteractive('df-35a5e929-75e0-4450-8b46-7892210ab8de')\"\n",
              "            title=\"Convert this dataframe to an interactive table.\"\n",
              "            style=\"display:none;\">\n",
              "\n",
              "  <svg xmlns=\"http://www.w3.org/2000/svg\" height=\"24px\" viewBox=\"0 -960 960 960\">\n",
              "    <path d=\"M120-120v-720h720v720H120Zm60-500h600v-160H180v160Zm220 220h160v-160H400v160Zm0 220h160v-160H400v160ZM180-400h160v-160H180v160Zm440 0h160v-160H620v160ZM180-180h160v-160H180v160Zm440 0h160v-160H620v160Z\"/>\n",
              "  </svg>\n",
              "    </button>\n",
              "\n",
              "  <style>\n",
              "    .colab-df-container {\n",
              "      display:flex;\n",
              "      gap: 12px;\n",
              "    }\n",
              "\n",
              "    .colab-df-convert {\n",
              "      background-color: #E8F0FE;\n",
              "      border: none;\n",
              "      border-radius: 50%;\n",
              "      cursor: pointer;\n",
              "      display: none;\n",
              "      fill: #1967D2;\n",
              "      height: 32px;\n",
              "      padding: 0 0 0 0;\n",
              "      width: 32px;\n",
              "    }\n",
              "\n",
              "    .colab-df-convert:hover {\n",
              "      background-color: #E2EBFA;\n",
              "      box-shadow: 0px 1px 2px rgba(60, 64, 67, 0.3), 0px 1px 3px 1px rgba(60, 64, 67, 0.15);\n",
              "      fill: #174EA6;\n",
              "    }\n",
              "\n",
              "    .colab-df-buttons div {\n",
              "      margin-bottom: 4px;\n",
              "    }\n",
              "\n",
              "    [theme=dark] .colab-df-convert {\n",
              "      background-color: #3B4455;\n",
              "      fill: #D2E3FC;\n",
              "    }\n",
              "\n",
              "    [theme=dark] .colab-df-convert:hover {\n",
              "      background-color: #434B5C;\n",
              "      box-shadow: 0px 1px 3px 1px rgba(0, 0, 0, 0.15);\n",
              "      filter: drop-shadow(0px 1px 2px rgba(0, 0, 0, 0.3));\n",
              "      fill: #FFFFFF;\n",
              "    }\n",
              "  </style>\n",
              "\n",
              "    <script>\n",
              "      const buttonEl =\n",
              "        document.querySelector('#df-35a5e929-75e0-4450-8b46-7892210ab8de button.colab-df-convert');\n",
              "      buttonEl.style.display =\n",
              "        google.colab.kernel.accessAllowed ? 'block' : 'none';\n",
              "\n",
              "      async function convertToInteractive(key) {\n",
              "        const element = document.querySelector('#df-35a5e929-75e0-4450-8b46-7892210ab8de');\n",
              "        const dataTable =\n",
              "          await google.colab.kernel.invokeFunction('convertToInteractive',\n",
              "                                                    [key], {});\n",
              "        if (!dataTable) return;\n",
              "\n",
              "        const docLinkHtml = 'Like what you see? Visit the ' +\n",
              "          '<a target=\"_blank\" href=https://colab.research.google.com/notebooks/data_table.ipynb>data table notebook</a>'\n",
              "          + ' to learn more about interactive tables.';\n",
              "        element.innerHTML = '';\n",
              "        dataTable['output_type'] = 'display_data';\n",
              "        await google.colab.output.renderOutput(dataTable, element);\n",
              "        const docLink = document.createElement('div');\n",
              "        docLink.innerHTML = docLinkHtml;\n",
              "        element.appendChild(docLink);\n",
              "      }\n",
              "    </script>\n",
              "  </div>\n",
              "\n",
              "\n",
              "<div id=\"df-56fd0750-f36e-48f5-a655-f8d1d1974af5\">\n",
              "  <button class=\"colab-df-quickchart\" onclick=\"quickchart('df-56fd0750-f36e-48f5-a655-f8d1d1974af5')\"\n",
              "            title=\"Suggest charts\"\n",
              "            style=\"display:none;\">\n",
              "\n",
              "<svg xmlns=\"http://www.w3.org/2000/svg\" height=\"24px\"viewBox=\"0 0 24 24\"\n",
              "     width=\"24px\">\n",
              "    <g>\n",
              "        <path d=\"M19 3H5c-1.1 0-2 .9-2 2v14c0 1.1.9 2 2 2h14c1.1 0 2-.9 2-2V5c0-1.1-.9-2-2-2zM9 17H7v-7h2v7zm4 0h-2V7h2v10zm4 0h-2v-4h2v4z\"/>\n",
              "    </g>\n",
              "</svg>\n",
              "  </button>\n",
              "\n",
              "<style>\n",
              "  .colab-df-quickchart {\n",
              "      --bg-color: #E8F0FE;\n",
              "      --fill-color: #1967D2;\n",
              "      --hover-bg-color: #E2EBFA;\n",
              "      --hover-fill-color: #174EA6;\n",
              "      --disabled-fill-color: #AAA;\n",
              "      --disabled-bg-color: #DDD;\n",
              "  }\n",
              "\n",
              "  [theme=dark] .colab-df-quickchart {\n",
              "      --bg-color: #3B4455;\n",
              "      --fill-color: #D2E3FC;\n",
              "      --hover-bg-color: #434B5C;\n",
              "      --hover-fill-color: #FFFFFF;\n",
              "      --disabled-bg-color: #3B4455;\n",
              "      --disabled-fill-color: #666;\n",
              "  }\n",
              "\n",
              "  .colab-df-quickchart {\n",
              "    background-color: var(--bg-color);\n",
              "    border: none;\n",
              "    border-radius: 50%;\n",
              "    cursor: pointer;\n",
              "    display: none;\n",
              "    fill: var(--fill-color);\n",
              "    height: 32px;\n",
              "    padding: 0;\n",
              "    width: 32px;\n",
              "  }\n",
              "\n",
              "  .colab-df-quickchart:hover {\n",
              "    background-color: var(--hover-bg-color);\n",
              "    box-shadow: 0 1px 2px rgba(60, 64, 67, 0.3), 0 1px 3px 1px rgba(60, 64, 67, 0.15);\n",
              "    fill: var(--button-hover-fill-color);\n",
              "  }\n",
              "\n",
              "  .colab-df-quickchart-complete:disabled,\n",
              "  .colab-df-quickchart-complete:disabled:hover {\n",
              "    background-color: var(--disabled-bg-color);\n",
              "    fill: var(--disabled-fill-color);\n",
              "    box-shadow: none;\n",
              "  }\n",
              "\n",
              "  .colab-df-spinner {\n",
              "    border: 2px solid var(--fill-color);\n",
              "    border-color: transparent;\n",
              "    border-bottom-color: var(--fill-color);\n",
              "    animation:\n",
              "      spin 1s steps(1) infinite;\n",
              "  }\n",
              "\n",
              "  @keyframes spin {\n",
              "    0% {\n",
              "      border-color: transparent;\n",
              "      border-bottom-color: var(--fill-color);\n",
              "      border-left-color: var(--fill-color);\n",
              "    }\n",
              "    20% {\n",
              "      border-color: transparent;\n",
              "      border-left-color: var(--fill-color);\n",
              "      border-top-color: var(--fill-color);\n",
              "    }\n",
              "    30% {\n",
              "      border-color: transparent;\n",
              "      border-left-color: var(--fill-color);\n",
              "      border-top-color: var(--fill-color);\n",
              "      border-right-color: var(--fill-color);\n",
              "    }\n",
              "    40% {\n",
              "      border-color: transparent;\n",
              "      border-right-color: var(--fill-color);\n",
              "      border-top-color: var(--fill-color);\n",
              "    }\n",
              "    60% {\n",
              "      border-color: transparent;\n",
              "      border-right-color: var(--fill-color);\n",
              "    }\n",
              "    80% {\n",
              "      border-color: transparent;\n",
              "      border-right-color: var(--fill-color);\n",
              "      border-bottom-color: var(--fill-color);\n",
              "    }\n",
              "    90% {\n",
              "      border-color: transparent;\n",
              "      border-bottom-color: var(--fill-color);\n",
              "    }\n",
              "  }\n",
              "</style>\n",
              "\n",
              "  <script>\n",
              "    async function quickchart(key) {\n",
              "      const quickchartButtonEl =\n",
              "        document.querySelector('#' + key + ' button');\n",
              "      quickchartButtonEl.disabled = true;  // To prevent multiple clicks.\n",
              "      quickchartButtonEl.classList.add('colab-df-spinner');\n",
              "      try {\n",
              "        const charts = await google.colab.kernel.invokeFunction(\n",
              "            'suggestCharts', [key], {});\n",
              "      } catch (error) {\n",
              "        console.error('Error during call to suggestCharts:', error);\n",
              "      }\n",
              "      quickchartButtonEl.classList.remove('colab-df-spinner');\n",
              "      quickchartButtonEl.classList.add('colab-df-quickchart-complete');\n",
              "    }\n",
              "    (() => {\n",
              "      let quickchartButtonEl =\n",
              "        document.querySelector('#df-56fd0750-f36e-48f5-a655-f8d1d1974af5 button');\n",
              "      quickchartButtonEl.style.display =\n",
              "        google.colab.kernel.accessAllowed ? 'block' : 'none';\n",
              "    })();\n",
              "  </script>\n",
              "</div>\n",
              "    </div>\n",
              "  </div>\n"
            ],
            "application/vnd.google.colaboratory.intrinsic+json": {
              "type": "dataframe",
              "variable_name": "df",
              "summary": "{\n  \"name\": \"df\",\n  \"rows\": 85,\n  \"fields\": [\n    {\n      \"column\": \"case\",\n      \"properties\": {\n        \"dtype\": \"number\",\n        \"std\": 31,\n        \"min\": 1,\n        \"max\": 104,\n        \"num_unique_values\": 85,\n        \"samples\": [\n          97,\n          1,\n          86\n        ],\n        \"semantic_type\": \"\",\n        \"description\": \"\"\n      }\n    },\n    {\n      \"column\": \"site\",\n      \"properties\": {\n        \"dtype\": \"number\",\n        \"std\": 2,\n        \"min\": 1,\n        \"max\": 7,\n        \"num_unique_values\": 7,\n        \"samples\": [\n          1,\n          2,\n          6\n        ],\n        \"semantic_type\": \"\",\n        \"description\": \"\"\n      }\n    },\n    {\n      \"column\": \"pop\",\n      \"properties\": {\n        \"dtype\": \"category\",\n        \"num_unique_values\": 2,\n        \"samples\": [\n          \"other\",\n          \"Vic\"\n        ],\n        \"semantic_type\": \"\",\n        \"description\": \"\"\n      }\n    },\n    {\n      \"column\": \"sex\",\n      \"properties\": {\n        \"dtype\": \"category\",\n        \"num_unique_values\": 2,\n        \"samples\": [\n          \"f\",\n          \"m\"\n        ],\n        \"semantic_type\": \"\",\n        \"description\": \"\"\n      }\n    },\n    {\n      \"column\": \"age\",\n      \"properties\": {\n        \"dtype\": \"number\",\n        \"std\": 1.8992110996728218,\n        \"min\": 1.0,\n        \"max\": 9.0,\n        \"num_unique_values\": 9,\n        \"samples\": [\n          4.0,\n          6.0\n        ],\n        \"semantic_type\": \"\",\n        \"description\": \"\"\n      }\n    },\n    {\n      \"column\": \"hdlngth\",\n      \"properties\": {\n        \"dtype\": \"number\",\n        \"std\": 2.7732046202085803,\n        \"min\": 85.9,\n        \"max\": 99.9,\n        \"num_unique_values\": 59,\n        \"samples\": [\n          94.1,\n          93.1\n        ],\n        \"semantic_type\": \"\",\n        \"description\": \"\"\n      }\n    },\n    {\n      \"column\": \"skullw\",\n      \"properties\": {\n        \"dtype\": \"number\",\n        \"std\": 2.072655774793372,\n        \"min\": 51.0,\n        \"max\": 61.5,\n        \"num_unique_values\": 51,\n        \"samples\": [\n          54.0,\n          56.2\n        ],\n        \"semantic_type\": \"\",\n        \"description\": \"\"\n      }\n    },\n    {\n      \"column\": \"totlngth\",\n      \"properties\": {\n        \"dtype\": \"number\",\n        \"std\": 3.6003337847128196,\n        \"min\": 80.5,\n        \"max\": 95.5,\n        \"num_unique_values\": 28,\n        \"samples\": [\n          90.0,\n          81.5\n        ],\n        \"semantic_type\": \"\",\n        \"description\": \"\"\n      }\n    },\n    {\n      \"column\": \"taill\",\n      \"properties\": {\n        \"dtype\": \"number\",\n        \"std\": 1.5723673030097736,\n        \"min\": 33.5,\n        \"max\": 40.5,\n        \"num_unique_values\": 15,\n        \"samples\": [\n          35.0,\n          33.5\n        ],\n        \"semantic_type\": \"\",\n        \"description\": \"\"\n      }\n    },\n    {\n      \"column\": \"footlgth\",\n      \"properties\": {\n        \"dtype\": \"number\",\n        \"std\": 4.445609044429161,\n        \"min\": 60.3,\n        \"max\": 77.2,\n        \"num_unique_values\": 69,\n        \"samples\": [\n          73.6,\n          74.5\n        ],\n        \"semantic_type\": \"\",\n        \"description\": \"\"\n      }\n    },\n    {\n      \"column\": \"earconch\",\n      \"properties\": {\n        \"dtype\": \"number\",\n        \"std\": 4.157967277017786,\n        \"min\": 41.3,\n        \"max\": 56.2,\n        \"num_unique_values\": 61,\n        \"samples\": [\n          54.5,\n          53.6\n        ],\n        \"semantic_type\": \"\",\n        \"description\": \"\"\n      }\n    },\n    {\n      \"column\": \"eye\",\n      \"properties\": {\n        \"dtype\": \"number\",\n        \"std\": 0.9845472732852054,\n        \"min\": 12.8,\n        \"max\": 17.4,\n        \"num_unique_values\": 31,\n        \"samples\": [\n          13.2,\n          14.8\n        ],\n        \"semantic_type\": \"\",\n        \"description\": \"\"\n      }\n    },\n    {\n      \"column\": \"chest\",\n      \"properties\": {\n        \"dtype\": \"number\",\n        \"std\": 1.7853473012258423,\n        \"min\": 23.0,\n        \"max\": 31.0,\n        \"num_unique_values\": 16,\n        \"samples\": [\n          28.0,\n          28.5\n        ],\n        \"semantic_type\": \"\",\n        \"description\": \"\"\n      }\n    },\n    {\n      \"column\": \"belly\",\n      \"properties\": {\n        \"dtype\": \"number\",\n        \"std\": 2.4164324236906163,\n        \"min\": 27.0,\n        \"max\": 38.5,\n        \"num_unique_values\": 20,\n        \"samples\": [\n          36.0,\n          30.5\n        ],\n        \"semantic_type\": \"\",\n        \"description\": \"\"\n      }\n    }\n  ]\n}"
            }
          },
          "metadata": {},
          "execution_count": 19
        }
      ]
    },
    {
      "cell_type": "code",
      "source": [
        "df[['hdlngth', 'totlngth', 'footlgth', 'earconch', 'sex']].boxplot(by='sex', figsize=(10, 10))\n"
      ],
      "metadata": {
        "id": "N2rwAwQRZNXA",
        "colab": {
          "base_uri": "https://localhost:8080/",
          "height": 997
        },
        "outputId": "500e1c11-7b65-4f5b-a5c7-cf351a603ca8"
      },
      "execution_count": 23,
      "outputs": [
        {
          "output_type": "execute_result",
          "data": {
            "text/plain": [
              "array([[<Axes: title={'center': 'earconch'}, xlabel='[sex]'>,\n",
              "        <Axes: title={'center': 'footlgth'}, xlabel='[sex]'>],\n",
              "       [<Axes: title={'center': 'hdlngth'}, xlabel='[sex]'>,\n",
              "        <Axes: title={'center': 'totlngth'}, xlabel='[sex]'>]],\n",
              "      dtype=object)"
            ]
          },
          "metadata": {},
          "execution_count": 23
        },
        {
          "output_type": "display_data",
          "data": {
            "text/plain": [
              "<Figure size 1000x1000 with 4 Axes>"
            ],
            "image/png": "[encoded data removed]"
          },
          "metadata": {}
        }
      ]
    }
  ]
}