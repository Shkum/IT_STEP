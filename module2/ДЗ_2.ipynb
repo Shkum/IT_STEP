{
  "nbformat": 4,
  "nbformat_minor": 0,
  "metadata": {
    "colab": {
      "provenance": [],
      "toc_visible": true,
      "include_colab_link": true
    },
    "kernelspec": {
      "name": "python3",
      "display_name": "Python 3"
    },
    "language_info": {
      "name": "python"
    }
  },
  "cells": [
    {
      "cell_type": "markdown",
      "metadata": {
        "id": "view-in-github",
        "colab_type": "text"
      },
      "source": [
        "<a href=\"https://colab.research.google.com/github/Shkum/IT_STEP/blob/ML/module2/%D0%94%D0%97_2.ipynb\" target=\"_parent\"><img src=\"https://colab.research.google.com/assets/colab-badge.svg\" alt=\"Open In Colab\"/></a>"
      ]
    },
    {
      "cell_type": "markdown",
      "source": [
        "Імпортуйте модуль numpy"
      ],
      "metadata": {
        "id": "tk2sNnUDkXK9"
      }
    },
    {
      "cell_type": "code",
      "source": [
        "import numpy as np"
      ],
      "metadata": {
        "id": "1QbCsQ62kUmZ"
      },
      "execution_count": 1,
      "outputs": []
    },
    {
      "cell_type": "markdown",
      "source": [
        "#Завдання 1\n",
        "\n",
        "Створіть масив з парними числами між 30 і 70"
      ],
      "metadata": {
        "id": "ZVC4Yb3JZFO1"
      }
    },
    {
      "cell_type": "code",
      "source": [
        "a = np.array(np.arange(30, 71, 2))\n",
        "a"
      ],
      "metadata": {
        "id": "aunm4Jm_hUkL",
        "colab": {
          "base_uri": "https://localhost:8080/"
        },
        "outputId": "6c9adb49-85c9-424c-a6fe-63e122c8aa33"
      },
      "execution_count": 2,
      "outputs": [
        {
          "output_type": "execute_result",
          "data": {
            "text/plain": [
              "array([30, 32, 34, 36, 38, 40, 42, 44, 46, 48, 50, 52, 54, 56, 58, 60, 62,\n",
              "       64, 66, 68, 70])"
            ]
          },
          "metadata": {},
          "execution_count": 2
        }
      ]
    },
    {
      "cell_type": "markdown",
      "source": [
        "#Завдання 2\n",
        "Створіть масив з 10 числами між 0(включно) та 1(не включно) див документацію"
      ],
      "metadata": {
        "id": "UDSLr3f0b31r"
      }
    },
    {
      "cell_type": "code",
      "source": [
        "a = np.linspace(0,1, 10, endpoint=False)\n",
        "a"
      ],
      "metadata": {
        "id": "w7iNkGd_hUM-",
        "colab": {
          "base_uri": "https://localhost:8080/"
        },
        "outputId": "04305363-dae2-493e-c1d4-8fb3cef95ef3"
      },
      "execution_count": 3,
      "outputs": [
        {
          "output_type": "execute_result",
          "data": {
            "text/plain": [
              "array([0. , 0.1, 0.2, 0.3, 0.4, 0.5, 0.6, 0.7, 0.8, 0.9])"
            ]
          },
          "metadata": {},
          "execution_count": 3
        }
      ]
    },
    {
      "cell_type": "markdown",
      "source": [
        "#Завдання 4\n",
        "Напишіть функцію яка приймає матрицю розміру nxn та повертає матрицю розміру (n+2) x (n+2), на краях якої розміщенні 0."
      ],
      "metadata": {
        "id": "rtWKmLWhYi_j"
      }
    },
    {
      "cell_type": "code",
      "source": [
        "import numpy as np\n",
        "\n",
        "\n",
        "def fill_zeros(matrix: np.ndarray):\n",
        "    n, m = matrix.shape\n",
        "    result = np.zeros([n + 2, m + 2])\n",
        "    result[1:-1, 1:-1] = matrix\n",
        "    return result\n",
        "\n",
        "\n",
        "a = np.array([1, 2, 3, 4, 5, 6, 7, 8, 9, 10, 11, 12]).reshape(-1, 3)\n",
        "\n",
        "print(fill_zeros(a))"
      ],
      "metadata": {
        "id": "mU7vjsnqhVfk",
        "colab": {
          "base_uri": "https://localhost:8080/"
        },
        "outputId": "bfcb119d-a31a-4783-ca57-3476c9f194de"
      },
      "execution_count": 4,
      "outputs": [
        {
          "output_type": "stream",
          "name": "stdout",
          "text": [
            "[[ 0.  0.  0.  0.  0.]\n",
            " [ 0.  1.  2.  3.  0.]\n",
            " [ 0.  4.  5.  6.  0.]\n",
            " [ 0.  7.  8.  9.  0.]\n",
            " [ 0. 10. 11. 12.  0.]\n",
            " [ 0.  0.  0.  0.  0.]]\n"
          ]
        }
      ]
    },
    {
      "cell_type": "markdown",
      "source": [
        "#Завдання 5\n",
        "У попередьньому масиві змініть тип даних. Виведіть тип даних до та після зміни"
      ],
      "metadata": {
        "id": "ok_hMAEJa9oh"
      }
    },
    {
      "cell_type": "code",
      "source": [
        "print(a.dtype)\n",
        "# a = a.astype(np.dtypes.Float16DType)  # для чего нужен такой вид записи?\n",
        "a = a.astype(np.float16)\n",
        "print(a.dtype)"
      ],
      "metadata": {
        "id": "vYlj3r3ShV98",
        "colab": {
          "base_uri": "https://localhost:8080/"
        },
        "outputId": "74649fef-0bf9-4631-c788-b4fdf8336bcc"
      },
      "execution_count": 5,
      "outputs": [
        {
          "output_type": "stream",
          "name": "stdout",
          "text": [
            "int64\n",
            "float16\n"
          ]
        }
      ]
    },
    {
      "cell_type": "markdown",
      "source": [
        "#Завдання 6\n",
        "У даному масиві замініть елементи, які дорівнюють\\більші\\менші за var на -1"
      ],
      "metadata": {
        "id": "aR7TWyqgZUDg"
      }
    },
    {
      "cell_type": "code",
      "source": [
        "x = np.array([1, 5, 3, 8, 6, 5, 7, 4])\n",
        "var = 5\n",
        "\n",
        "a = x.copy()\n",
        "mask = a == var\n",
        "print(mask)\n",
        "a[mask] = -1\n",
        "print(a)\n",
        "\n",
        "print()\n",
        "\n",
        "a = x.copy()\n",
        "mask = a > var\n",
        "print(mask)\n",
        "a[mask] = -1\n",
        "print(a)\n",
        "\n",
        "print()\n",
        "\n",
        "a = x.copy()\n",
        "mask = a < var\n",
        "print(mask)\n",
        "a[mask] = -1\n",
        "print(a)\n"
      ],
      "metadata": {
        "id": "oPzL69Fbg2Wq",
        "colab": {
          "base_uri": "https://localhost:8080/"
        },
        "outputId": "a530d472-209f-4108-9fa5-89c2647345cf"
      },
      "execution_count": 11,
      "outputs": [
        {
          "output_type": "stream",
          "name": "stdout",
          "text": [
            "[False  True False False False  True False False]\n",
            "[ 1 -1  3  8  6 -1  7  4]\n",
            "\n",
            "[False False False  True  True False  True False]\n",
            "[ 1  5  3 -1 -1  5 -1  4]\n",
            "\n",
            "[ True False  True False False False False  True]\n",
            "[-1  5 -1  8  6  5  7 -1]\n"
          ]
        }
      ]
    },
    {
      "cell_type": "markdown",
      "source": [
        "#Завдання 7\n",
        "Замініть пропущені значення матриці(np.nan) на -1\n",
        "\n",
        "Дивись np.isnan"
      ],
      "metadata": {
        "id": "Ks3Rtc7kajMJ"
      }
    },
    {
      "cell_type": "code",
      "source": [
        "X = np.array([[1, 2, np.nan, 4],\n",
        "              [5, np.nan, np.nan, 4],\n",
        "              [np.nan, 10, 11, np.nan]])\n",
        "\n",
        "mask = np.isnan(X)\n",
        "X[mask] = -1\n",
        "X"
      ],
      "metadata": {
        "id": "Rr8CdINEg3Rj",
        "colab": {
          "base_uri": "https://localhost:8080/"
        },
        "outputId": "d9ceb89c-acf9-4758-c936-b72da70790ed"
      },
      "execution_count": 20,
      "outputs": [
        {
          "output_type": "execute_result",
          "data": {
            "text/plain": [
              "array([[ 1.,  2., -1.,  4.],\n",
              "       [ 5., -1., -1.,  4.],\n",
              "       [-1., 10., 11., -1.]])"
            ]
          },
          "metadata": {},
          "execution_count": 20
        }
      ]
    },
    {
      "cell_type": "markdown",
      "source": [
        "#Завдання 8\n",
        "Створіть матрицю розміру 4х6 з випадковими числами. Змініть її розмір на 3х8"
      ],
      "metadata": {
        "id": "teYwjikMa0gs"
      }
    },
    {
      "cell_type": "code",
      "source": [
        "a = np.random.random([4,6])\n",
        "print(a)\n",
        "print()\n",
        "a = a.reshape(3, 8)\n",
        "a"
      ],
      "metadata": {
        "id": "JhNvUJwxhXED",
        "colab": {
          "base_uri": "https://localhost:8080/"
        },
        "outputId": "bbefdac1-a896-4779-fc57-51aa21b215e0"
      },
      "execution_count": 24,
      "outputs": [
        {
          "output_type": "stream",
          "name": "stdout",
          "text": [
            "[[6.12949276e-01 7.42583990e-01 1.39190616e-01 2.46454938e-01\n",
            "  4.11206585e-01 8.88853000e-01]\n",
            " [3.51581175e-02 5.82933800e-01 4.56096098e-01 3.98941886e-04\n",
            "  2.68677861e-01 3.94962248e-01]\n",
            " [8.91183325e-01 2.15922292e-01 4.74163362e-01 6.62171808e-01\n",
            "  9.80149225e-01 8.78303795e-01]\n",
            " [4.82561425e-02 6.14135868e-01 4.38426601e-01 3.40328359e-01\n",
            "  2.84344915e-01 1.92894754e-01]]\n",
            "\n"
          ]
        },
        {
          "output_type": "execute_result",
          "data": {
            "text/plain": [
              "array([[6.12949276e-01, 7.42583990e-01, 1.39190616e-01, 2.46454938e-01,\n",
              "        4.11206585e-01, 8.88853000e-01, 3.51581175e-02, 5.82933800e-01],\n",
              "       [4.56096098e-01, 3.98941886e-04, 2.68677861e-01, 3.94962248e-01,\n",
              "        8.91183325e-01, 2.15922292e-01, 4.74163362e-01, 6.62171808e-01],\n",
              "       [9.80149225e-01, 8.78303795e-01, 4.82561425e-02, 6.14135868e-01,\n",
              "        4.38426601e-01, 3.40328359e-01, 2.84344915e-01, 1.92894754e-01]])"
            ]
          },
          "metadata": {},
          "execution_count": 24
        }
      ]
    },
    {
      "cell_type": "markdown",
      "source": [
        "#Завдання 9\n",
        "Створіть матрицю з одиниць розміром 3х4. Знайдіть середнє арифметичне(mean) кожного стовпчика"
      ],
      "metadata": {
        "id": "jVE8280acszi"
      }
    },
    {
      "cell_type": "code",
      "source": [
        "a = np.ones([3, 4])\n",
        "print(a, '\\n')\n",
        "b = np.mean(a, axis=0)\n",
        "b"
      ],
      "metadata": {
        "id": "5QI6HPNHhXd4",
        "colab": {
          "base_uri": "https://localhost:8080/"
        },
        "outputId": "e30c05c5-7de2-4fb6-e4d3-bd24b8d1ac8e"
      },
      "execution_count": 33,
      "outputs": [
        {
          "output_type": "stream",
          "name": "stdout",
          "text": [
            "[[1. 1. 1. 1.]\n",
            " [1. 1. 1. 1.]\n",
            " [1. 1. 1. 1.]] \n",
            "\n"
          ]
        },
        {
          "output_type": "execute_result",
          "data": {
            "text/plain": [
              "array([1., 1., 1., 1.])"
            ]
          },
          "metadata": {},
          "execution_count": 33
        }
      ]
    },
    {
      "cell_type": "markdown",
      "source": [
        "#Завдання 10\n",
        "Створіть випадкову матрицю розміром 5х6. Округліть значення до одного знаку після коми(np.round). Розмістіть стовпчики так, щоб значення в першому рядку були відсортовані за зростанням"
      ],
      "metadata": {
        "id": "nK6LwLjfc9aC"
      }
    },
    {
      "cell_type": "code",
      "source": [
        "a = np.random.random((5, 6))\n",
        "\n",
        "print(a)\n",
        "\n",
        "print()\n",
        "\n",
        "a = np.round(a, 1)\n",
        "\n",
        "print(a)\n",
        "\n",
        "print()\n",
        "\n",
        "a = a[:, np.argsort(a[0])]\n",
        "\n",
        "print(a)\n",
        "\n",
        "print()\n",
        "\n",
        "a\n",
        "\n",
        "# как это работает разобрался, но без подсказки gpt не уверен что догадался бы как отсортировать матрицу по первой строке\n",
        "\n",
        "# тут везде переменаня a является масивом numpy, почему последний вывод отличается? получается это не обычный print()?"
      ],
      "metadata": {
        "id": "pERBNp12hX58",
        "colab": {
          "base_uri": "https://localhost:8080/"
        },
        "outputId": "639cf314-0df7-41f2-9dd0-651f27d9f0ab"
      },
      "execution_count": 72,
      "outputs": [
        {
          "output_type": "stream",
          "name": "stdout",
          "text": [
            "[[0.53837648 0.02534403 0.49198635 0.61235747 0.73543264 0.78421825]\n",
            " [0.29715472 0.31525271 0.46940313 0.03927313 0.69264587 0.92962322]\n",
            " [0.83442164 0.33833658 0.52624591 0.34103467 0.62092823 0.21392767]\n",
            " [0.89928347 0.33086181 0.20654648 0.9605892  0.55993202 0.76481858]\n",
            " [0.03515046 0.58842687 0.12143408 0.05221079 0.90547716 0.89636275]]\n",
            "\n",
            "[[0.5 0.  0.5 0.6 0.7 0.8]\n",
            " [0.3 0.3 0.5 0.  0.7 0.9]\n",
            " [0.8 0.3 0.5 0.3 0.6 0.2]\n",
            " [0.9 0.3 0.2 1.  0.6 0.8]\n",
            " [0.  0.6 0.1 0.1 0.9 0.9]]\n",
            "\n",
            "[[0.  0.5 0.5 0.6 0.7 0.8]\n",
            " [0.3 0.3 0.5 0.  0.7 0.9]\n",
            " [0.3 0.8 0.5 0.3 0.6 0.2]\n",
            " [0.3 0.9 0.2 1.  0.6 0.8]\n",
            " [0.6 0.  0.1 0.1 0.9 0.9]]\n",
            "\n"
          ]
        },
        {
          "output_type": "execute_result",
          "data": {
            "text/plain": [
              "array([[0. , 0.5, 0.5, 0.6, 0.7, 0.8],\n",
              "       [0.3, 0.3, 0.5, 0. , 0.7, 0.9],\n",
              "       [0.3, 0.8, 0.5, 0.3, 0.6, 0.2],\n",
              "       [0.3, 0.9, 0.2, 1. , 0.6, 0.8],\n",
              "       [0.6, 0. , 0.1, 0.1, 0.9, 0.9]])"
            ]
          },
          "metadata": {},
          "execution_count": 72
        }
      ]
    },
    {
      "cell_type": "markdown",
      "source": [
        "#Завдання 11\n",
        "В даній матриці знайдіть всі елементи зі значенням між 3 і 6\n",
        "\n",
        "Дивись документацію np.logical_and"
      ],
      "metadata": {
        "id": "faCqq4bxiXsg"
      }
    },
    {
      "cell_type": "code",
      "source": [
        "X = np.array([[1, 2, 3, 4, 5],\n",
        "              [6, 7, 8, 9, 10],\n",
        "              [9, 8, 7, 6, 5],\n",
        "              [4, 3, 2, 1, 0]])\n",
        "\n",
        "a = np.logical_and(X > 3, X < 6)\n",
        "print(a, '\\n')\n",
        "print(X[a])\n",
        "\n",
        "# вроде работает, надеюсь правильно. Не понятно почему у матриц Х и а одна размерность, а на выходе получается вектор"
      ],
      "metadata": {
        "id": "01ZY_c-tilOF",
        "colab": {
          "base_uri": "https://localhost:8080/"
        },
        "outputId": "5ffc70ec-396b-44b2-84fc-4a1a16050bef"
      },
      "execution_count": 89,
      "outputs": [
        {
          "output_type": "stream",
          "name": "stdout",
          "text": [
            "[[False False False  True  True]\n",
            " [False False False False False]\n",
            " [False False False False  True]\n",
            " [ True False False False False]] \n",
            "\n",
            "[4 5 5 4]\n"
          ]
        }
      ]
    },
    {
      "cell_type": "markdown",
      "source": [
        "#Завдання 12\n",
        "Створіть випадкову матрицю розміру 5х6. Нормалізуйте стовпчики: від кожного елемента ставпчика відніміть мінімальне значення та поділіть результат на різницю між максимальним та мінімальним елементом.\n",
        "\n",
        "Після цього всі значення мають бути в межах [0, 1]"
      ],
      "metadata": {
        "id": "cCZSaa3DMKxb"
      }
    },
    {
      "cell_type": "code",
      "source": [
        "a = np.random.random((5, 6))\n",
        "print(a, '\\n')\n",
        "a = a * 100\n",
        "a = np.round(a, 0)\n",
        "print(a, '\\n')\n",
        "max_val = np.max(a, axis=0)\n",
        "min_val = np.min(a, axis=0)\n",
        "print(max_val, '\\n')\n",
        "print(min_val, '\\n')\n",
        "a = (a - min_val) / (max_val - min_val)\n",
        "a = np.round(a, 3)\n",
        "print(a)\n",
        "\n",
        "# вроде работает но не уверен что правильно :), а как проверить не знаю"
      ],
      "metadata": {
        "id": "qnOYOAgOMqRi",
        "colab": {
          "base_uri": "https://localhost:8080/"
        },
        "outputId": "7c08dda5-de73-4e91-f381-b0cd52fb969b"
      },
      "execution_count": 87,
      "outputs": [
        {
          "output_type": "stream",
          "name": "stdout",
          "text": [
            "[[0.70250956 0.70804503 0.73840817 0.52181319 0.32327281 0.53301559]\n",
            " [0.60360306 0.76540204 0.42479051 0.95720584 0.17648133 0.85141768]\n",
            " [0.0119621  0.99889535 0.56048324 0.55340119 0.09658731 0.35983404]\n",
            " [0.47292056 0.40746343 0.56729917 0.40025302 0.99435292 0.13782111]\n",
            " [0.15488894 0.56972092 0.03516013 0.4975564  0.03507403 0.75404555]] \n",
            "\n",
            "[[ 70.  71.  74.  52.  32.  53.]\n",
            " [ 60.  77.  42.  96.  18.  85.]\n",
            " [  1. 100.  56.  55.  10.  36.]\n",
            " [ 47.  41.  57.  40.  99.  14.]\n",
            " [ 15.  57.   4.  50.   4.  75.]] \n",
            "\n",
            "[ 70. 100.  74.  96.  99.  85.] \n",
            "\n",
            "[ 1. 41.  4. 40.  4. 14.] \n",
            "\n",
            "[[1.    0.508 1.    0.214 0.295 0.549]\n",
            " [0.855 0.61  0.543 1.    0.147 1.   ]\n",
            " [0.    1.    0.743 0.268 0.063 0.31 ]\n",
            " [0.667 0.    0.757 0.    1.    0.   ]\n",
            " [0.203 0.271 0.    0.179 0.    0.859]]\n"
          ]
        }
      ]
    }
  ]
}