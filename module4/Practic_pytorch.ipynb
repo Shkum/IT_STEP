{
  "nbformat": 4,
  "nbformat_minor": 0,
  "metadata": {
    "colab": {
      "provenance": [],
      "include_colab_link": true
    },
    "kernelspec": {
      "name": "python3",
      "display_name": "Python 3"
    },
    "language_info": {
      "name": "python"
    }
  },
  "cells": [
    {
      "cell_type": "markdown",
      "metadata": {
        "id": "view-in-github",
        "colab_type": "text"
      },
      "source": [
        "<a href=\"https://colab.research.google.com/github/Shkum/IT_STEP/blob/ML/module4/Practic_pytorch.ipynb\" target=\"_parent\"><img src=\"https://colab.research.google.com/assets/colab-badge.svg\" alt=\"Open In Colab\"/></a>"
      ]
    },
    {
      "cell_type": "markdown",
      "source": [
        "Імпорт модулів"
      ],
      "metadata": {
        "id": "ZnHVsAJ_5Py3"
      }
    },
    {
      "cell_type": "code",
      "execution_count": 2,
      "metadata": {
        "id": "yJf_g69N5LP6"
      },
      "outputs": [],
      "source": [
        "import torch\n",
        "import numpy as np\n",
        "import matplotlib.pyplot as plt"
      ]
    },
    {
      "cell_type": "markdown",
      "source": [
        "# Завдання 1\n",
        "\n",
        "Перегляньте інформацію про доступні процесори, та виведіть про них інформацію"
      ],
      "metadata": {
        "id": "pRkcTmfh6jCX"
      }
    },
    {
      "cell_type": "code",
      "source": [
        "print(torch.cuda.is_available())  # True/False\n",
        "\n",
        "if torch.cuda.is_available():\n",
        "    print(torch.cuda.device_count())  # Кількість GPU\n",
        "    print(torch.cuda.get_device_name(0))  # Назва першого GPU\n",
        "\n",
        "tensor = torch.tensor([1, 2, 3])\n",
        "print(tensor.device)  # CPU"
      ],
      "metadata": {
        "id": "W5yEGTcV6zHy",
        "outputId": "28a2ac37-6a6a-44bb-e186-ae2d3a677081",
        "colab": {
          "base_uri": "https://localhost:8080/"
        }
      },
      "execution_count": 2,
      "outputs": [
        {
          "output_type": "stream",
          "name": "stdout",
          "text": [
            "False\n",
            "cpu\n"
          ]
        }
      ]
    },
    {
      "cell_type": "markdown",
      "source": [
        "# Завдання 2\n",
        "Підключіть colab до процесора GPU, та знову виведіть інформацію про доступні процесори"
      ],
      "metadata": {
        "id": "xTLIVYQg6z5G"
      }
    },
    {
      "cell_type": "code",
      "source": [
        "print(torch.cuda.is_available())  # True/False\n",
        "\n",
        "if torch.cuda.is_available():\n",
        "    print(torch.cuda.device_count())  # Кількість GPU\n",
        "    print(torch.cuda.get_device_name(0))  # Назва першого GPU\n",
        "\n",
        "tensor = torch.tensor([1, 2, 3])\n",
        "print(tensor.device)  # CPU"
      ],
      "metadata": {
        "id": "iVPWDF2D8dAM",
        "outputId": "b0c800ae-5347-44a6-c386-5cc1a766af28",
        "colab": {
          "base_uri": "https://localhost:8080/"
        }
      },
      "execution_count": 2,
      "outputs": [
        {
          "output_type": "stream",
          "name": "stdout",
          "text": [
            "True\n",
            "1\n",
            "Tesla T4\n",
            "cpu\n"
          ]
        }
      ]
    },
    {
      "cell_type": "code",
      "source": [
        "device = torch.device('cuda' if torch.cuda.is_available() else 'cpu')\n",
        "\n",
        "tensor = torch.tensor([1, 2, 3])\n",
        "tensor = tensor.to(device)\n",
        "\n",
        "tensor"
      ],
      "metadata": {
        "id": "NlnhTJrr1hYw",
        "outputId": "d4009588-08c8-44cd-9f66-93804749e6cc",
        "colab": {
          "base_uri": "https://localhost:8080/"
        }
      },
      "execution_count": 2,
      "outputs": [
        {
          "output_type": "execute_result",
          "data": {
            "text/plain": [
              "tensor([1, 2, 3], device='cuda:0')"
            ]
          },
          "metadata": {},
          "execution_count": 2
        }
      ]
    },
    {
      "cell_type": "markdown",
      "source": [
        "# Завдання 3\n",
        "Створіть випадковий тензор розміру (2, 3). Виведіть інформацію про його:\n",
        "\n",
        "* розмір\n",
        "* тип даних\n",
        "* процесор\n",
        "* наявність градієнта"
      ],
      "metadata": {
        "id": "OkMil6fb7AiX"
      }
    },
    {
      "cell_type": "code",
      "source": [
        "tensor = torch.randn(2, 3)"
      ],
      "metadata": {
        "id": "ih3MeOto8yrO"
      },
      "execution_count": 3,
      "outputs": []
    },
    {
      "cell_type": "code",
      "source": [
        "print(f'{tensor.size()=}', '\\n')\n",
        "\n",
        "print(f'{tensor.dtype=}', '\\n')\n",
        "\n",
        "print(f'{tensor.device=}', '\\n')\n",
        "\n",
        "print(f'{tensor.requires_grad=}', '\\n')"
      ],
      "metadata": {
        "id": "QpvMPbWr2AfU",
        "outputId": "cd0124bc-32fd-435a-9447-1b5f151bef58",
        "colab": {
          "base_uri": "https://localhost:8080/"
        }
      },
      "execution_count": 9,
      "outputs": [
        {
          "output_type": "stream",
          "name": "stdout",
          "text": [
            "tensor.size()=torch.Size([2, 3]) \n",
            "\n",
            "tensor.dtype=torch.float32 \n",
            "\n",
            "tensor.device=device(type='cpu') \n",
            "\n",
            "tensor.requires_grad=False \n",
            "\n"
          ]
        }
      ]
    },
    {
      "cell_type": "markdown",
      "source": [
        "# Завдання 4\n",
        "\n",
        "Створіть 2 тензора розміру 100. Використовуючи лише модуль `torch` обрахуйте середьню абсолютну похибку(mae) між ними. Виведіть результат як число"
      ],
      "metadata": {
        "id": "nNrrplv_9Vha"
      }
    },
    {
      "cell_type": "code",
      "source": [
        "tensor1 = torch.rand(100)\n",
        "tensor2 = torch.rand(100)\n",
        "\n",
        "mae = torch.mean(torch.abs(tensor1 - tensor2))\n",
        "\n",
        "print(\"Mean absolute error (MAE):\", mae.item())"
      ],
      "metadata": {
        "id": "HybhfrBT9wT5",
        "outputId": "56527e5f-ba9e-4943-c718-0f244f6dda88",
        "colab": {
          "base_uri": "https://localhost:8080/"
        }
      },
      "execution_count": 10,
      "outputs": [
        {
          "output_type": "stream",
          "name": "stdout",
          "text": [
            "Mean absolute error (MAE): 0.32659995555877686\n"
          ]
        }
      ]
    },
    {
      "cell_type": "markdown",
      "source": [
        "# Завдання 5\n",
        "\n",
        "Створіть 3 випадкових тензора з розмірами:\n",
        "* 32х28х28\n",
        "* 16х28х28\n",
        "* 64х28х28\n",
        "\n",
        "Об'єднайте їх по першій розмірності. Результат має мати розмір 128х28х28"
      ],
      "metadata": {
        "id": "JoU54G199w5-"
      }
    },
    {
      "cell_type": "code",
      "source": [
        "tensor1 = torch.rand(32, 28, 28)\n",
        "tensor2 = torch.rand(16, 28, 28)\n",
        "tensor3 = torch.rand(64, 28, 28)\n",
        "\n",
        "result_tensor = torch.cat((tensor1, tensor2, tensor3), dim=0)\n",
        "\n",
        "print(\"Result size:\", result_tensor.size())"
      ],
      "metadata": {
        "id": "Ar7NOowB-NBn",
        "outputId": "cceb1fe1-1638-4dc5-9f9b-a4a55be744dc",
        "colab": {
          "base_uri": "https://localhost:8080/"
        }
      },
      "execution_count": 11,
      "outputs": [
        {
          "output_type": "stream",
          "name": "stdout",
          "text": [
            "Result size: torch.Size([112, 28, 28])\n"
          ]
        }
      ]
    },
    {
      "cell_type": "markdown",
      "source": [
        "# Завдання 6\n",
        "Застосуйте метод градієнтного спуску для функції"
      ],
      "metadata": {
        "id": "8v4erUf8-Tnn"
      }
    },
    {
      "cell_type": "code",
      "source": [
        "def f(x):\n",
        "  return x**2/3 + torch.sin(torch.pi*x)"
      ],
      "metadata": {
        "id": "c89FE7vc-aWy"
      },
      "execution_count": 12,
      "outputs": []
    },
    {
      "cell_type": "code",
      "source": [
        "x = torch.tensor(2.0, requires_grad=True)\n",
        "\n",
        "# швидкість навчання\n",
        "learning_rate = 1e-3\n",
        "\n",
        "def gradient(x):\n",
        "\n",
        "    for t in range(2000):\n",
        "        # обчислюємо функцію яку потрібно мінімізувати\n",
        "        loss = f(x)\n",
        "\n",
        "        # обчислюємо всі потрібні градієнти\n",
        "        loss.backward()\n",
        "\n",
        "        # вивід значення функції\n",
        "        if t % 100 == 0:\n",
        "            print(f'loss={loss.item()}')\n",
        "\n",
        "        with torch.no_grad():\n",
        "            x -= learning_rate * x.grad\n",
        "\n",
        "        # очищуємо пам'ять для повторного обчислення градієнтів\n",
        "            x.grad = None\n",
        "\n",
        "gradient(x)"
      ],
      "metadata": {
        "id": "4xwyAxC95-q9",
        "outputId": "f146a126-8301-4ebc-d867-977cdc880769",
        "colab": {
          "base_uri": "https://localhost:8080/"
        }
      },
      "execution_count": 19,
      "outputs": [
        {
          "output_type": "stream",
          "name": "stdout",
          "text": [
            "loss=1.3333334922790527\n",
            "loss=-0.01230710744857788\n",
            "loss=-0.26274728775024414\n",
            "loss=-0.2934073805809021\n",
            "loss=-0.29722774028778076\n",
            "loss=-0.29771924018859863\n",
            "loss=-0.2977832555770874\n",
            "loss=-0.29779165983200073\n",
            "loss=-0.29779279232025146\n",
            "loss=-0.297792911529541\n",
            "loss=-0.29779303073883057\n",
            "loss=-0.29779303073883057\n",
            "loss=-0.2977929711341858\n",
            "loss=-0.2977929711341858\n",
            "loss=-0.2977929711341858\n",
            "loss=-0.2977929711341858\n",
            "loss=-0.2977929711341858\n",
            "loss=-0.2977929711341858\n",
            "loss=-0.2977929711341858\n",
            "loss=-0.2977929711341858\n"
          ]
        }
      ]
    },
    {
      "cell_type": "code",
      "source": [
        "xs = torch.linspace(-3, 5, 100)\n",
        "plt.plot(xs.cpu(), f(xs).cpu(), label='f(x)')\n",
        "plt.scatter(x.item(), f(x).item(), c='red', label='min')\n",
        "plt.legend()"
      ],
      "metadata": {
        "id": "3Kv2xxhZ6vIA",
        "outputId": "2f622575-9d62-4eee-8535-614523b47fce",
        "colab": {
          "base_uri": "https://localhost:8080/",
          "height": 447
        }
      },
      "execution_count": 20,
      "outputs": [
        {
          "output_type": "execute_result",
          "data": {
            "text/plain": [
              "<matplotlib.legend.Legend at 0x7badc098ad70>"
            ]
          },
          "metadata": {},
          "execution_count": 20
        },
        {
          "output_type": "display_data",
          "data": {
            "text/plain": [
              "<Figure size 640x480 with 1 Axes>"
            ],
            "image/png": "[encoded data removed]"
          },
          "metadata": {}
        }
      ]
    },
    {
      "cell_type": "markdown",
      "source": [
        "# Завдання 7\n",
        "Застосуйте метод градієнтного спуску для функції. Мінімум функції рівний 0"
      ],
      "metadata": {
        "id": "UjHK74ES-iuO"
      }
    },
    {
      "cell_type": "code",
      "source": [
        "def f1(x, y):\n",
        "  # функція Швефеля\n",
        "  return  418.9829*2 - x*torch.sin(x.abs().sqrt()) - y*torch.sin(y.abs().sqrt())\n",
        "\n",
        "def f2(x, y):\n",
        "  # трьохгорбна функція\n",
        "  return 2*x**2  - 1.05*x**4 + 1/6*x**6 + x*y  + y**2\n",
        "\n",
        "def f3(x, y):\n",
        "  # функція птах\n",
        "  106.7645 + torch.sin(x)*torch.exp((1-torch.cos(y))**2) + torch.cos(y)*torch.exp((1-torch.sin(x))**2) + (x-y)**2"
      ],
      "metadata": {
        "id": "vRD515Ik_xM-"
      },
      "execution_count": 21,
      "outputs": []
    },
    {
      "cell_type": "code",
      "source": [
        "x = torch.tensor(2.0, requires_grad=True)\n",
        "y = torch.tensor(3.0, requires_grad=True)\n",
        "\n",
        "    # швидкість навчання\n",
        "learning_rate = 1e-3\n",
        "\n",
        "for t in range(2000):\n",
        "    # обчислюємо функцію яку потрібно мінімізувати\n",
        "    loss = f2(x, y)\n",
        "\n",
        "    # обчислюємо всі потрібні градієнти\n",
        "    loss.backward()\n",
        "\n",
        "    # вивід значення функції\n",
        "    if t % 100 == 0:\n",
        "        print(f'loss={loss.item()}')\n",
        "\n",
        "    with torch.no_grad():\n",
        "        x -= learning_rate * x.grad\n",
        "\n",
        "    # очищуємо пам'ять для повторного обчислення градієнтів\n",
        "        x.grad = None"
      ],
      "metadata": {
        "id": "j2RaZh9E-oyK",
        "outputId": "e0834ce4-026d-453f-8d27-e59a4ad72908",
        "colab": {
          "base_uri": "https://localhost:8080/"
        }
      },
      "execution_count": 22,
      "outputs": [
        {
          "output_type": "stream",
          "name": "stdout",
          "text": [
            "loss=16.866668701171875\n",
            "loss=14.764642715454102\n",
            "loss=14.156024932861328\n",
            "loss=13.175064086914062\n",
            "loss=11.33413314819336\n",
            "loss=9.552299499511719\n",
            "loss=8.62752628326416\n",
            "loss=8.187703132629395\n",
            "loss=7.9269256591796875\n",
            "loss=7.718555450439453\n",
            "loss=7.490306854248047\n",
            "loss=7.144378185272217\n",
            "loss=6.451656341552734\n",
            "loss=5.253124237060547\n",
            "loss=4.702069282531738\n",
            "loss=4.671140670776367\n",
            "loss=4.670618534088135\n",
            "loss=4.67061185836792\n",
            "loss=4.670612335205078\n",
            "loss=4.67061185836792\n"
          ]
        }
      ]
    }
  ]
}