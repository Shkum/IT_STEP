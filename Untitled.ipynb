{
  "nbformat": 4,
  "nbformat_minor": 0,
  "metadata": {
    "colab": {
      "provenance": [],
      "authorship_tag": "ABX9TyOHnFtwuwVrhHhdO3x28B7Z",
      "include_colab_link": true
    },
    "kernelspec": {
      "name": "python3",
      "display_name": "Python 3"
    },
    "language_info": {
      "name": "python"
    }
  },
  "cells": [
    {
      "cell_type": "markdown",
      "metadata": {
        "id": "view-in-github",
        "colab_type": "text"
      },
      "source": [
        "<a href=\"https://colab.research.google.com/github/Shkum/IT_STEP/blob/main/Untitled.ipynb\" target=\"_parent\"><img src=\"https://colab.research.google.com/assets/colab-badge.svg\" alt=\"Open In Colab\"/></a>"
      ]
    },
    {
      "cell_type": "code",
      "execution_count": 1,
      "metadata": {
        "id": "W-soYQ-0lA41"
      },
      "outputs": [],
      "source": [
        "import numpy as np"
      ]
    },
    {
      "cell_type": "markdown",
      "source": [
        "# Завдання 1"
      ],
      "metadata": {
        "id": "9-IDFqWx3nBc"
      }
    },
    {
      "cell_type": "code",
      "source": [
        "a = np.arange(1, 13)\n",
        "a"
      ],
      "metadata": {
        "colab": {
          "base_uri": "https://localhost:8080/"
        },
        "id": "cJ5GY2NJnNrG",
        "outputId": "863aaaf9-82ab-449f-d1b8-9530a892f92f"
      },
      "execution_count": 4,
      "outputs": [
        {
          "output_type": "execute_result",
          "data": {
            "text/plain": [
              "array([ 1,  2,  3,  4,  5,  6,  7,  8,  9, 10, 11, 12])"
            ]
          },
          "metadata": {},
          "execution_count": 4
        }
      ]
    },
    {
      "cell_type": "markdown",
      "source": [
        "# Завдання 2"
      ],
      "metadata": {
        "id": "3qs1Dbil31Un"
      }
    },
    {
      "cell_type": "code",
      "source": [
        "a = a.reshape([4,-1])\n",
        "a = a.astype('float32')\n",
        "a"
      ],
      "metadata": {
        "colab": {
          "base_uri": "https://localhost:8080/"
        },
        "id": "RKwmt26vnP9S",
        "outputId": "49728146-f1ea-4bdf-91c4-ee34c0c4c276"
      },
      "execution_count": 7,
      "outputs": [
        {
          "output_type": "execute_result",
          "data": {
            "text/plain": [
              "array([[ 1.,  2.,  3.],\n",
              "       [ 4.,  5.,  6.],\n",
              "       [ 7.,  8.,  9.],\n",
              "       [10., 11., 12.]], dtype=float32)"
            ]
          },
          "metadata": {},
          "execution_count": 7
        }
      ]
    },
    {
      "cell_type": "markdown",
      "source": [
        "# Завдання 3"
      ],
      "metadata": {
        "id": "v4eK6ErD4Ujo"
      }
    },
    {
      "cell_type": "code",
      "source": [
        "a = np.zeros((8, 8), dtype=int)\n",
        "a[::2, ::2] = 1\n",
        "a[1::2, 1::2] = 1\n",
        "a"
      ],
      "metadata": {
        "colab": {
          "base_uri": "https://localhost:8080/"
        },
        "id": "0mMRHWWJ4WVR",
        "outputId": "21cb7dcd-ffe9-4075-b5a9-343c46a5158a"
      },
      "execution_count": 9,
      "outputs": [
        {
          "output_type": "execute_result",
          "data": {
            "text/plain": [
              "array([[1, 0, 1, 0, 1, 0, 1, 0],\n",
              "       [0, 1, 0, 1, 0, 1, 0, 1],\n",
              "       [1, 0, 1, 0, 1, 0, 1, 0],\n",
              "       [0, 1, 0, 1, 0, 1, 0, 1],\n",
              "       [1, 0, 1, 0, 1, 0, 1, 0],\n",
              "       [0, 1, 0, 1, 0, 1, 0, 1],\n",
              "       [1, 0, 1, 0, 1, 0, 1, 0],\n",
              "       [0, 1, 0, 1, 0, 1, 0, 1]])"
            ]
          },
          "metadata": {},
          "execution_count": 9
        }
      ]
    },
    {
      "cell_type": "markdown",
      "source": [
        "# Завдання 4"
      ],
      "metadata": {
        "id": "xOf5TV_o5d--"
      }
    },
    {
      "cell_type": "code",
      "source": [
        "a = np.random.random((3,4))\n",
        "print(a)\n",
        "print()\n",
        "print(sum(a))\n",
        "print()\n",
        "\n",
        "print(sum(a[::]))\n",
        "\n",
        "print()\n",
        "\n",
        "print(np.sum(a, axis=0))\n",
        "\n",
        "print()\n",
        "\n",
        "print(np.sum(a, axis=1))"
      ],
      "metadata": {
        "colab": {
          "base_uri": "https://localhost:8080/"
        },
        "id": "EDK13oro5fSp",
        "outputId": "e28c2fbb-22dd-434e-f117-3db69e1bc8d0"
      },
      "execution_count": 16,
      "outputs": [
        {
          "output_type": "stream",
          "name": "stdout",
          "text": [
            "[[0.49212417 0.33470024 0.82456482 0.23272788]\n",
            " [0.50783649 0.87037207 0.0274499  0.7693229 ]\n",
            " [0.53259986 0.28974734 0.77934803 0.32265742]]\n",
            "\n",
            "[1.53256052 1.49481965 1.63136275 1.3247082 ]\n",
            "\n",
            "[1.53256052 1.49481965 1.63136275 1.3247082 ]\n",
            "\n",
            "[1.53256052 1.49481965 1.63136275 1.3247082 ]\n",
            "\n",
            "[1.88411712 2.17498136 1.92435265]\n"
          ]
        }
      ]
    }
  ]
}